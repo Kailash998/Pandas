{
 "cells": [
  {
   "cell_type": "code",
   "execution_count": 1,
   "id": "ce089a70",
   "metadata": {},
   "outputs": [],
   "source": [
    "import pandas as pd\n",
    "import numpy as np"
   ]
  },
  {
   "cell_type": "code",
   "execution_count": 2,
   "id": "1b97fd2d",
   "metadata": {},
   "outputs": [],
   "source": [
    "Data=pd.read_csv('HR_data1.csv')"
   ]
  },
  {
   "cell_type": "code",
   "execution_count": 3,
   "id": "cf4565e5",
   "metadata": {},
   "outputs": [
    {
     "data": {
      "text/html": [
       "<div>\n",
       "<style scoped>\n",
       "    .dataframe tbody tr th:only-of-type {\n",
       "        vertical-align: middle;\n",
       "    }\n",
       "\n",
       "    .dataframe tbody tr th {\n",
       "        vertical-align: top;\n",
       "    }\n",
       "\n",
       "    .dataframe thead th {\n",
       "        text-align: right;\n",
       "    }\n",
       "</style>\n",
       "<table border=\"1\" class=\"dataframe\">\n",
       "  <thead>\n",
       "    <tr style=\"text-align: right;\">\n",
       "      <th></th>\n",
       "      <th>Age</th>\n",
       "      <th>Workclass</th>\n",
       "      <th>Education</th>\n",
       "      <th>Education_Num</th>\n",
       "      <th>Martial_Status</th>\n",
       "      <th>Occupation</th>\n",
       "      <th>Relationship</th>\n",
       "      <th>Race</th>\n",
       "      <th>Gender</th>\n",
       "      <th>Capital_Gain</th>\n",
       "      <th>Capital_Loss</th>\n",
       "      <th>Hours_per_week</th>\n",
       "      <th>Country</th>\n",
       "      <th>Salary_Group</th>\n",
       "    </tr>\n",
       "  </thead>\n",
       "  <tbody>\n",
       "    <tr>\n",
       "      <th>0</th>\n",
       "      <td>39.0</td>\n",
       "      <td>State-gov</td>\n",
       "      <td>Bachelors</td>\n",
       "      <td>13</td>\n",
       "      <td>Never-married</td>\n",
       "      <td>Adm-clerical</td>\n",
       "      <td>Not-in-family</td>\n",
       "      <td>White</td>\n",
       "      <td>Male</td>\n",
       "      <td>2174</td>\n",
       "      <td>0</td>\n",
       "      <td>40.0</td>\n",
       "      <td>United-States</td>\n",
       "      <td>&lt;=50K</td>\n",
       "    </tr>\n",
       "    <tr>\n",
       "      <th>1</th>\n",
       "      <td>50.0</td>\n",
       "      <td>Self-emp-not-inc</td>\n",
       "      <td>Bachelors</td>\n",
       "      <td>13</td>\n",
       "      <td>Married-civ-spouse</td>\n",
       "      <td>Exec-managerial</td>\n",
       "      <td>Husband</td>\n",
       "      <td>White</td>\n",
       "      <td>Male</td>\n",
       "      <td>0</td>\n",
       "      <td>0</td>\n",
       "      <td>13.0</td>\n",
       "      <td>United-States</td>\n",
       "      <td>&lt;=50K</td>\n",
       "    </tr>\n",
       "    <tr>\n",
       "      <th>2</th>\n",
       "      <td>38.0</td>\n",
       "      <td>Private</td>\n",
       "      <td>HS-grad</td>\n",
       "      <td>9</td>\n",
       "      <td>Divorced</td>\n",
       "      <td>Handlers-cleaners</td>\n",
       "      <td>Not-in-family</td>\n",
       "      <td>White</td>\n",
       "      <td>Male</td>\n",
       "      <td>0</td>\n",
       "      <td>0</td>\n",
       "      <td>40.0</td>\n",
       "      <td>United-States</td>\n",
       "      <td>&lt;=50K</td>\n",
       "    </tr>\n",
       "    <tr>\n",
       "      <th>3</th>\n",
       "      <td>53.0</td>\n",
       "      <td>Private</td>\n",
       "      <td>11th</td>\n",
       "      <td>7</td>\n",
       "      <td>Married-civ-spouse</td>\n",
       "      <td>Handlers-cleaners</td>\n",
       "      <td>Husband</td>\n",
       "      <td>Black</td>\n",
       "      <td>Male</td>\n",
       "      <td>0</td>\n",
       "      <td>0</td>\n",
       "      <td>40.0</td>\n",
       "      <td>United-States</td>\n",
       "      <td>&lt;=50K</td>\n",
       "    </tr>\n",
       "    <tr>\n",
       "      <th>4</th>\n",
       "      <td>28.0</td>\n",
       "      <td>Private</td>\n",
       "      <td>Bachelors</td>\n",
       "      <td>13</td>\n",
       "      <td>Married-civ-spouse</td>\n",
       "      <td>Prof-specialty</td>\n",
       "      <td>Wife</td>\n",
       "      <td>Black</td>\n",
       "      <td>Female</td>\n",
       "      <td>0</td>\n",
       "      <td>0</td>\n",
       "      <td>40.0</td>\n",
       "      <td>Cuba</td>\n",
       "      <td>&lt;=50K</td>\n",
       "    </tr>\n",
       "  </tbody>\n",
       "</table>\n",
       "</div>"
      ],
      "text/plain": [
       "    Age          Workclass   Education  Education_Num       Martial_Status  \\\n",
       "0  39.0          State-gov   Bachelors             13        Never-married   \n",
       "1  50.0   Self-emp-not-inc   Bachelors             13   Married-civ-spouse   \n",
       "2  38.0            Private     HS-grad              9             Divorced   \n",
       "3  53.0            Private        11th              7   Married-civ-spouse   \n",
       "4  28.0            Private   Bachelors             13   Married-civ-spouse   \n",
       "\n",
       "           Occupation    Relationship    Race   Gender  Capital_Gain  \\\n",
       "0        Adm-clerical   Not-in-family   White     Male          2174   \n",
       "1     Exec-managerial         Husband   White     Male             0   \n",
       "2   Handlers-cleaners   Not-in-family   White     Male             0   \n",
       "3   Handlers-cleaners         Husband   Black     Male             0   \n",
       "4      Prof-specialty            Wife   Black   Female             0   \n",
       "\n",
       "   Capital_Loss  Hours_per_week         Country Salary_Group  \n",
       "0             0            40.0   United-States        <=50K  \n",
       "1             0            13.0   United-States        <=50K  \n",
       "2             0            40.0   United-States        <=50K  \n",
       "3             0            40.0   United-States        <=50K  \n",
       "4             0            40.0            Cuba        <=50K  "
      ]
     },
     "execution_count": 3,
     "metadata": {},
     "output_type": "execute_result"
    }
   ],
   "source": [
    "Data.head()"
   ]
  },
  {
   "cell_type": "code",
   "execution_count": 4,
   "id": "aedacde8",
   "metadata": {},
   "outputs": [
    {
     "data": {
      "text/plain": [
       "array([[39.0, ' State-gov', ' Bachelors', ..., 40.0, ' United-States',\n",
       "        ' <=50K'],\n",
       "       [50.0, ' Self-emp-not-inc', ' Bachelors', ..., 13.0,\n",
       "        ' United-States', ' <=50K'],\n",
       "       [38.0, ' Private', ' HS-grad', ..., 40.0, ' United-States',\n",
       "        ' <=50K'],\n",
       "       ...,\n",
       "       [38.0, ' Private', ' Bachelors', ..., 50.0, ' United-States',\n",
       "        ' <=50K.'],\n",
       "       [44.0, ' Private', ' Bachelors', ..., 40.0, ' United-States',\n",
       "        ' <=50K.'],\n",
       "       [35.0, ' Self-emp-inc', ' Bachelors', ..., 60.0, ' United-States',\n",
       "        ' >50K.']], dtype=object)"
      ]
     },
     "execution_count": 4,
     "metadata": {},
     "output_type": "execute_result"
    }
   ],
   "source": [
    "Data_np=np.array(Data)\n",
    "Data_np"
   ]
  },
  {
   "cell_type": "code",
   "execution_count": 5,
   "id": "333b806b",
   "metadata": {},
   "outputs": [],
   "source": [
    "#data strucutures forPANDAS\n",
    "#series-----one column\n",
    "#DataFrames-----multiple column"
   ]
  },
  {
   "cell_type": "code",
   "execution_count": 6,
   "id": "c5ca4fa5",
   "metadata": {},
   "outputs": [
    {
     "data": {
      "text/plain": [
       "pandas.core.frame.DataFrame"
      ]
     },
     "execution_count": 6,
     "metadata": {},
     "output_type": "execute_result"
    }
   ],
   "source": [
    "type(Data)"
   ]
  },
  {
   "cell_type": "code",
   "execution_count": 7,
   "id": "6741f4f1",
   "metadata": {},
   "outputs": [],
   "source": [
    "#Row----Samples(Obeservation)\n",
    "#column----Features"
   ]
  },
  {
   "cell_type": "code",
   "execution_count": 8,
   "id": "ac67825f",
   "metadata": {},
   "outputs": [
    {
     "data": {
      "text/html": [
       "<div>\n",
       "<style scoped>\n",
       "    .dataframe tbody tr th:only-of-type {\n",
       "        vertical-align: middle;\n",
       "    }\n",
       "\n",
       "    .dataframe tbody tr th {\n",
       "        vertical-align: top;\n",
       "    }\n",
       "\n",
       "    .dataframe thead th {\n",
       "        text-align: right;\n",
       "    }\n",
       "</style>\n",
       "<table border=\"1\" class=\"dataframe\">\n",
       "  <thead>\n",
       "    <tr style=\"text-align: right;\">\n",
       "      <th></th>\n",
       "      <th>Age</th>\n",
       "      <th>Workclass</th>\n",
       "      <th>Education</th>\n",
       "      <th>Education_Num</th>\n",
       "      <th>Martial_Status</th>\n",
       "      <th>Occupation</th>\n",
       "      <th>Relationship</th>\n",
       "      <th>Race</th>\n",
       "      <th>Gender</th>\n",
       "      <th>Capital_Gain</th>\n",
       "      <th>Capital_Loss</th>\n",
       "      <th>Hours_per_week</th>\n",
       "      <th>Country</th>\n",
       "      <th>Salary_Group</th>\n",
       "    </tr>\n",
       "  </thead>\n",
       "  <tbody>\n",
       "    <tr>\n",
       "      <th>36522</th>\n",
       "      <td>39.0</td>\n",
       "      <td>Private</td>\n",
       "      <td>Bachelors</td>\n",
       "      <td>13</td>\n",
       "      <td>Divorced</td>\n",
       "      <td>Prof-specialty</td>\n",
       "      <td>Not-in-family</td>\n",
       "      <td>White</td>\n",
       "      <td>Female</td>\n",
       "      <td>0</td>\n",
       "      <td>0</td>\n",
       "      <td>36.0</td>\n",
       "      <td>United-States</td>\n",
       "      <td>&lt;=50K.</td>\n",
       "    </tr>\n",
       "    <tr>\n",
       "      <th>36523</th>\n",
       "      <td>64.0</td>\n",
       "      <td>NaN</td>\n",
       "      <td>HS-grad</td>\n",
       "      <td>9</td>\n",
       "      <td>Widowed</td>\n",
       "      <td>NaN</td>\n",
       "      <td>Other-relative</td>\n",
       "      <td>Black</td>\n",
       "      <td>Male</td>\n",
       "      <td>0</td>\n",
       "      <td>0</td>\n",
       "      <td>40.0</td>\n",
       "      <td>United-States</td>\n",
       "      <td>&lt;=50K.</td>\n",
       "    </tr>\n",
       "    <tr>\n",
       "      <th>36524</th>\n",
       "      <td>38.0</td>\n",
       "      <td>Private</td>\n",
       "      <td>Bachelors</td>\n",
       "      <td>13</td>\n",
       "      <td>Married-civ-spouse</td>\n",
       "      <td>Prof-specialty</td>\n",
       "      <td>Husband</td>\n",
       "      <td>White</td>\n",
       "      <td>Male</td>\n",
       "      <td>0</td>\n",
       "      <td>0</td>\n",
       "      <td>50.0</td>\n",
       "      <td>United-States</td>\n",
       "      <td>&lt;=50K.</td>\n",
       "    </tr>\n",
       "    <tr>\n",
       "      <th>36525</th>\n",
       "      <td>44.0</td>\n",
       "      <td>Private</td>\n",
       "      <td>Bachelors</td>\n",
       "      <td>13</td>\n",
       "      <td>Divorced</td>\n",
       "      <td>Adm-clerical</td>\n",
       "      <td>Own-child</td>\n",
       "      <td>Asian-Pac-Islander</td>\n",
       "      <td>Male</td>\n",
       "      <td>5455</td>\n",
       "      <td>0</td>\n",
       "      <td>40.0</td>\n",
       "      <td>United-States</td>\n",
       "      <td>&lt;=50K.</td>\n",
       "    </tr>\n",
       "    <tr>\n",
       "      <th>36526</th>\n",
       "      <td>35.0</td>\n",
       "      <td>Self-emp-inc</td>\n",
       "      <td>Bachelors</td>\n",
       "      <td>13</td>\n",
       "      <td>Married-civ-spouse</td>\n",
       "      <td>Exec-managerial</td>\n",
       "      <td>Husband</td>\n",
       "      <td>White</td>\n",
       "      <td>Male</td>\n",
       "      <td>0</td>\n",
       "      <td>0</td>\n",
       "      <td>60.0</td>\n",
       "      <td>United-States</td>\n",
       "      <td>&gt;50K.</td>\n",
       "    </tr>\n",
       "  </tbody>\n",
       "</table>\n",
       "</div>"
      ],
      "text/plain": [
       "        Age      Workclass   Education  Education_Num       Martial_Status  \\\n",
       "36522  39.0        Private   Bachelors             13             Divorced   \n",
       "36523  64.0            NaN     HS-grad              9              Widowed   \n",
       "36524  38.0        Private   Bachelors             13   Married-civ-spouse   \n",
       "36525  44.0        Private   Bachelors             13             Divorced   \n",
       "36526  35.0   Self-emp-inc   Bachelors             13   Married-civ-spouse   \n",
       "\n",
       "             Occupation     Relationship                 Race   Gender  \\\n",
       "36522    Prof-specialty    Not-in-family                White   Female   \n",
       "36523               NaN   Other-relative                Black     Male   \n",
       "36524    Prof-specialty          Husband                White     Male   \n",
       "36525      Adm-clerical        Own-child   Asian-Pac-Islander     Male   \n",
       "36526   Exec-managerial          Husband                White     Male   \n",
       "\n",
       "       Capital_Gain  Capital_Loss  Hours_per_week         Country Salary_Group  \n",
       "36522             0             0            36.0   United-States       <=50K.  \n",
       "36523             0             0            40.0   United-States       <=50K.  \n",
       "36524             0             0            50.0   United-States       <=50K.  \n",
       "36525          5455             0            40.0   United-States       <=50K.  \n",
       "36526             0             0            60.0   United-States        >50K.  "
      ]
     },
     "execution_count": 8,
     "metadata": {},
     "output_type": "execute_result"
    }
   ],
   "source": [
    "Data.tail()"
   ]
  },
  {
   "cell_type": "code",
   "execution_count": 9,
   "id": "c752f914",
   "metadata": {},
   "outputs": [
    {
     "data": {
      "text/html": [
       "<div>\n",
       "<style scoped>\n",
       "    .dataframe tbody tr th:only-of-type {\n",
       "        vertical-align: middle;\n",
       "    }\n",
       "\n",
       "    .dataframe tbody tr th {\n",
       "        vertical-align: top;\n",
       "    }\n",
       "\n",
       "    .dataframe thead th {\n",
       "        text-align: right;\n",
       "    }\n",
       "</style>\n",
       "<table border=\"1\" class=\"dataframe\">\n",
       "  <thead>\n",
       "    <tr style=\"text-align: right;\">\n",
       "      <th></th>\n",
       "      <th>Name</th>\n",
       "      <th>Age</th>\n",
       "      <th>Exp</th>\n",
       "    </tr>\n",
       "  </thead>\n",
       "  <tbody>\n",
       "    <tr>\n",
       "      <th>0</th>\n",
       "      <td>kumar</td>\n",
       "      <td>24</td>\n",
       "      <td>2</td>\n",
       "    </tr>\n",
       "    <tr>\n",
       "      <th>1</th>\n",
       "      <td>kumar</td>\n",
       "      <td>23</td>\n",
       "      <td>1</td>\n",
       "    </tr>\n",
       "    <tr>\n",
       "      <th>2</th>\n",
       "      <td>raj</td>\n",
       "      <td>26</td>\n",
       "      <td>3</td>\n",
       "    </tr>\n",
       "  </tbody>\n",
       "</table>\n",
       "</div>"
      ],
      "text/plain": [
       "    Name  Age  Exp\n",
       "0  kumar   24    2\n",
       "1  kumar   23    1\n",
       "2    raj   26    3"
      ]
     },
     "execution_count": 9,
     "metadata": {},
     "output_type": "execute_result"
    }
   ],
   "source": [
    "pd.DataFrame({'Name':['kumar','kumar','raj'],'Age':[24,23,26],'Exp':[2,1,3]})"
   ]
  },
  {
   "cell_type": "code",
   "execution_count": 10,
   "id": "2d4d028e",
   "metadata": {},
   "outputs": [
    {
     "data": {
      "text/plain": [
       "39.0"
      ]
     },
     "execution_count": 10,
     "metadata": {},
     "output_type": "execute_result"
    }
   ],
   "source": [
    "Data.iloc[0,0]  #iloc use to locate the cell(index location-iloc)"
   ]
  },
  {
   "cell_type": "code",
   "execution_count": 11,
   "id": "4abf0d7d",
   "metadata": {},
   "outputs": [
    {
     "data": {
      "text/plain": [
       "Age                         39.0\n",
       "Workclass              State-gov\n",
       "Education              Bachelors\n",
       "Education_Num                 13\n",
       "Martial_Status     Never-married\n",
       "Occupation          Adm-clerical\n",
       "Relationship       Not-in-family\n",
       "Race                       White\n",
       "Gender                      Male\n",
       "Capital_Gain                2174\n",
       "Capital_Loss                   0\n",
       "Hours_per_week              40.0\n",
       "Country            United-States\n",
       "Salary_Group               <=50K\n",
       "Name: 0, dtype: object"
      ]
     },
     "execution_count": 11,
     "metadata": {},
     "output_type": "execute_result"
    }
   ],
   "source": [
    "Data.iloc[0,:]"
   ]
  },
  {
   "cell_type": "code",
   "execution_count": 12,
   "id": "d68afb1a",
   "metadata": {},
   "outputs": [
    {
     "data": {
      "text/html": [
       "<div>\n",
       "<style scoped>\n",
       "    .dataframe tbody tr th:only-of-type {\n",
       "        vertical-align: middle;\n",
       "    }\n",
       "\n",
       "    .dataframe tbody tr th {\n",
       "        vertical-align: top;\n",
       "    }\n",
       "\n",
       "    .dataframe thead th {\n",
       "        text-align: right;\n",
       "    }\n",
       "</style>\n",
       "<table border=\"1\" class=\"dataframe\">\n",
       "  <thead>\n",
       "    <tr style=\"text-align: right;\">\n",
       "      <th></th>\n",
       "      <th>Age</th>\n",
       "      <th>Workclass</th>\n",
       "      <th>Education</th>\n",
       "      <th>Education_Num</th>\n",
       "      <th>Martial_Status</th>\n",
       "      <th>Occupation</th>\n",
       "      <th>Relationship</th>\n",
       "      <th>Race</th>\n",
       "      <th>Gender</th>\n",
       "      <th>Capital_Gain</th>\n",
       "      <th>Capital_Loss</th>\n",
       "      <th>Hours_per_week</th>\n",
       "      <th>Country</th>\n",
       "      <th>Salary_Group</th>\n",
       "    </tr>\n",
       "  </thead>\n",
       "  <tbody>\n",
       "    <tr>\n",
       "      <th>0</th>\n",
       "      <td>39.0</td>\n",
       "      <td>State-gov</td>\n",
       "      <td>Bachelors</td>\n",
       "      <td>13</td>\n",
       "      <td>Never-married</td>\n",
       "      <td>Adm-clerical</td>\n",
       "      <td>Not-in-family</td>\n",
       "      <td>White</td>\n",
       "      <td>Male</td>\n",
       "      <td>2174</td>\n",
       "      <td>0</td>\n",
       "      <td>40.0</td>\n",
       "      <td>United-States</td>\n",
       "      <td>&lt;=50K</td>\n",
       "    </tr>\n",
       "    <tr>\n",
       "      <th>1</th>\n",
       "      <td>50.0</td>\n",
       "      <td>Self-emp-not-inc</td>\n",
       "      <td>Bachelors</td>\n",
       "      <td>13</td>\n",
       "      <td>Married-civ-spouse</td>\n",
       "      <td>Exec-managerial</td>\n",
       "      <td>Husband</td>\n",
       "      <td>White</td>\n",
       "      <td>Male</td>\n",
       "      <td>0</td>\n",
       "      <td>0</td>\n",
       "      <td>13.0</td>\n",
       "      <td>United-States</td>\n",
       "      <td>&lt;=50K</td>\n",
       "    </tr>\n",
       "    <tr>\n",
       "      <th>2</th>\n",
       "      <td>38.0</td>\n",
       "      <td>Private</td>\n",
       "      <td>HS-grad</td>\n",
       "      <td>9</td>\n",
       "      <td>Divorced</td>\n",
       "      <td>Handlers-cleaners</td>\n",
       "      <td>Not-in-family</td>\n",
       "      <td>White</td>\n",
       "      <td>Male</td>\n",
       "      <td>0</td>\n",
       "      <td>0</td>\n",
       "      <td>40.0</td>\n",
       "      <td>United-States</td>\n",
       "      <td>&lt;=50K</td>\n",
       "    </tr>\n",
       "    <tr>\n",
       "      <th>3</th>\n",
       "      <td>53.0</td>\n",
       "      <td>Private</td>\n",
       "      <td>11th</td>\n",
       "      <td>7</td>\n",
       "      <td>Married-civ-spouse</td>\n",
       "      <td>Handlers-cleaners</td>\n",
       "      <td>Husband</td>\n",
       "      <td>Black</td>\n",
       "      <td>Male</td>\n",
       "      <td>0</td>\n",
       "      <td>0</td>\n",
       "      <td>40.0</td>\n",
       "      <td>United-States</td>\n",
       "      <td>&lt;=50K</td>\n",
       "    </tr>\n",
       "    <tr>\n",
       "      <th>4</th>\n",
       "      <td>28.0</td>\n",
       "      <td>Private</td>\n",
       "      <td>Bachelors</td>\n",
       "      <td>13</td>\n",
       "      <td>Married-civ-spouse</td>\n",
       "      <td>Prof-specialty</td>\n",
       "      <td>Wife</td>\n",
       "      <td>Black</td>\n",
       "      <td>Female</td>\n",
       "      <td>0</td>\n",
       "      <td>0</td>\n",
       "      <td>40.0</td>\n",
       "      <td>Cuba</td>\n",
       "      <td>&lt;=50K</td>\n",
       "    </tr>\n",
       "  </tbody>\n",
       "</table>\n",
       "</div>"
      ],
      "text/plain": [
       "    Age          Workclass   Education  Education_Num       Martial_Status  \\\n",
       "0  39.0          State-gov   Bachelors             13        Never-married   \n",
       "1  50.0   Self-emp-not-inc   Bachelors             13   Married-civ-spouse   \n",
       "2  38.0            Private     HS-grad              9             Divorced   \n",
       "3  53.0            Private        11th              7   Married-civ-spouse   \n",
       "4  28.0            Private   Bachelors             13   Married-civ-spouse   \n",
       "\n",
       "           Occupation    Relationship    Race   Gender  Capital_Gain  \\\n",
       "0        Adm-clerical   Not-in-family   White     Male          2174   \n",
       "1     Exec-managerial         Husband   White     Male             0   \n",
       "2   Handlers-cleaners   Not-in-family   White     Male             0   \n",
       "3   Handlers-cleaners         Husband   Black     Male             0   \n",
       "4      Prof-specialty            Wife   Black   Female             0   \n",
       "\n",
       "   Capital_Loss  Hours_per_week         Country Salary_Group  \n",
       "0             0            40.0   United-States        <=50K  \n",
       "1             0            13.0   United-States        <=50K  \n",
       "2             0            40.0   United-States        <=50K  \n",
       "3             0            40.0   United-States        <=50K  \n",
       "4             0            40.0            Cuba        <=50K  "
      ]
     },
     "execution_count": 12,
     "metadata": {},
     "output_type": "execute_result"
    }
   ],
   "source": [
    "#First 5 employee info\n",
    "Data.iloc[0:5,:]"
   ]
  },
  {
   "cell_type": "code",
   "execution_count": 13,
   "id": "0223e735",
   "metadata": {},
   "outputs": [
    {
     "data": {
      "text/plain": [
       "0        39.0\n",
       "1        50.0\n",
       "2        38.0\n",
       "3        53.0\n",
       "4        28.0\n",
       "         ... \n",
       "36522    39.0\n",
       "36523    64.0\n",
       "36524    38.0\n",
       "36525    44.0\n",
       "36526    35.0\n",
       "Name: Age, Length: 36527, dtype: float64"
      ]
     },
     "execution_count": 13,
     "metadata": {},
     "output_type": "execute_result"
    }
   ],
   "source": [
    "#first column\n",
    "Data.iloc[:,0]"
   ]
  },
  {
   "cell_type": "code",
   "execution_count": 14,
   "id": "0e0000f0",
   "metadata": {},
   "outputs": [
    {
     "data": {
      "text/plain": [
       "0        39.0\n",
       "1        50.0\n",
       "2        38.0\n",
       "3        53.0\n",
       "4        28.0\n",
       "         ... \n",
       "36522    39.0\n",
       "36523    64.0\n",
       "36524    38.0\n",
       "36525    44.0\n",
       "36526    35.0\n",
       "Name: Age, Length: 36527, dtype: float64"
      ]
     },
     "execution_count": 14,
     "metadata": {},
     "output_type": "execute_result"
    }
   ],
   "source": [
    "#acces column use column head also\n",
    "Data['Age']"
   ]
  },
  {
   "cell_type": "code",
   "execution_count": 15,
   "id": "1db4ed53",
   "metadata": {},
   "outputs": [
    {
     "data": {
      "text/plain": [
       "pandas.core.series.Series"
      ]
     },
     "execution_count": 15,
     "metadata": {},
     "output_type": "execute_result"
    }
   ],
   "source": [
    "type(Data['Age'])"
   ]
  },
  {
   "cell_type": "code",
   "execution_count": 16,
   "id": "9629b232",
   "metadata": {},
   "outputs": [
    {
     "data": {
      "text/html": [
       "<div>\n",
       "<style scoped>\n",
       "    .dataframe tbody tr th:only-of-type {\n",
       "        vertical-align: middle;\n",
       "    }\n",
       "\n",
       "    .dataframe tbody tr th {\n",
       "        vertical-align: top;\n",
       "    }\n",
       "\n",
       "    .dataframe thead th {\n",
       "        text-align: right;\n",
       "    }\n",
       "</style>\n",
       "<table border=\"1\" class=\"dataframe\">\n",
       "  <thead>\n",
       "    <tr style=\"text-align: right;\">\n",
       "      <th></th>\n",
       "      <th>Age</th>\n",
       "      <th>Workclass</th>\n",
       "    </tr>\n",
       "  </thead>\n",
       "  <tbody>\n",
       "    <tr>\n",
       "      <th>0</th>\n",
       "      <td>39.0</td>\n",
       "      <td>State-gov</td>\n",
       "    </tr>\n",
       "    <tr>\n",
       "      <th>1</th>\n",
       "      <td>50.0</td>\n",
       "      <td>Self-emp-not-inc</td>\n",
       "    </tr>\n",
       "    <tr>\n",
       "      <th>2</th>\n",
       "      <td>38.0</td>\n",
       "      <td>Private</td>\n",
       "    </tr>\n",
       "    <tr>\n",
       "      <th>3</th>\n",
       "      <td>53.0</td>\n",
       "      <td>Private</td>\n",
       "    </tr>\n",
       "    <tr>\n",
       "      <th>4</th>\n",
       "      <td>28.0</td>\n",
       "      <td>Private</td>\n",
       "    </tr>\n",
       "    <tr>\n",
       "      <th>...</th>\n",
       "      <td>...</td>\n",
       "      <td>...</td>\n",
       "    </tr>\n",
       "    <tr>\n",
       "      <th>36522</th>\n",
       "      <td>39.0</td>\n",
       "      <td>Private</td>\n",
       "    </tr>\n",
       "    <tr>\n",
       "      <th>36523</th>\n",
       "      <td>64.0</td>\n",
       "      <td>NaN</td>\n",
       "    </tr>\n",
       "    <tr>\n",
       "      <th>36524</th>\n",
       "      <td>38.0</td>\n",
       "      <td>Private</td>\n",
       "    </tr>\n",
       "    <tr>\n",
       "      <th>36525</th>\n",
       "      <td>44.0</td>\n",
       "      <td>Private</td>\n",
       "    </tr>\n",
       "    <tr>\n",
       "      <th>36526</th>\n",
       "      <td>35.0</td>\n",
       "      <td>Self-emp-inc</td>\n",
       "    </tr>\n",
       "  </tbody>\n",
       "</table>\n",
       "<p>36527 rows × 2 columns</p>\n",
       "</div>"
      ],
      "text/plain": [
       "        Age          Workclass\n",
       "0      39.0          State-gov\n",
       "1      50.0   Self-emp-not-inc\n",
       "2      38.0            Private\n",
       "3      53.0            Private\n",
       "4      28.0            Private\n",
       "...     ...                ...\n",
       "36522  39.0            Private\n",
       "36523  64.0                NaN\n",
       "36524  38.0            Private\n",
       "36525  44.0            Private\n",
       "36526  35.0       Self-emp-inc\n",
       "\n",
       "[36527 rows x 2 columns]"
      ]
     },
     "execution_count": 16,
     "metadata": {},
     "output_type": "execute_result"
    }
   ],
   "source": [
    "Data.iloc[:,0:2]  #two column"
   ]
  },
  {
   "cell_type": "code",
   "execution_count": 17,
   "id": "b130c340",
   "metadata": {},
   "outputs": [
    {
     "data": {
      "text/plain": [
       "pandas.core.frame.DataFrame"
      ]
     },
     "execution_count": 17,
     "metadata": {},
     "output_type": "execute_result"
    }
   ],
   "source": [
    "type(Data.iloc[:,0:2])"
   ]
  },
  {
   "cell_type": "code",
   "execution_count": 18,
   "id": "c2590f47",
   "metadata": {},
   "outputs": [
    {
     "data": {
      "text/html": [
       "<div>\n",
       "<style scoped>\n",
       "    .dataframe tbody tr th:only-of-type {\n",
       "        vertical-align: middle;\n",
       "    }\n",
       "\n",
       "    .dataframe tbody tr th {\n",
       "        vertical-align: top;\n",
       "    }\n",
       "\n",
       "    .dataframe thead th {\n",
       "        text-align: right;\n",
       "    }\n",
       "</style>\n",
       "<table border=\"1\" class=\"dataframe\">\n",
       "  <thead>\n",
       "    <tr style=\"text-align: right;\">\n",
       "      <th></th>\n",
       "      <th>Age</th>\n",
       "      <th>Workclass</th>\n",
       "      <th>Race</th>\n",
       "    </tr>\n",
       "  </thead>\n",
       "  <tbody>\n",
       "    <tr>\n",
       "      <th>0</th>\n",
       "      <td>39.0</td>\n",
       "      <td>State-gov</td>\n",
       "      <td>White</td>\n",
       "    </tr>\n",
       "    <tr>\n",
       "      <th>1</th>\n",
       "      <td>50.0</td>\n",
       "      <td>Self-emp-not-inc</td>\n",
       "      <td>White</td>\n",
       "    </tr>\n",
       "    <tr>\n",
       "      <th>2</th>\n",
       "      <td>38.0</td>\n",
       "      <td>Private</td>\n",
       "      <td>White</td>\n",
       "    </tr>\n",
       "    <tr>\n",
       "      <th>3</th>\n",
       "      <td>53.0</td>\n",
       "      <td>Private</td>\n",
       "      <td>Black</td>\n",
       "    </tr>\n",
       "    <tr>\n",
       "      <th>4</th>\n",
       "      <td>28.0</td>\n",
       "      <td>Private</td>\n",
       "      <td>Black</td>\n",
       "    </tr>\n",
       "    <tr>\n",
       "      <th>...</th>\n",
       "      <td>...</td>\n",
       "      <td>...</td>\n",
       "      <td>...</td>\n",
       "    </tr>\n",
       "    <tr>\n",
       "      <th>36522</th>\n",
       "      <td>39.0</td>\n",
       "      <td>Private</td>\n",
       "      <td>White</td>\n",
       "    </tr>\n",
       "    <tr>\n",
       "      <th>36523</th>\n",
       "      <td>64.0</td>\n",
       "      <td>NaN</td>\n",
       "      <td>Black</td>\n",
       "    </tr>\n",
       "    <tr>\n",
       "      <th>36524</th>\n",
       "      <td>38.0</td>\n",
       "      <td>Private</td>\n",
       "      <td>White</td>\n",
       "    </tr>\n",
       "    <tr>\n",
       "      <th>36525</th>\n",
       "      <td>44.0</td>\n",
       "      <td>Private</td>\n",
       "      <td>Asian-Pac-Islander</td>\n",
       "    </tr>\n",
       "    <tr>\n",
       "      <th>36526</th>\n",
       "      <td>35.0</td>\n",
       "      <td>Self-emp-inc</td>\n",
       "      <td>White</td>\n",
       "    </tr>\n",
       "  </tbody>\n",
       "</table>\n",
       "<p>36527 rows × 3 columns</p>\n",
       "</div>"
      ],
      "text/plain": [
       "        Age          Workclass                 Race\n",
       "0      39.0          State-gov                White\n",
       "1      50.0   Self-emp-not-inc                White\n",
       "2      38.0            Private                White\n",
       "3      53.0            Private                Black\n",
       "4      28.0            Private                Black\n",
       "...     ...                ...                  ...\n",
       "36522  39.0            Private                White\n",
       "36523  64.0                NaN                Black\n",
       "36524  38.0            Private                White\n",
       "36525  44.0            Private   Asian-Pac-Islander\n",
       "36526  35.0       Self-emp-inc                White\n",
       "\n",
       "[36527 rows x 3 columns]"
      ]
     },
     "execution_count": 18,
     "metadata": {},
     "output_type": "execute_result"
    }
   ],
   "source": [
    "Data[['Age','Workclass','Race']]##pandas cannot access two column at a time unless given as separate list"
   ]
  },
  {
   "cell_type": "code",
   "execution_count": 19,
   "id": "6f99e531",
   "metadata": {},
   "outputs": [
    {
     "data": {
      "text/plain": [
       "Index(['Age', 'Workclass', 'Education', 'Education_Num', 'Martial_Status',\n",
       "       'Occupation', 'Relationship', 'Race', 'Gender', 'Capital_Gain',\n",
       "       'Capital_Loss', 'Hours_per_week', 'Country', 'Salary_Group'],\n",
       "      dtype='object')"
      ]
     },
     "execution_count": 19,
     "metadata": {},
     "output_type": "execute_result"
    }
   ],
   "source": [
    "Data.columns"
   ]
  },
  {
   "cell_type": "code",
   "execution_count": 20,
   "id": "e141dc74",
   "metadata": {},
   "outputs": [
    {
     "data": {
      "text/plain": [
       "RangeIndex(start=0, stop=36527, step=1)"
      ]
     },
     "execution_count": 20,
     "metadata": {},
     "output_type": "execute_result"
    }
   ],
   "source": [
    "Data.index   #row and column have separate index name "
   ]
  },
  {
   "cell_type": "code",
   "execution_count": 21,
   "id": "3976963d",
   "metadata": {},
   "outputs": [],
   "source": [
    "my_df=pd.DataFrame({'Name':['kumar','kumar','raj'],'Age':[24,23,26],'Exp':[2,1,3]})"
   ]
  },
  {
   "cell_type": "code",
   "execution_count": 22,
   "id": "13d6be27",
   "metadata": {},
   "outputs": [
    {
     "data": {
      "text/html": [
       "<div>\n",
       "<style scoped>\n",
       "    .dataframe tbody tr th:only-of-type {\n",
       "        vertical-align: middle;\n",
       "    }\n",
       "\n",
       "    .dataframe tbody tr th {\n",
       "        vertical-align: top;\n",
       "    }\n",
       "\n",
       "    .dataframe thead th {\n",
       "        text-align: right;\n",
       "    }\n",
       "</style>\n",
       "<table border=\"1\" class=\"dataframe\">\n",
       "  <thead>\n",
       "    <tr style=\"text-align: right;\">\n",
       "      <th></th>\n",
       "      <th>Name</th>\n",
       "      <th>Age</th>\n",
       "      <th>Exp</th>\n",
       "    </tr>\n",
       "  </thead>\n",
       "  <tbody>\n",
       "    <tr>\n",
       "      <th>0</th>\n",
       "      <td>kumar</td>\n",
       "      <td>24</td>\n",
       "      <td>2</td>\n",
       "    </tr>\n",
       "    <tr>\n",
       "      <th>1</th>\n",
       "      <td>kumar</td>\n",
       "      <td>23</td>\n",
       "      <td>1</td>\n",
       "    </tr>\n",
       "    <tr>\n",
       "      <th>2</th>\n",
       "      <td>raj</td>\n",
       "      <td>26</td>\n",
       "      <td>3</td>\n",
       "    </tr>\n",
       "  </tbody>\n",
       "</table>\n",
       "</div>"
      ],
      "text/plain": [
       "    Name  Age  Exp\n",
       "0  kumar   24    2\n",
       "1  kumar   23    1\n",
       "2    raj   26    3"
      ]
     },
     "execution_count": 22,
     "metadata": {},
     "output_type": "execute_result"
    }
   ],
   "source": [
    "my_df"
   ]
  },
  {
   "cell_type": "code",
   "execution_count": 23,
   "id": "5c321205",
   "metadata": {},
   "outputs": [
    {
     "data": {
      "text/html": [
       "<div>\n",
       "<style scoped>\n",
       "    .dataframe tbody tr th:only-of-type {\n",
       "        vertical-align: middle;\n",
       "    }\n",
       "\n",
       "    .dataframe tbody tr th {\n",
       "        vertical-align: top;\n",
       "    }\n",
       "\n",
       "    .dataframe thead th {\n",
       "        text-align: right;\n",
       "    }\n",
       "</style>\n",
       "<table border=\"1\" class=\"dataframe\">\n",
       "  <thead>\n",
       "    <tr style=\"text-align: right;\">\n",
       "      <th></th>\n",
       "      <th>Name</th>\n",
       "      <th>Age</th>\n",
       "      <th>Exp</th>\n",
       "    </tr>\n",
       "    <tr>\n",
       "      <th>Name</th>\n",
       "      <th></th>\n",
       "      <th></th>\n",
       "      <th></th>\n",
       "    </tr>\n",
       "  </thead>\n",
       "  <tbody>\n",
       "    <tr>\n",
       "      <th>kumar</th>\n",
       "      <td>kumar</td>\n",
       "      <td>24</td>\n",
       "      <td>2</td>\n",
       "    </tr>\n",
       "    <tr>\n",
       "      <th>kumar</th>\n",
       "      <td>kumar</td>\n",
       "      <td>23</td>\n",
       "      <td>1</td>\n",
       "    </tr>\n",
       "    <tr>\n",
       "      <th>raj</th>\n",
       "      <td>raj</td>\n",
       "      <td>26</td>\n",
       "      <td>3</td>\n",
       "    </tr>\n",
       "  </tbody>\n",
       "</table>\n",
       "</div>"
      ],
      "text/plain": [
       "        Name  Age  Exp\n",
       "Name                  \n",
       "kumar  kumar   24    2\n",
       "kumar  kumar   23    1\n",
       "raj      raj   26    3"
      ]
     },
     "execution_count": 23,
     "metadata": {},
     "output_type": "execute_result"
    }
   ],
   "source": [
    "my_df=my_df.set_index(my_df['Name'])\n",
    "my_df"
   ]
  },
  {
   "cell_type": "code",
   "execution_count": 24,
   "id": "ab13ea48",
   "metadata": {},
   "outputs": [
    {
     "data": {
      "text/html": [
       "<div>\n",
       "<style scoped>\n",
       "    .dataframe tbody tr th:only-of-type {\n",
       "        vertical-align: middle;\n",
       "    }\n",
       "\n",
       "    .dataframe tbody tr th {\n",
       "        vertical-align: top;\n",
       "    }\n",
       "\n",
       "    .dataframe thead th {\n",
       "        text-align: right;\n",
       "    }\n",
       "</style>\n",
       "<table border=\"1\" class=\"dataframe\">\n",
       "  <thead>\n",
       "    <tr style=\"text-align: right;\">\n",
       "      <th></th>\n",
       "      <th>Age</th>\n",
       "      <th>Exp</th>\n",
       "    </tr>\n",
       "    <tr>\n",
       "      <th>Name</th>\n",
       "      <th></th>\n",
       "      <th></th>\n",
       "    </tr>\n",
       "  </thead>\n",
       "  <tbody>\n",
       "    <tr>\n",
       "      <th>kumar</th>\n",
       "      <td>24</td>\n",
       "      <td>2</td>\n",
       "    </tr>\n",
       "    <tr>\n",
       "      <th>kumar</th>\n",
       "      <td>23</td>\n",
       "      <td>1</td>\n",
       "    </tr>\n",
       "    <tr>\n",
       "      <th>raj</th>\n",
       "      <td>26</td>\n",
       "      <td>3</td>\n",
       "    </tr>\n",
       "  </tbody>\n",
       "</table>\n",
       "</div>"
      ],
      "text/plain": [
       "       Age  Exp\n",
       "Name           \n",
       "kumar   24    2\n",
       "kumar   23    1\n",
       "raj     26    3"
      ]
     },
     "execution_count": 24,
     "metadata": {},
     "output_type": "execute_result"
    }
   ],
   "source": [
    "my_df=my_df.drop('Name',axis=1)\n",
    "my_df"
   ]
  },
  {
   "cell_type": "code",
   "execution_count": 25,
   "id": "f3f163a9",
   "metadata": {},
   "outputs": [
    {
     "data": {
      "text/plain": [
       "Age    24\n",
       "Exp     2\n",
       "Name: kumar, dtype: int64"
      ]
     },
     "execution_count": 25,
     "metadata": {},
     "output_type": "execute_result"
    }
   ],
   "source": [
    "my_df.iloc[0,:]"
   ]
  },
  {
   "cell_type": "code",
   "execution_count": 26,
   "id": "1f6c6e3e",
   "metadata": {},
   "outputs": [
    {
     "data": {
      "text/plain": [
       "26"
      ]
     },
     "execution_count": 26,
     "metadata": {},
     "output_type": "execute_result"
    }
   ],
   "source": [
    "my_df.loc['raj','Age']"
   ]
  },
  {
   "cell_type": "code",
   "execution_count": 27,
   "id": "34c4935b",
   "metadata": {},
   "outputs": [
    {
     "data": {
      "text/html": [
       "<div>\n",
       "<style scoped>\n",
       "    .dataframe tbody tr th:only-of-type {\n",
       "        vertical-align: middle;\n",
       "    }\n",
       "\n",
       "    .dataframe tbody tr th {\n",
       "        vertical-align: top;\n",
       "    }\n",
       "\n",
       "    .dataframe thead th {\n",
       "        text-align: right;\n",
       "    }\n",
       "</style>\n",
       "<table border=\"1\" class=\"dataframe\">\n",
       "  <thead>\n",
       "    <tr style=\"text-align: right;\">\n",
       "      <th></th>\n",
       "      <th>Age</th>\n",
       "      <th>Workclass</th>\n",
       "      <th>Education</th>\n",
       "      <th>Education_Num</th>\n",
       "      <th>Martial_Status</th>\n",
       "      <th>Occupation</th>\n",
       "      <th>Relationship</th>\n",
       "      <th>Race</th>\n",
       "      <th>Gender</th>\n",
       "      <th>Capital_Gain</th>\n",
       "      <th>Capital_Loss</th>\n",
       "      <th>Hours_per_week</th>\n",
       "      <th>Country</th>\n",
       "      <th>Salary_Group</th>\n",
       "    </tr>\n",
       "  </thead>\n",
       "  <tbody>\n",
       "    <tr>\n",
       "      <th>0</th>\n",
       "      <td>39.0</td>\n",
       "      <td>State-gov</td>\n",
       "      <td>Bachelors</td>\n",
       "      <td>13</td>\n",
       "      <td>Never-married</td>\n",
       "      <td>Adm-clerical</td>\n",
       "      <td>Not-in-family</td>\n",
       "      <td>White</td>\n",
       "      <td>Male</td>\n",
       "      <td>2174</td>\n",
       "      <td>0</td>\n",
       "      <td>40.0</td>\n",
       "      <td>United-States</td>\n",
       "      <td>&lt;=50K</td>\n",
       "    </tr>\n",
       "    <tr>\n",
       "      <th>1</th>\n",
       "      <td>50.0</td>\n",
       "      <td>Self-emp-not-inc</td>\n",
       "      <td>Bachelors</td>\n",
       "      <td>13</td>\n",
       "      <td>Married-civ-spouse</td>\n",
       "      <td>Exec-managerial</td>\n",
       "      <td>Husband</td>\n",
       "      <td>White</td>\n",
       "      <td>Male</td>\n",
       "      <td>0</td>\n",
       "      <td>0</td>\n",
       "      <td>13.0</td>\n",
       "      <td>United-States</td>\n",
       "      <td>&lt;=50K</td>\n",
       "    </tr>\n",
       "  </tbody>\n",
       "</table>\n",
       "</div>"
      ],
      "text/plain": [
       "    Age          Workclass   Education  Education_Num       Martial_Status  \\\n",
       "0  39.0          State-gov   Bachelors             13        Never-married   \n",
       "1  50.0   Self-emp-not-inc   Bachelors             13   Married-civ-spouse   \n",
       "\n",
       "         Occupation    Relationship    Race Gender  Capital_Gain  \\\n",
       "0      Adm-clerical   Not-in-family   White   Male          2174   \n",
       "1   Exec-managerial         Husband   White   Male             0   \n",
       "\n",
       "   Capital_Loss  Hours_per_week         Country Salary_Group  \n",
       "0             0            40.0   United-States        <=50K  \n",
       "1             0            13.0   United-States        <=50K  "
      ]
     },
     "execution_count": 27,
     "metadata": {},
     "output_type": "execute_result"
    }
   ],
   "source": [
    "Data.head(2)"
   ]
  },
  {
   "cell_type": "code",
   "execution_count": 28,
   "id": "7b91d5c0",
   "metadata": {},
   "outputs": [],
   "source": [
    "#calculate hours per day using the column hours per week\n",
    "Data['Hours_per_day']=Data['Hours_per_week']/5"
   ]
  },
  {
   "cell_type": "code",
   "execution_count": 29,
   "id": "44dffe05",
   "metadata": {},
   "outputs": [
    {
     "data": {
      "text/html": [
       "<div>\n",
       "<style scoped>\n",
       "    .dataframe tbody tr th:only-of-type {\n",
       "        vertical-align: middle;\n",
       "    }\n",
       "\n",
       "    .dataframe tbody tr th {\n",
       "        vertical-align: top;\n",
       "    }\n",
       "\n",
       "    .dataframe thead th {\n",
       "        text-align: right;\n",
       "    }\n",
       "</style>\n",
       "<table border=\"1\" class=\"dataframe\">\n",
       "  <thead>\n",
       "    <tr style=\"text-align: right;\">\n",
       "      <th></th>\n",
       "      <th>Age</th>\n",
       "      <th>Workclass</th>\n",
       "      <th>Education</th>\n",
       "      <th>Education_Num</th>\n",
       "      <th>Martial_Status</th>\n",
       "      <th>Occupation</th>\n",
       "      <th>Relationship</th>\n",
       "      <th>Race</th>\n",
       "      <th>Gender</th>\n",
       "      <th>Capital_Gain</th>\n",
       "      <th>Capital_Loss</th>\n",
       "      <th>Hours_per_week</th>\n",
       "      <th>Country</th>\n",
       "      <th>Salary_Group</th>\n",
       "      <th>Hours_per_day</th>\n",
       "    </tr>\n",
       "  </thead>\n",
       "  <tbody>\n",
       "    <tr>\n",
       "      <th>0</th>\n",
       "      <td>39.0</td>\n",
       "      <td>State-gov</td>\n",
       "      <td>Bachelors</td>\n",
       "      <td>13</td>\n",
       "      <td>Never-married</td>\n",
       "      <td>Adm-clerical</td>\n",
       "      <td>Not-in-family</td>\n",
       "      <td>White</td>\n",
       "      <td>Male</td>\n",
       "      <td>2174</td>\n",
       "      <td>0</td>\n",
       "      <td>40.0</td>\n",
       "      <td>United-States</td>\n",
       "      <td>&lt;=50K</td>\n",
       "      <td>8.0</td>\n",
       "    </tr>\n",
       "    <tr>\n",
       "      <th>1</th>\n",
       "      <td>50.0</td>\n",
       "      <td>Self-emp-not-inc</td>\n",
       "      <td>Bachelors</td>\n",
       "      <td>13</td>\n",
       "      <td>Married-civ-spouse</td>\n",
       "      <td>Exec-managerial</td>\n",
       "      <td>Husband</td>\n",
       "      <td>White</td>\n",
       "      <td>Male</td>\n",
       "      <td>0</td>\n",
       "      <td>0</td>\n",
       "      <td>13.0</td>\n",
       "      <td>United-States</td>\n",
       "      <td>&lt;=50K</td>\n",
       "      <td>2.6</td>\n",
       "    </tr>\n",
       "  </tbody>\n",
       "</table>\n",
       "</div>"
      ],
      "text/plain": [
       "    Age          Workclass   Education  Education_Num       Martial_Status  \\\n",
       "0  39.0          State-gov   Bachelors             13        Never-married   \n",
       "1  50.0   Self-emp-not-inc   Bachelors             13   Married-civ-spouse   \n",
       "\n",
       "         Occupation    Relationship    Race Gender  Capital_Gain  \\\n",
       "0      Adm-clerical   Not-in-family   White   Male          2174   \n",
       "1   Exec-managerial         Husband   White   Male             0   \n",
       "\n",
       "   Capital_Loss  Hours_per_week         Country Salary_Group  Hours_per_day  \n",
       "0             0            40.0   United-States        <=50K            8.0  \n",
       "1             0            13.0   United-States        <=50K            2.6  "
      ]
     },
     "execution_count": 29,
     "metadata": {},
     "output_type": "execute_result"
    }
   ],
   "source": [
    "Data.head(2)"
   ]
  },
  {
   "cell_type": "code",
   "execution_count": 30,
   "id": "e547d590",
   "metadata": {},
   "outputs": [
    {
     "data": {
      "text/html": [
       "<div>\n",
       "<style scoped>\n",
       "    .dataframe tbody tr th:only-of-type {\n",
       "        vertical-align: middle;\n",
       "    }\n",
       "\n",
       "    .dataframe tbody tr th {\n",
       "        vertical-align: top;\n",
       "    }\n",
       "\n",
       "    .dataframe thead th {\n",
       "        text-align: right;\n",
       "    }\n",
       "</style>\n",
       "<table border=\"1\" class=\"dataframe\">\n",
       "  <thead>\n",
       "    <tr style=\"text-align: right;\">\n",
       "      <th></th>\n",
       "      <th>Age</th>\n",
       "      <th>Education_Num</th>\n",
       "      <th>Capital_Gain</th>\n",
       "      <th>Capital_Loss</th>\n",
       "      <th>Hours_per_week</th>\n",
       "      <th>Hours_per_day</th>\n",
       "    </tr>\n",
       "  </thead>\n",
       "  <tbody>\n",
       "    <tr>\n",
       "      <th>0</th>\n",
       "      <td>39.0</td>\n",
       "      <td>13</td>\n",
       "      <td>2174</td>\n",
       "      <td>0</td>\n",
       "      <td>40.0</td>\n",
       "      <td>8.0</td>\n",
       "    </tr>\n",
       "    <tr>\n",
       "      <th>1</th>\n",
       "      <td>50.0</td>\n",
       "      <td>13</td>\n",
       "      <td>0</td>\n",
       "      <td>0</td>\n",
       "      <td>13.0</td>\n",
       "      <td>2.6</td>\n",
       "    </tr>\n",
       "  </tbody>\n",
       "</table>\n",
       "</div>"
      ],
      "text/plain": [
       "    Age  Education_Num  Capital_Gain  Capital_Loss  Hours_per_week  \\\n",
       "0  39.0             13          2174             0            40.0   \n",
       "1  50.0             13             0             0            13.0   \n",
       "\n",
       "   Hours_per_day  \n",
       "0            8.0  \n",
       "1            2.6  "
      ]
     },
     "execution_count": 30,
     "metadata": {},
     "output_type": "execute_result"
    }
   ],
   "source": [
    "Data_num=Data.select_dtypes(include=np.number)\n",
    "Data_num.head(2)"
   ]
  },
  {
   "cell_type": "code",
   "execution_count": 31,
   "id": "06d279a1",
   "metadata": {},
   "outputs": [
    {
     "data": {
      "text/html": [
       "<div>\n",
       "<style scoped>\n",
       "    .dataframe tbody tr th:only-of-type {\n",
       "        vertical-align: middle;\n",
       "    }\n",
       "\n",
       "    .dataframe tbody tr th {\n",
       "        vertical-align: top;\n",
       "    }\n",
       "\n",
       "    .dataframe thead th {\n",
       "        text-align: right;\n",
       "    }\n",
       "</style>\n",
       "<table border=\"1\" class=\"dataframe\">\n",
       "  <thead>\n",
       "    <tr style=\"text-align: right;\">\n",
       "      <th></th>\n",
       "      <th>Workclass</th>\n",
       "      <th>Education</th>\n",
       "      <th>Martial_Status</th>\n",
       "      <th>Occupation</th>\n",
       "      <th>Relationship</th>\n",
       "      <th>Race</th>\n",
       "      <th>Gender</th>\n",
       "      <th>Country</th>\n",
       "      <th>Salary_Group</th>\n",
       "    </tr>\n",
       "  </thead>\n",
       "  <tbody>\n",
       "    <tr>\n",
       "      <th>0</th>\n",
       "      <td>State-gov</td>\n",
       "      <td>Bachelors</td>\n",
       "      <td>Never-married</td>\n",
       "      <td>Adm-clerical</td>\n",
       "      <td>Not-in-family</td>\n",
       "      <td>White</td>\n",
       "      <td>Male</td>\n",
       "      <td>United-States</td>\n",
       "      <td>&lt;=50K</td>\n",
       "    </tr>\n",
       "    <tr>\n",
       "      <th>1</th>\n",
       "      <td>Self-emp-not-inc</td>\n",
       "      <td>Bachelors</td>\n",
       "      <td>Married-civ-spouse</td>\n",
       "      <td>Exec-managerial</td>\n",
       "      <td>Husband</td>\n",
       "      <td>White</td>\n",
       "      <td>Male</td>\n",
       "      <td>United-States</td>\n",
       "      <td>&lt;=50K</td>\n",
       "    </tr>\n",
       "  </tbody>\n",
       "</table>\n",
       "</div>"
      ],
      "text/plain": [
       "           Workclass   Education       Martial_Status        Occupation  \\\n",
       "0          State-gov   Bachelors        Never-married      Adm-clerical   \n",
       "1   Self-emp-not-inc   Bachelors   Married-civ-spouse   Exec-managerial   \n",
       "\n",
       "     Relationship    Race Gender         Country Salary_Group  \n",
       "0   Not-in-family   White   Male   United-States        <=50K  \n",
       "1         Husband   White   Male   United-States        <=50K  "
      ]
     },
     "execution_count": 31,
     "metadata": {},
     "output_type": "execute_result"
    }
   ],
   "source": [
    "Data_cat=Data.select_dtypes(exclude=np.number)\n",
    "Data_cat.head(2)"
   ]
  },
  {
   "cell_type": "code",
   "execution_count": 32,
   "id": "599789bb",
   "metadata": {},
   "outputs": [
    {
     "data": {
      "text/plain": [
       "<bound method DataFrame.info of         Age          Workclass   Education  Education_Num  \\\n",
       "0      39.0          State-gov   Bachelors             13   \n",
       "1      50.0   Self-emp-not-inc   Bachelors             13   \n",
       "2      38.0            Private     HS-grad              9   \n",
       "3      53.0            Private        11th              7   \n",
       "4      28.0            Private   Bachelors             13   \n",
       "...     ...                ...         ...            ...   \n",
       "36522  39.0            Private   Bachelors             13   \n",
       "36523  64.0                NaN     HS-grad              9   \n",
       "36524  38.0            Private   Bachelors             13   \n",
       "36525  44.0            Private   Bachelors             13   \n",
       "36526  35.0       Self-emp-inc   Bachelors             13   \n",
       "\n",
       "            Martial_Status          Occupation     Relationship  \\\n",
       "0            Never-married        Adm-clerical    Not-in-family   \n",
       "1       Married-civ-spouse     Exec-managerial          Husband   \n",
       "2                 Divorced   Handlers-cleaners    Not-in-family   \n",
       "3       Married-civ-spouse   Handlers-cleaners          Husband   \n",
       "4       Married-civ-spouse      Prof-specialty             Wife   \n",
       "...                    ...                 ...              ...   \n",
       "36522             Divorced      Prof-specialty    Not-in-family   \n",
       "36523              Widowed                 NaN   Other-relative   \n",
       "36524   Married-civ-spouse      Prof-specialty          Husband   \n",
       "36525             Divorced        Adm-clerical        Own-child   \n",
       "36526   Married-civ-spouse     Exec-managerial          Husband   \n",
       "\n",
       "                      Race   Gender  Capital_Gain  Capital_Loss  \\\n",
       "0                    White     Male          2174             0   \n",
       "1                    White     Male             0             0   \n",
       "2                    White     Male             0             0   \n",
       "3                    Black     Male             0             0   \n",
       "4                    Black   Female             0             0   \n",
       "...                    ...      ...           ...           ...   \n",
       "36522                White   Female             0             0   \n",
       "36523                Black     Male             0             0   \n",
       "36524                White     Male             0             0   \n",
       "36525   Asian-Pac-Islander     Male          5455             0   \n",
       "36526                White     Male             0             0   \n",
       "\n",
       "       Hours_per_week         Country Salary_Group  Hours_per_day  \n",
       "0                40.0   United-States        <=50K            8.0  \n",
       "1                13.0   United-States        <=50K            2.6  \n",
       "2                40.0   United-States        <=50K            8.0  \n",
       "3                40.0   United-States        <=50K            8.0  \n",
       "4                40.0            Cuba        <=50K            8.0  \n",
       "...               ...             ...          ...            ...  \n",
       "36522            36.0   United-States       <=50K.            7.2  \n",
       "36523            40.0   United-States       <=50K.            8.0  \n",
       "36524            50.0   United-States       <=50K.           10.0  \n",
       "36525            40.0   United-States       <=50K.            8.0  \n",
       "36526            60.0   United-States        >50K.           12.0  \n",
       "\n",
       "[36527 rows x 15 columns]>"
      ]
     },
     "execution_count": 32,
     "metadata": {},
     "output_type": "execute_result"
    }
   ],
   "source": [
    "Data.info"
   ]
  },
  {
   "cell_type": "code",
   "execution_count": 33,
   "id": "9a70965f",
   "metadata": {},
   "outputs": [],
   "source": [
    "#Descriptive for the Numeric column"
   ]
  },
  {
   "cell_type": "code",
   "execution_count": 34,
   "id": "4606193f",
   "metadata": {},
   "outputs": [
    {
     "data": {
      "text/html": [
       "<div>\n",
       "<style scoped>\n",
       "    .dataframe tbody tr th:only-of-type {\n",
       "        vertical-align: middle;\n",
       "    }\n",
       "\n",
       "    .dataframe tbody tr th {\n",
       "        vertical-align: top;\n",
       "    }\n",
       "\n",
       "    .dataframe thead th {\n",
       "        text-align: right;\n",
       "    }\n",
       "</style>\n",
       "<table border=\"1\" class=\"dataframe\">\n",
       "  <thead>\n",
       "    <tr style=\"text-align: right;\">\n",
       "      <th></th>\n",
       "      <th>Age</th>\n",
       "      <th>Education_Num</th>\n",
       "      <th>Capital_Gain</th>\n",
       "      <th>Capital_Loss</th>\n",
       "      <th>Hours_per_week</th>\n",
       "      <th>Hours_per_day</th>\n",
       "    </tr>\n",
       "  </thead>\n",
       "  <tbody>\n",
       "    <tr>\n",
       "      <th>count</th>\n",
       "      <td>34527.000000</td>\n",
       "      <td>36527.000000</td>\n",
       "      <td>36527.000000</td>\n",
       "      <td>36527.000000</td>\n",
       "      <td>35428.000000</td>\n",
       "      <td>35428.000000</td>\n",
       "    </tr>\n",
       "    <tr>\n",
       "      <th>mean</th>\n",
       "      <td>38.601703</td>\n",
       "      <td>10.082241</td>\n",
       "      <td>1076.493690</td>\n",
       "      <td>87.595642</td>\n",
       "      <td>40.424975</td>\n",
       "      <td>8.084995</td>\n",
       "    </tr>\n",
       "    <tr>\n",
       "      <th>std</th>\n",
       "      <td>13.661784</td>\n",
       "      <td>2.572706</td>\n",
       "      <td>7364.403244</td>\n",
       "      <td>403.752189</td>\n",
       "      <td>12.362164</td>\n",
       "      <td>2.472433</td>\n",
       "    </tr>\n",
       "    <tr>\n",
       "      <th>min</th>\n",
       "      <td>17.000000</td>\n",
       "      <td>1.000000</td>\n",
       "      <td>0.000000</td>\n",
       "      <td>0.000000</td>\n",
       "      <td>1.000000</td>\n",
       "      <td>0.200000</td>\n",
       "    </tr>\n",
       "    <tr>\n",
       "      <th>25%</th>\n",
       "      <td>28.000000</td>\n",
       "      <td>9.000000</td>\n",
       "      <td>0.000000</td>\n",
       "      <td>0.000000</td>\n",
       "      <td>40.000000</td>\n",
       "      <td>8.000000</td>\n",
       "    </tr>\n",
       "    <tr>\n",
       "      <th>50%</th>\n",
       "      <td>37.000000</td>\n",
       "      <td>10.000000</td>\n",
       "      <td>0.000000</td>\n",
       "      <td>0.000000</td>\n",
       "      <td>40.000000</td>\n",
       "      <td>8.000000</td>\n",
       "    </tr>\n",
       "    <tr>\n",
       "      <th>75%</th>\n",
       "      <td>48.000000</td>\n",
       "      <td>12.000000</td>\n",
       "      <td>0.000000</td>\n",
       "      <td>0.000000</td>\n",
       "      <td>45.000000</td>\n",
       "      <td>9.000000</td>\n",
       "    </tr>\n",
       "    <tr>\n",
       "      <th>max</th>\n",
       "      <td>90.000000</td>\n",
       "      <td>16.000000</td>\n",
       "      <td>99999.000000</td>\n",
       "      <td>4356.000000</td>\n",
       "      <td>99.000000</td>\n",
       "      <td>19.800000</td>\n",
       "    </tr>\n",
       "  </tbody>\n",
       "</table>\n",
       "</div>"
      ],
      "text/plain": [
       "                Age  Education_Num  Capital_Gain  Capital_Loss  \\\n",
       "count  34527.000000   36527.000000  36527.000000  36527.000000   \n",
       "mean      38.601703      10.082241   1076.493690     87.595642   \n",
       "std       13.661784       2.572706   7364.403244    403.752189   \n",
       "min       17.000000       1.000000      0.000000      0.000000   \n",
       "25%       28.000000       9.000000      0.000000      0.000000   \n",
       "50%       37.000000      10.000000      0.000000      0.000000   \n",
       "75%       48.000000      12.000000      0.000000      0.000000   \n",
       "max       90.000000      16.000000  99999.000000   4356.000000   \n",
       "\n",
       "       Hours_per_week  Hours_per_day  \n",
       "count    35428.000000   35428.000000  \n",
       "mean        40.424975       8.084995  \n",
       "std         12.362164       2.472433  \n",
       "min          1.000000       0.200000  \n",
       "25%         40.000000       8.000000  \n",
       "50%         40.000000       8.000000  \n",
       "75%         45.000000       9.000000  \n",
       "max         99.000000      19.800000  "
      ]
     },
     "execution_count": 34,
     "metadata": {},
     "output_type": "execute_result"
    }
   ],
   "source": [
    "Data_num.describe()"
   ]
  },
  {
   "cell_type": "code",
   "execution_count": 35,
   "id": "4238976a",
   "metadata": {},
   "outputs": [],
   "source": [
    "#mean=sum(xi)/len(x)\n",
    "#std=sqrt(sum(xi-xmean)^2/len(x))\n",
    "\n"
   ]
  },
  {
   "cell_type": "code",
   "execution_count": 36,
   "id": "24fe5615",
   "metadata": {},
   "outputs": [
    {
     "data": {
      "text/plain": [
       "58.0"
      ]
     },
     "execution_count": 36,
     "metadata": {},
     "output_type": "execute_result"
    }
   ],
   "source": [
    "Data['Age'].quantile(0.9)"
   ]
  },
  {
   "cell_type": "code",
   "execution_count": 37,
   "id": "73cc02f8",
   "metadata": {},
   "outputs": [
    {
     "data": {
      "text/plain": [
       "0        False\n",
       "1        False\n",
       "2        False\n",
       "3        False\n",
       "4        False\n",
       "         ...  \n",
       "36522    False\n",
       "36523     True\n",
       "36524    False\n",
       "36525    False\n",
       "36526    False\n",
       "Name: Age, Length: 36527, dtype: bool"
      ]
     },
     "execution_count": 37,
     "metadata": {},
     "output_type": "execute_result"
    }
   ],
   "source": [
    "Data['Age']>58"
   ]
  },
  {
   "cell_type": "code",
   "execution_count": 38,
   "id": "1ec59778",
   "metadata": {},
   "outputs": [],
   "source": [
    "Data_old=Data[Data['Age']>58]\n"
   ]
  },
  {
   "cell_type": "code",
   "execution_count": 39,
   "id": "5628ed7d",
   "metadata": {},
   "outputs": [
    {
     "data": {
      "text/html": [
       "<div>\n",
       "<style scoped>\n",
       "    .dataframe tbody tr th:only-of-type {\n",
       "        vertical-align: middle;\n",
       "    }\n",
       "\n",
       "    .dataframe tbody tr th {\n",
       "        vertical-align: top;\n",
       "    }\n",
       "\n",
       "    .dataframe thead th {\n",
       "        text-align: right;\n",
       "    }\n",
       "</style>\n",
       "<table border=\"1\" class=\"dataframe\">\n",
       "  <thead>\n",
       "    <tr style=\"text-align: right;\">\n",
       "      <th></th>\n",
       "      <th>Age</th>\n",
       "      <th>Workclass</th>\n",
       "      <th>Education</th>\n",
       "      <th>Education_Num</th>\n",
       "      <th>Martial_Status</th>\n",
       "      <th>Occupation</th>\n",
       "      <th>Relationship</th>\n",
       "      <th>Race</th>\n",
       "      <th>Gender</th>\n",
       "      <th>Capital_Gain</th>\n",
       "      <th>Capital_Loss</th>\n",
       "      <th>Hours_per_week</th>\n",
       "      <th>Country</th>\n",
       "      <th>Salary_Group</th>\n",
       "      <th>Hours_per_day</th>\n",
       "    </tr>\n",
       "  </thead>\n",
       "  <tbody>\n",
       "    <tr>\n",
       "      <th>24</th>\n",
       "      <td>59.0</td>\n",
       "      <td>Private</td>\n",
       "      <td>HS-grad</td>\n",
       "      <td>9</td>\n",
       "      <td>Divorced</td>\n",
       "      <td>Tech-support</td>\n",
       "      <td>Unmarried</td>\n",
       "      <td>White</td>\n",
       "      <td>Female</td>\n",
       "      <td>0</td>\n",
       "      <td>0</td>\n",
       "      <td>NaN</td>\n",
       "      <td>United-States</td>\n",
       "      <td>&lt;=50K</td>\n",
       "      <td>NaN</td>\n",
       "    </tr>\n",
       "    <tr>\n",
       "      <th>74</th>\n",
       "      <td>79.0</td>\n",
       "      <td>Private</td>\n",
       "      <td>Some-college</td>\n",
       "      <td>10</td>\n",
       "      <td>Married-civ-spouse</td>\n",
       "      <td>Prof-specialty</td>\n",
       "      <td>Other-relative</td>\n",
       "      <td>White</td>\n",
       "      <td>Male</td>\n",
       "      <td>0</td>\n",
       "      <td>0</td>\n",
       "      <td>20.0</td>\n",
       "      <td>United-States</td>\n",
       "      <td>&lt;=50K</td>\n",
       "      <td>4.0</td>\n",
       "    </tr>\n",
       "  </tbody>\n",
       "</table>\n",
       "</div>"
      ],
      "text/plain": [
       "     Age Workclass      Education  Education_Num       Martial_Status  \\\n",
       "24  59.0   Private        HS-grad              9             Divorced   \n",
       "74  79.0   Private   Some-college             10   Married-civ-spouse   \n",
       "\n",
       "         Occupation     Relationship    Race   Gender  Capital_Gain  \\\n",
       "24     Tech-support        Unmarried   White   Female             0   \n",
       "74   Prof-specialty   Other-relative   White     Male             0   \n",
       "\n",
       "    Capital_Loss  Hours_per_week         Country Salary_Group  Hours_per_day  \n",
       "24             0             NaN   United-States        <=50K            NaN  \n",
       "74             0            20.0   United-States        <=50K            4.0  "
      ]
     },
     "execution_count": 39,
     "metadata": {},
     "output_type": "execute_result"
    }
   ],
   "source": [
    "Data_old.head(2)"
   ]
  },
  {
   "cell_type": "code",
   "execution_count": 40,
   "id": "15712cc1",
   "metadata": {},
   "outputs": [
    {
     "data": {
      "text/plain": [
       "3191"
      ]
     },
     "execution_count": 40,
     "metadata": {},
     "output_type": "execute_result"
    }
   ],
   "source": [
    "len(Data_old)"
   ]
  },
  {
   "cell_type": "code",
   "execution_count": 41,
   "id": "8040856a",
   "metadata": {},
   "outputs": [
    {
     "data": {
      "text/plain": [
       "34.84680025856496"
      ]
     },
     "execution_count": 41,
     "metadata": {},
     "output_type": "execute_result"
    }
   ],
   "source": [
    "#1. what is the avg hours per week for this group of old people\n",
    "Data_old['Hours_per_week'].mean()"
   ]
  },
  {
   "cell_type": "code",
   "execution_count": 42,
   "id": "7c1de7ca",
   "metadata": {},
   "outputs": [
    {
     "data": {
      "text/plain": [
       "40.98842638916683"
      ]
     },
     "execution_count": 42,
     "metadata": {},
     "output_type": "execute_result"
    }
   ],
   "source": [
    "#whether this old people is also working same as other people\n",
    "Data_norm=Data[Data['Age']<58]\n",
    "Data_norm['Hours_per_week'].mean()"
   ]
  },
  {
   "cell_type": "code",
   "execution_count": 43,
   "id": "1c5021e2",
   "metadata": {},
   "outputs": [
    {
     "data": {
      "text/plain": [
       "35.91106480973791"
      ]
     },
     "execution_count": 43,
     "metadata": {},
     "output_type": "execute_result"
    }
   ],
   "source": [
    "# young people\n",
    "Data_young=Data[Data['Age']<=28]\n",
    "Data_young['Hours_per_week'].mean()"
   ]
  },
  {
   "cell_type": "code",
   "execution_count": 44,
   "id": "f79c31b5",
   "metadata": {},
   "outputs": [
    {
     "data": {
      "text/html": [
       "<div>\n",
       "<style scoped>\n",
       "    .dataframe tbody tr th:only-of-type {\n",
       "        vertical-align: middle;\n",
       "    }\n",
       "\n",
       "    .dataframe tbody tr th {\n",
       "        vertical-align: top;\n",
       "    }\n",
       "\n",
       "    .dataframe thead th {\n",
       "        text-align: right;\n",
       "    }\n",
       "</style>\n",
       "<table border=\"1\" class=\"dataframe\">\n",
       "  <thead>\n",
       "    <tr style=\"text-align: right;\">\n",
       "      <th></th>\n",
       "      <th>Age</th>\n",
       "      <th>Workclass</th>\n",
       "      <th>Education</th>\n",
       "      <th>Education_Num</th>\n",
       "      <th>Martial_Status</th>\n",
       "      <th>Occupation</th>\n",
       "      <th>Relationship</th>\n",
       "      <th>Race</th>\n",
       "      <th>Gender</th>\n",
       "      <th>Capital_Gain</th>\n",
       "      <th>Capital_Loss</th>\n",
       "      <th>Hours_per_week</th>\n",
       "      <th>Country</th>\n",
       "      <th>Salary_Group</th>\n",
       "      <th>Hours_per_day</th>\n",
       "    </tr>\n",
       "  </thead>\n",
       "  <tbody>\n",
       "    <tr>\n",
       "      <th>24</th>\n",
       "      <td>59.0</td>\n",
       "      <td>Private</td>\n",
       "      <td>HS-grad</td>\n",
       "      <td>9</td>\n",
       "      <td>Divorced</td>\n",
       "      <td>Tech-support</td>\n",
       "      <td>Unmarried</td>\n",
       "      <td>White</td>\n",
       "      <td>Female</td>\n",
       "      <td>0</td>\n",
       "      <td>0</td>\n",
       "      <td>NaN</td>\n",
       "      <td>United-States</td>\n",
       "      <td>&lt;=50K</td>\n",
       "      <td>NaN</td>\n",
       "    </tr>\n",
       "    <tr>\n",
       "      <th>74</th>\n",
       "      <td>79.0</td>\n",
       "      <td>Private</td>\n",
       "      <td>Some-college</td>\n",
       "      <td>10</td>\n",
       "      <td>Married-civ-spouse</td>\n",
       "      <td>Prof-specialty</td>\n",
       "      <td>Other-relative</td>\n",
       "      <td>White</td>\n",
       "      <td>Male</td>\n",
       "      <td>0</td>\n",
       "      <td>0</td>\n",
       "      <td>20.0</td>\n",
       "      <td>United-States</td>\n",
       "      <td>&lt;=50K</td>\n",
       "      <td>4.0</td>\n",
       "    </tr>\n",
       "  </tbody>\n",
       "</table>\n",
       "</div>"
      ],
      "text/plain": [
       "     Age Workclass      Education  Education_Num       Martial_Status  \\\n",
       "24  59.0   Private        HS-grad              9             Divorced   \n",
       "74  79.0   Private   Some-college             10   Married-civ-spouse   \n",
       "\n",
       "         Occupation     Relationship    Race   Gender  Capital_Gain  \\\n",
       "24     Tech-support        Unmarried   White   Female             0   \n",
       "74   Prof-specialty   Other-relative   White     Male             0   \n",
       "\n",
       "    Capital_Loss  Hours_per_week         Country Salary_Group  Hours_per_day  \n",
       "24             0             NaN   United-States        <=50K            NaN  \n",
       "74             0            20.0   United-States        <=50K            4.0  "
      ]
     },
     "execution_count": 44,
     "metadata": {},
     "output_type": "execute_result"
    }
   ],
   "source": [
    "Data_old.head(2)"
   ]
  },
  {
   "cell_type": "code",
   "execution_count": 45,
   "id": "88661a99",
   "metadata": {},
   "outputs": [
    {
     "data": {
      "text/plain": [
       "array([' Female', ' Male'], dtype=object)"
      ]
     },
     "execution_count": 45,
     "metadata": {},
     "output_type": "execute_result"
    }
   ],
   "source": [
    "Data_old['Gender'].unique()"
   ]
  },
  {
   "cell_type": "code",
   "execution_count": 46,
   "id": "4f0d0a0d",
   "metadata": {},
   "outputs": [
    {
     "name": "stderr",
     "output_type": "stream",
     "text": [
      "<ipython-input-46-862a03c82314>:1: SettingWithCopyWarning: \n",
      "A value is trying to be set on a copy of a slice from a DataFrame.\n",
      "Try using .loc[row_indexer,col_indexer] = value instead\n",
      "\n",
      "See the caveats in the documentation: https://pandas.pydata.org/pandas-docs/stable/user_guide/indexing.html#returning-a-view-versus-a-copy\n",
      "  Data_old['Gender']=Data_old['Gender'].str.strip(' ')\n"
     ]
    }
   ],
   "source": [
    "Data_old['Gender']=Data_old['Gender'].str.strip(' ')"
   ]
  },
  {
   "cell_type": "code",
   "execution_count": 47,
   "id": "10d38182",
   "metadata": {},
   "outputs": [
    {
     "data": {
      "text/html": [
       "<div>\n",
       "<style scoped>\n",
       "    .dataframe tbody tr th:only-of-type {\n",
       "        vertical-align: middle;\n",
       "    }\n",
       "\n",
       "    .dataframe tbody tr th {\n",
       "        vertical-align: top;\n",
       "    }\n",
       "\n",
       "    .dataframe thead th {\n",
       "        text-align: right;\n",
       "    }\n",
       "</style>\n",
       "<table border=\"1\" class=\"dataframe\">\n",
       "  <thead>\n",
       "    <tr style=\"text-align: right;\">\n",
       "      <th></th>\n",
       "      <th>Age</th>\n",
       "      <th>Workclass</th>\n",
       "      <th>Education</th>\n",
       "      <th>Education_Num</th>\n",
       "      <th>Martial_Status</th>\n",
       "      <th>Occupation</th>\n",
       "      <th>Relationship</th>\n",
       "      <th>Race</th>\n",
       "      <th>Gender</th>\n",
       "      <th>Capital_Gain</th>\n",
       "      <th>Capital_Loss</th>\n",
       "      <th>Hours_per_week</th>\n",
       "      <th>Country</th>\n",
       "      <th>Salary_Group</th>\n",
       "      <th>Hours_per_day</th>\n",
       "    </tr>\n",
       "  </thead>\n",
       "  <tbody>\n",
       "    <tr>\n",
       "      <th>74</th>\n",
       "      <td>79.0</td>\n",
       "      <td>Private</td>\n",
       "      <td>Some-college</td>\n",
       "      <td>10</td>\n",
       "      <td>Married-civ-spouse</td>\n",
       "      <td>Prof-specialty</td>\n",
       "      <td>Other-relative</td>\n",
       "      <td>White</td>\n",
       "      <td>Male</td>\n",
       "      <td>0</td>\n",
       "      <td>0</td>\n",
       "      <td>20.0</td>\n",
       "      <td>United-States</td>\n",
       "      <td>&lt;=50K</td>\n",
       "      <td>4.0</td>\n",
       "    </tr>\n",
       "    <tr>\n",
       "      <th>77</th>\n",
       "      <td>67.0</td>\n",
       "      <td>NaN</td>\n",
       "      <td>10th</td>\n",
       "      <td>6</td>\n",
       "      <td>Married-civ-spouse</td>\n",
       "      <td>NaN</td>\n",
       "      <td>Husband</td>\n",
       "      <td>White</td>\n",
       "      <td>Male</td>\n",
       "      <td>0</td>\n",
       "      <td>0</td>\n",
       "      <td>2.0</td>\n",
       "      <td>United-States</td>\n",
       "      <td>&lt;=50K</td>\n",
       "      <td>0.4</td>\n",
       "    </tr>\n",
       "    <tr>\n",
       "      <th>83</th>\n",
       "      <td>59.0</td>\n",
       "      <td>Private</td>\n",
       "      <td>HS-grad</td>\n",
       "      <td>9</td>\n",
       "      <td>Married-civ-spouse</td>\n",
       "      <td>Sales</td>\n",
       "      <td>Husband</td>\n",
       "      <td>White</td>\n",
       "      <td>Male</td>\n",
       "      <td>0</td>\n",
       "      <td>0</td>\n",
       "      <td>48.0</td>\n",
       "      <td>United-States</td>\n",
       "      <td>&lt;=50K</td>\n",
       "      <td>9.6</td>\n",
       "    </tr>\n",
       "    <tr>\n",
       "      <th>100</th>\n",
       "      <td>76.0</td>\n",
       "      <td>Private</td>\n",
       "      <td>Masters</td>\n",
       "      <td>14</td>\n",
       "      <td>Married-civ-spouse</td>\n",
       "      <td>Exec-managerial</td>\n",
       "      <td>Husband</td>\n",
       "      <td>White</td>\n",
       "      <td>Male</td>\n",
       "      <td>0</td>\n",
       "      <td>0</td>\n",
       "      <td>40.0</td>\n",
       "      <td>United-States</td>\n",
       "      <td>&gt;50K</td>\n",
       "      <td>8.0</td>\n",
       "    </tr>\n",
       "    <tr>\n",
       "      <th>140</th>\n",
       "      <td>61.0</td>\n",
       "      <td>Self-emp-inc</td>\n",
       "      <td>HS-grad</td>\n",
       "      <td>9</td>\n",
       "      <td>Married-civ-spouse</td>\n",
       "      <td>Craft-repair</td>\n",
       "      <td>Husband</td>\n",
       "      <td>White</td>\n",
       "      <td>Male</td>\n",
       "      <td>0</td>\n",
       "      <td>0</td>\n",
       "      <td>40.0</td>\n",
       "      <td>United-States</td>\n",
       "      <td>&lt;=50K</td>\n",
       "      <td>8.0</td>\n",
       "    </tr>\n",
       "    <tr>\n",
       "      <th>...</th>\n",
       "      <td>...</td>\n",
       "      <td>...</td>\n",
       "      <td>...</td>\n",
       "      <td>...</td>\n",
       "      <td>...</td>\n",
       "      <td>...</td>\n",
       "      <td>...</td>\n",
       "      <td>...</td>\n",
       "      <td>...</td>\n",
       "      <td>...</td>\n",
       "      <td>...</td>\n",
       "      <td>...</td>\n",
       "      <td>...</td>\n",
       "      <td>...</td>\n",
       "      <td>...</td>\n",
       "    </tr>\n",
       "    <tr>\n",
       "      <th>36497</th>\n",
       "      <td>81.0</td>\n",
       "      <td>NaN</td>\n",
       "      <td>Assoc-voc</td>\n",
       "      <td>11</td>\n",
       "      <td>Married-civ-spouse</td>\n",
       "      <td>NaN</td>\n",
       "      <td>Husband</td>\n",
       "      <td>White</td>\n",
       "      <td>Male</td>\n",
       "      <td>2936</td>\n",
       "      <td>0</td>\n",
       "      <td>20.0</td>\n",
       "      <td>United-States</td>\n",
       "      <td>&lt;=50K.</td>\n",
       "      <td>4.0</td>\n",
       "    </tr>\n",
       "    <tr>\n",
       "      <th>36498</th>\n",
       "      <td>60.0</td>\n",
       "      <td>Private</td>\n",
       "      <td>Assoc-voc</td>\n",
       "      <td>11</td>\n",
       "      <td>Married-civ-spouse</td>\n",
       "      <td>Prof-specialty</td>\n",
       "      <td>Husband</td>\n",
       "      <td>White</td>\n",
       "      <td>Male</td>\n",
       "      <td>7688</td>\n",
       "      <td>0</td>\n",
       "      <td>40.0</td>\n",
       "      <td>United-States</td>\n",
       "      <td>&gt;50K.</td>\n",
       "      <td>8.0</td>\n",
       "    </tr>\n",
       "    <tr>\n",
       "      <th>36510</th>\n",
       "      <td>64.0</td>\n",
       "      <td>Self-emp-not-inc</td>\n",
       "      <td>HS-grad</td>\n",
       "      <td>9</td>\n",
       "      <td>Widowed</td>\n",
       "      <td>Farming-fishing</td>\n",
       "      <td>Not-in-family</td>\n",
       "      <td>White</td>\n",
       "      <td>Male</td>\n",
       "      <td>0</td>\n",
       "      <td>0</td>\n",
       "      <td>32.0</td>\n",
       "      <td>United-States</td>\n",
       "      <td>&lt;=50K.</td>\n",
       "      <td>6.4</td>\n",
       "    </tr>\n",
       "    <tr>\n",
       "      <th>36517</th>\n",
       "      <td>61.0</td>\n",
       "      <td>Private</td>\n",
       "      <td>HS-grad</td>\n",
       "      <td>9</td>\n",
       "      <td>Married-civ-spouse</td>\n",
       "      <td>Sales</td>\n",
       "      <td>Husband</td>\n",
       "      <td>White</td>\n",
       "      <td>Male</td>\n",
       "      <td>0</td>\n",
       "      <td>0</td>\n",
       "      <td>48.0</td>\n",
       "      <td>United-States</td>\n",
       "      <td>&lt;=50K.</td>\n",
       "      <td>9.6</td>\n",
       "    </tr>\n",
       "    <tr>\n",
       "      <th>36523</th>\n",
       "      <td>64.0</td>\n",
       "      <td>NaN</td>\n",
       "      <td>HS-grad</td>\n",
       "      <td>9</td>\n",
       "      <td>Widowed</td>\n",
       "      <td>NaN</td>\n",
       "      <td>Other-relative</td>\n",
       "      <td>Black</td>\n",
       "      <td>Male</td>\n",
       "      <td>0</td>\n",
       "      <td>0</td>\n",
       "      <td>40.0</td>\n",
       "      <td>United-States</td>\n",
       "      <td>&lt;=50K.</td>\n",
       "      <td>8.0</td>\n",
       "    </tr>\n",
       "  </tbody>\n",
       "</table>\n",
       "<p>2207 rows × 15 columns</p>\n",
       "</div>"
      ],
      "text/plain": [
       "        Age          Workclass      Education  Education_Num  \\\n",
       "74     79.0            Private   Some-college             10   \n",
       "77     67.0                NaN           10th              6   \n",
       "83     59.0            Private        HS-grad              9   \n",
       "100    76.0            Private        Masters             14   \n",
       "140    61.0       Self-emp-inc        HS-grad              9   \n",
       "...     ...                ...            ...            ...   \n",
       "36497  81.0                NaN      Assoc-voc             11   \n",
       "36498  60.0            Private      Assoc-voc             11   \n",
       "36510  64.0   Self-emp-not-inc        HS-grad              9   \n",
       "36517  61.0            Private        HS-grad              9   \n",
       "36523  64.0                NaN        HS-grad              9   \n",
       "\n",
       "            Martial_Status        Occupation     Relationship    Race Gender  \\\n",
       "74      Married-civ-spouse    Prof-specialty   Other-relative   White   Male   \n",
       "77      Married-civ-spouse               NaN          Husband   White   Male   \n",
       "83      Married-civ-spouse             Sales          Husband   White   Male   \n",
       "100     Married-civ-spouse   Exec-managerial          Husband   White   Male   \n",
       "140     Married-civ-spouse      Craft-repair          Husband   White   Male   \n",
       "...                    ...               ...              ...     ...    ...   \n",
       "36497   Married-civ-spouse               NaN          Husband   White   Male   \n",
       "36498   Married-civ-spouse    Prof-specialty          Husband   White   Male   \n",
       "36510              Widowed   Farming-fishing    Not-in-family   White   Male   \n",
       "36517   Married-civ-spouse             Sales          Husband   White   Male   \n",
       "36523              Widowed               NaN   Other-relative   Black   Male   \n",
       "\n",
       "       Capital_Gain  Capital_Loss  Hours_per_week         Country  \\\n",
       "74                0             0            20.0   United-States   \n",
       "77                0             0             2.0   United-States   \n",
       "83                0             0            48.0   United-States   \n",
       "100               0             0            40.0   United-States   \n",
       "140               0             0            40.0   United-States   \n",
       "...             ...           ...             ...             ...   \n",
       "36497          2936             0            20.0   United-States   \n",
       "36498          7688             0            40.0   United-States   \n",
       "36510             0             0            32.0   United-States   \n",
       "36517             0             0            48.0   United-States   \n",
       "36523             0             0            40.0   United-States   \n",
       "\n",
       "      Salary_Group  Hours_per_day  \n",
       "74           <=50K            4.0  \n",
       "77           <=50K            0.4  \n",
       "83           <=50K            9.6  \n",
       "100           >50K            8.0  \n",
       "140          <=50K            8.0  \n",
       "...            ...            ...  \n",
       "36497       <=50K.            4.0  \n",
       "36498        >50K.            8.0  \n",
       "36510       <=50K.            6.4  \n",
       "36517       <=50K.            9.6  \n",
       "36523       <=50K.            8.0  \n",
       "\n",
       "[2207 rows x 15 columns]"
      ]
     },
     "execution_count": 47,
     "metadata": {},
     "output_type": "execute_result"
    }
   ],
   "source": [
    "Data_old[Data_old['Gender']=='Male']"
   ]
  },
  {
   "cell_type": "code",
   "execution_count": 48,
   "id": "88b2b304",
   "metadata": {},
   "outputs": [
    {
     "data": {
      "text/plain": [
       "array([' Divorced', ' Married-civ-spouse', ' Never-married', ' Separated',\n",
       "       ' Widowed', ' Married-spouse-absent', ' Married-AF-spouse'],\n",
       "      dtype=object)"
      ]
     },
     "execution_count": 48,
     "metadata": {},
     "output_type": "execute_result"
    }
   ],
   "source": [
    "Data_old['Martial_Status'].unique()"
   ]
  },
  {
   "cell_type": "code",
   "execution_count": 49,
   "id": "3bf64270",
   "metadata": {},
   "outputs": [],
   "source": [
    "#Analyse the salary group of old people"
   ]
  },
  {
   "cell_type": "code",
   "execution_count": 50,
   "id": "d1f30e27",
   "metadata": {},
   "outputs": [
    {
     "data": {
      "text/plain": [
       "array([' <=50K', ' >50K', ' <=50K.', ' >50K.'], dtype=object)"
      ]
     },
     "execution_count": 50,
     "metadata": {},
     "output_type": "execute_result"
    }
   ],
   "source": [
    "Data_old['Salary_Group'].unique()"
   ]
  },
  {
   "cell_type": "code",
   "execution_count": 51,
   "id": "f434ea45",
   "metadata": {},
   "outputs": [
    {
     "name": "stderr",
     "output_type": "stream",
     "text": [
      "<ipython-input-51-bacfe8b024fa>:1: SettingWithCopyWarning: \n",
      "A value is trying to be set on a copy of a slice from a DataFrame.\n",
      "Try using .loc[row_indexer,col_indexer] = value instead\n",
      "\n",
      "See the caveats in the documentation: https://pandas.pydata.org/pandas-docs/stable/user_guide/indexing.html#returning-a-view-versus-a-copy\n",
      "  Data_old['Salary_Group']=Data_old['Salary_Group'].str.strip(' ')\n"
     ]
    }
   ],
   "source": [
    "Data_old['Salary_Group']=Data_old['Salary_Group'].str.strip(' ')"
   ]
  },
  {
   "cell_type": "code",
   "execution_count": 52,
   "id": "177d62bd",
   "metadata": {},
   "outputs": [
    {
     "data": {
      "text/plain": [
       "2087"
      ]
     },
     "execution_count": 52,
     "metadata": {},
     "output_type": "execute_result"
    }
   ],
   "source": [
    "len(Data_old[Data_old['Salary_Group']=='<=50K'])"
   ]
  },
  {
   "cell_type": "code",
   "execution_count": 53,
   "id": "159ae242",
   "metadata": {},
   "outputs": [
    {
     "data": {
      "text/plain": [
       "733"
      ]
     },
     "execution_count": 53,
     "metadata": {},
     "output_type": "execute_result"
    }
   ],
   "source": [
    "len(Data_old[Data_old['Salary_Group']=='>50K'])"
   ]
  },
  {
   "cell_type": "code",
   "execution_count": 54,
   "id": "c372ce74",
   "metadata": {},
   "outputs": [
    {
     "data": {
      "text/plain": [
       "<=50K     2087\n",
       ">50K       733\n",
       "<=50K.     273\n",
       ">50K.       98\n",
       "Name: Salary_Group, dtype: int64"
      ]
     },
     "execution_count": 54,
     "metadata": {},
     "output_type": "execute_result"
    }
   ],
   "source": [
    "Data_old['Salary_Group'].value_counts()"
   ]
  },
  {
   "cell_type": "code",
   "execution_count": 55,
   "id": "65b895e7",
   "metadata": {},
   "outputs": [
    {
     "data": {
      "text/plain": [
       " Private             25441\n",
       " Self-emp-not-inc     2845\n",
       " Local-gov            2353\n",
       " State-gov            1453\n",
       " Self-emp-inc         1250\n",
       " Federal-gov          1082\n",
       " Without-pay            16\n",
       " Never-worked            8\n",
       "Name: Workclass, dtype: int64"
      ]
     },
     "execution_count": 55,
     "metadata": {},
     "output_type": "execute_result"
    }
   ],
   "source": [
    "Data['Workclass'].value_counts()"
   ]
  },
  {
   "cell_type": "code",
   "execution_count": 56,
   "id": "d1cb5d39",
   "metadata": {},
   "outputs": [
    {
     "data": {
      "text/plain": [
       "array([' State-gov', ' Self-emp-not-inc', ' Private', ' Federal-gov',\n",
       "       ' Local-gov', nan, ' Self-emp-inc', ' Without-pay',\n",
       "       ' Never-worked'], dtype=object)"
      ]
     },
     "execution_count": 56,
     "metadata": {},
     "output_type": "execute_result"
    }
   ],
   "source": [
    "Data['Workclass'].unique()"
   ]
  },
  {
   "cell_type": "code",
   "execution_count": 57,
   "id": "9b4cc80d",
   "metadata": {},
   "outputs": [
    {
     "data": {
      "text/plain": [
       "8"
      ]
     },
     "execution_count": 57,
     "metadata": {},
     "output_type": "execute_result"
    }
   ],
   "source": [
    "Data['Workclass'].nunique()"
   ]
  },
  {
   "cell_type": "code",
   "execution_count": 58,
   "id": "89cdf21d",
   "metadata": {},
   "outputs": [
    {
     "name": "stderr",
     "output_type": "stream",
     "text": [
      "<ipython-input-58-862a03c82314>:1: SettingWithCopyWarning: \n",
      "A value is trying to be set on a copy of a slice from a DataFrame.\n",
      "Try using .loc[row_indexer,col_indexer] = value instead\n",
      "\n",
      "See the caveats in the documentation: https://pandas.pydata.org/pandas-docs/stable/user_guide/indexing.html#returning-a-view-versus-a-copy\n",
      "  Data_old['Gender']=Data_old['Gender'].str.strip(' ')\n"
     ]
    }
   ],
   "source": [
    "Data_old['Gender']=Data_old['Gender'].str.strip(' ')"
   ]
  },
  {
   "cell_type": "code",
   "execution_count": 59,
   "id": "1b741347",
   "metadata": {},
   "outputs": [],
   "source": [
    "#compute the average age for male and female\n"
   ]
  },
  {
   "cell_type": "code",
   "execution_count": 60,
   "id": "027943b0",
   "metadata": {},
   "outputs": [
    {
     "data": {
      "text/html": [
       "<div>\n",
       "<style scoped>\n",
       "    .dataframe tbody tr th:only-of-type {\n",
       "        vertical-align: middle;\n",
       "    }\n",
       "\n",
       "    .dataframe tbody tr th {\n",
       "        vertical-align: top;\n",
       "    }\n",
       "\n",
       "    .dataframe thead th {\n",
       "        text-align: right;\n",
       "    }\n",
       "</style>\n",
       "<table border=\"1\" class=\"dataframe\">\n",
       "  <thead>\n",
       "    <tr style=\"text-align: right;\">\n",
       "      <th></th>\n",
       "      <th>Age</th>\n",
       "      <th>Workclass</th>\n",
       "      <th>Education</th>\n",
       "      <th>Education_Num</th>\n",
       "      <th>Martial_Status</th>\n",
       "      <th>Occupation</th>\n",
       "      <th>Relationship</th>\n",
       "      <th>Race</th>\n",
       "      <th>Gender</th>\n",
       "      <th>Capital_Gain</th>\n",
       "      <th>Capital_Loss</th>\n",
       "      <th>Hours_per_week</th>\n",
       "      <th>Country</th>\n",
       "      <th>Salary_Group</th>\n",
       "      <th>Hours_per_day</th>\n",
       "    </tr>\n",
       "  </thead>\n",
       "  <tbody>\n",
       "  </tbody>\n",
       "</table>\n",
       "</div>"
      ],
      "text/plain": [
       "Empty DataFrame\n",
       "Columns: [Age, Workclass, Education, Education_Num, Martial_Status, Occupation, Relationship, Race, Gender, Capital_Gain, Capital_Loss, Hours_per_week, Country, Salary_Group, Hours_per_day]\n",
       "Index: []"
      ]
     },
     "execution_count": 60,
     "metadata": {},
     "output_type": "execute_result"
    }
   ],
   "source": [
    "Data[Data['Gender']=='Male']"
   ]
  },
  {
   "cell_type": "code",
   "execution_count": 61,
   "id": "9aade14d",
   "metadata": {},
   "outputs": [],
   "source": [
    "# .mean .median used for getting average for male and female"
   ]
  },
  {
   "cell_type": "code",
   "execution_count": 62,
   "id": "5b42abeb",
   "metadata": {},
   "outputs": [],
   "source": [
    "Data['Salary_Group']=Data['Salary_Group'].str.strip(' ')"
   ]
  },
  {
   "cell_type": "code",
   "execution_count": 63,
   "id": "c3129b65",
   "metadata": {},
   "outputs": [
    {
     "data": {
      "text/plain": [
       "7841"
      ]
     },
     "execution_count": 63,
     "metadata": {},
     "output_type": "execute_result"
    }
   ],
   "source": [
    "len(Data[Data['Salary_Group']=='>50K'])"
   ]
  },
  {
   "cell_type": "code",
   "execution_count": 64,
   "id": "1f2173f6",
   "metadata": {},
   "outputs": [
    {
     "data": {
      "text/plain": [
       "<=50K     24720\n",
       ">50K       7841\n",
       "<=50K.     3001\n",
       ">50K.       965\n",
       "Name: Salary_Group, dtype: int64"
      ]
     },
     "execution_count": 64,
     "metadata": {},
     "output_type": "execute_result"
    }
   ],
   "source": [
    "Data['Salary_Group'].value_counts()"
   ]
  },
  {
   "cell_type": "code",
   "execution_count": 65,
   "id": "bceff0ee",
   "metadata": {},
   "outputs": [
    {
     "data": {
      "text/plain": [
       "<=50K     67.675966\n",
       ">50K      21.466313\n",
       "<=50K.     8.215840\n",
       ">50K.      2.641881\n",
       "Name: Salary_Group, dtype: float64"
      ]
     },
     "execution_count": 65,
     "metadata": {},
     "output_type": "execute_result"
    }
   ],
   "source": [
    "Data['Salary_Group'].value_counts(normalize=True)*100"
   ]
  },
  {
   "cell_type": "code",
   "execution_count": 66,
   "id": "acf530b2",
   "metadata": {},
   "outputs": [],
   "source": [
    "Data['Education']=Data['Education'].str.strip(' ')"
   ]
  },
  {
   "cell_type": "code",
   "execution_count": 67,
   "id": "889f9a2f",
   "metadata": {},
   "outputs": [
    {
     "data": {
      "text/plain": [
       "6003"
      ]
     },
     "execution_count": 67,
     "metadata": {},
     "output_type": "execute_result"
    }
   ],
   "source": [
    "Data['Education'].value_counts().loc['Bachelors']"
   ]
  },
  {
   "cell_type": "code",
   "execution_count": 68,
   "id": "e49e12ad",
   "metadata": {},
   "outputs": [
    {
     "data": {
      "text/plain": [
       "4124"
      ]
     },
     "execution_count": 68,
     "metadata": {},
     "output_type": "execute_result"
    }
   ],
   "source": [
    "Data['Occupation'].value_counts().loc[' Sales']"
   ]
  },
  {
   "cell_type": "code",
   "execution_count": 69,
   "id": "49ca52c5",
   "metadata": {},
   "outputs": [
    {
     "data": {
      "text/plain": [
       " Male      0.668081\n",
       " Female    0.331919\n",
       "Name: Gender, dtype: float64"
      ]
     },
     "execution_count": 69,
     "metadata": {},
     "output_type": "execute_result"
    }
   ],
   "source": [
    "Data['Gender'].value_counts(normalize=True)"
   ]
  },
  {
   "cell_type": "code",
   "execution_count": 70,
   "id": "e6dfd795",
   "metadata": {},
   "outputs": [
    {
     "data": {
      "text/plain": [
       "<AxesSubplot:>"
      ]
     },
     "execution_count": 70,
     "metadata": {},
     "output_type": "execute_result"
    },
    {
     "data": {
      "image/png": "[encoded data removed]",
      "text/plain": [
       "<Figure size 432x288 with 1 Axes>"
      ]
     },
     "metadata": {
      "needs_background": "light"
     },
     "output_type": "display_data"
    }
   ],
   "source": [
    "Data['Gender'].value_counts(normalize=True).plot(kind='bar')"
   ]
  },
  {
   "cell_type": "code",
   "execution_count": 71,
   "id": "8abb06b9",
   "metadata": {},
   "outputs": [],
   "source": [
    "# 9-8-21 day class continuation of pandas\n"
   ]
  },
  {
   "cell_type": "code",
   "execution_count": 72,
   "id": "48abe31f",
   "metadata": {},
   "outputs": [],
   "source": [
    "#how many employees are in the age slab of 16 to 25,26to 40,40 to 55 and greater than 55\n",
    "#I want to create 'age_slab'as one new column with levels young,medium,exp,more exp.\n",
    "#BINNING- process of converting your numerical data to categorical"
   ]
  },
  {
   "cell_type": "code",
   "execution_count": 73,
   "id": "318ebe4f",
   "metadata": {},
   "outputs": [],
   "source": [
    "Data['Age_slab']=pd.cut(x=Data['Age'],bins=[16,25,40,55,90],labels=['young','medium','exp','more_exp'])"
   ]
  },
  {
   "cell_type": "code",
   "execution_count": 74,
   "id": "7657fd3f",
   "metadata": {},
   "outputs": [
    {
     "data": {
      "text/html": [
       "<div>\n",
       "<style scoped>\n",
       "    .dataframe tbody tr th:only-of-type {\n",
       "        vertical-align: middle;\n",
       "    }\n",
       "\n",
       "    .dataframe tbody tr th {\n",
       "        vertical-align: top;\n",
       "    }\n",
       "\n",
       "    .dataframe thead th {\n",
       "        text-align: right;\n",
       "    }\n",
       "</style>\n",
       "<table border=\"1\" class=\"dataframe\">\n",
       "  <thead>\n",
       "    <tr style=\"text-align: right;\">\n",
       "      <th></th>\n",
       "      <th>Age</th>\n",
       "      <th>Age_slab</th>\n",
       "    </tr>\n",
       "  </thead>\n",
       "  <tbody>\n",
       "    <tr>\n",
       "      <th>0</th>\n",
       "      <td>39.0</td>\n",
       "      <td>medium</td>\n",
       "    </tr>\n",
       "    <tr>\n",
       "      <th>1</th>\n",
       "      <td>50.0</td>\n",
       "      <td>exp</td>\n",
       "    </tr>\n",
       "    <tr>\n",
       "      <th>2</th>\n",
       "      <td>38.0</td>\n",
       "      <td>medium</td>\n",
       "    </tr>\n",
       "    <tr>\n",
       "      <th>3</th>\n",
       "      <td>53.0</td>\n",
       "      <td>exp</td>\n",
       "    </tr>\n",
       "    <tr>\n",
       "      <th>4</th>\n",
       "      <td>28.0</td>\n",
       "      <td>medium</td>\n",
       "    </tr>\n",
       "  </tbody>\n",
       "</table>\n",
       "</div>"
      ],
      "text/plain": [
       "    Age Age_slab\n",
       "0  39.0   medium\n",
       "1  50.0      exp\n",
       "2  38.0   medium\n",
       "3  53.0      exp\n",
       "4  28.0   medium"
      ]
     },
     "execution_count": 74,
     "metadata": {},
     "output_type": "execute_result"
    }
   ],
   "source": [
    "Data[['Age','Age_slab']].head()"
   ]
  },
  {
   "cell_type": "code",
   "execution_count": 75,
   "id": "c05aa64e",
   "metadata": {},
   "outputs": [
    {
     "data": {
      "text/plain": [
       "medium      13454\n",
       "exp          9940\n",
       "young        6787\n",
       "more_exp     4346\n",
       "Name: Age_slab, dtype: int64"
      ]
     },
     "execution_count": 75,
     "metadata": {},
     "output_type": "execute_result"
    }
   ],
   "source": [
    "Data['Age_slab'].value_counts()"
   ]
  },
  {
   "cell_type": "code",
   "execution_count": 76,
   "id": "9a880726",
   "metadata": {},
   "outputs": [],
   "source": [
    "# Create a new column with working hour slab with the folllowing condition\n",
    "# If employee working hours per week is less than 25% keep it as 'less load'\n",
    "#If employee working hours per week is less than 25% to 75% keep it as 'medium load'\n",
    "#If employee working hours per week is less than 75% to 90% keep it as 'high load'\n",
    "#If employee working hours per week is more than 90% keep it as 'very high load'\n",
    "\n",
    "#How many employees are there in each load"
   ]
  },
  {
   "cell_type": "code",
   "execution_count": 77,
   "id": "9b85f53c",
   "metadata": {},
   "outputs": [],
   "source": [
    "Data['Hours_per_week_slab']=pd.cut(x=Data['Hours_per_week'],bins=[0,25,75,90,100],labels=['Less_load','Medium_load','High_load','Very_high_load'])"
   ]
  },
  {
   "cell_type": "code",
   "execution_count": 78,
   "id": "780dd0c2",
   "metadata": {},
   "outputs": [
    {
     "data": {
      "text/plain": [
       "0.00     1.0\n",
       "0.25    40.0\n",
       "0.50    40.0\n",
       "0.75    45.0\n",
       "0.90    55.0\n",
       "1.00    99.0\n",
       "Name: Hours_per_week, dtype: float64"
      ]
     },
     "execution_count": 78,
     "metadata": {},
     "output_type": "execute_result"
    }
   ],
   "source": [
    "Data['Hours_per_week'].quantile([0,0.25,0.50,0.75,0.9,1])"
   ]
  },
  {
   "cell_type": "code",
   "execution_count": 79,
   "id": "a84391fb",
   "metadata": {},
   "outputs": [],
   "source": [
    "Data['Hours_per_week_slab']=pd.cut(x=Data['Hours_per_week'],bins=[1,40,45,55,99],labels=['Less_load','Medium_load','High_load','Very_high_load'])"
   ]
  },
  {
   "cell_type": "code",
   "execution_count": 80,
   "id": "da449201",
   "metadata": {},
   "outputs": [
    {
     "data": {
      "text/plain": [
       "Less_load         0.705603\n",
       "High_load         0.135450\n",
       "Very_high_load    0.083766\n",
       "Medium_load       0.075181\n",
       "Name: Hours_per_week_slab, dtype: float64"
      ]
     },
     "execution_count": 80,
     "metadata": {},
     "output_type": "execute_result"
    }
   ],
   "source": [
    "Data['Hours_per_week_slab'].value_counts(normalize=True)"
   ]
  },
  {
   "cell_type": "code",
   "execution_count": 81,
   "id": "438cc6fb",
   "metadata": {},
   "outputs": [
    {
     "data": {
      "text/html": [
       "<div>\n",
       "<style scoped>\n",
       "    .dataframe tbody tr th:only-of-type {\n",
       "        vertical-align: middle;\n",
       "    }\n",
       "\n",
       "    .dataframe tbody tr th {\n",
       "        vertical-align: top;\n",
       "    }\n",
       "\n",
       "    .dataframe thead th {\n",
       "        text-align: right;\n",
       "    }\n",
       "</style>\n",
       "<table border=\"1\" class=\"dataframe\">\n",
       "  <thead>\n",
       "    <tr style=\"text-align: right;\">\n",
       "      <th></th>\n",
       "      <th>Hours_per_week</th>\n",
       "      <th>Hours_per_week_slab</th>\n",
       "    </tr>\n",
       "  </thead>\n",
       "  <tbody>\n",
       "    <tr>\n",
       "      <th>0</th>\n",
       "      <td>40.0</td>\n",
       "      <td>Less_load</td>\n",
       "    </tr>\n",
       "    <tr>\n",
       "      <th>1</th>\n",
       "      <td>13.0</td>\n",
       "      <td>Less_load</td>\n",
       "    </tr>\n",
       "    <tr>\n",
       "      <th>2</th>\n",
       "      <td>40.0</td>\n",
       "      <td>Less_load</td>\n",
       "    </tr>\n",
       "    <tr>\n",
       "      <th>3</th>\n",
       "      <td>40.0</td>\n",
       "      <td>Less_load</td>\n",
       "    </tr>\n",
       "    <tr>\n",
       "      <th>4</th>\n",
       "      <td>40.0</td>\n",
       "      <td>Less_load</td>\n",
       "    </tr>\n",
       "    <tr>\n",
       "      <th>...</th>\n",
       "      <td>...</td>\n",
       "      <td>...</td>\n",
       "    </tr>\n",
       "    <tr>\n",
       "      <th>36522</th>\n",
       "      <td>36.0</td>\n",
       "      <td>Less_load</td>\n",
       "    </tr>\n",
       "    <tr>\n",
       "      <th>36523</th>\n",
       "      <td>40.0</td>\n",
       "      <td>Less_load</td>\n",
       "    </tr>\n",
       "    <tr>\n",
       "      <th>36524</th>\n",
       "      <td>50.0</td>\n",
       "      <td>High_load</td>\n",
       "    </tr>\n",
       "    <tr>\n",
       "      <th>36525</th>\n",
       "      <td>40.0</td>\n",
       "      <td>Less_load</td>\n",
       "    </tr>\n",
       "    <tr>\n",
       "      <th>36526</th>\n",
       "      <td>60.0</td>\n",
       "      <td>Very_high_load</td>\n",
       "    </tr>\n",
       "  </tbody>\n",
       "</table>\n",
       "<p>36527 rows × 2 columns</p>\n",
       "</div>"
      ],
      "text/plain": [
       "       Hours_per_week Hours_per_week_slab\n",
       "0                40.0           Less_load\n",
       "1                13.0           Less_load\n",
       "2                40.0           Less_load\n",
       "3                40.0           Less_load\n",
       "4                40.0           Less_load\n",
       "...               ...                 ...\n",
       "36522            36.0           Less_load\n",
       "36523            40.0           Less_load\n",
       "36524            50.0           High_load\n",
       "36525            40.0           Less_load\n",
       "36526            60.0      Very_high_load\n",
       "\n",
       "[36527 rows x 2 columns]"
      ]
     },
     "execution_count": 81,
     "metadata": {},
     "output_type": "execute_result"
    }
   ],
   "source": [
    "Data[['Hours_per_week','Hours_per_week_slab']]"
   ]
  },
  {
   "cell_type": "code",
   "execution_count": 82,
   "id": "19c26b8d",
   "metadata": {},
   "outputs": [],
   "source": [
    "#what is the average age of different \"working hour slab\" employee?"
   ]
  },
  {
   "cell_type": "code",
   "execution_count": 83,
   "id": "ab869201",
   "metadata": {},
   "outputs": [],
   "source": [
    "#Data['Hours_per_week_slab'].mean() #for categorical column w cant apply mean()"
   ]
  },
  {
   "cell_type": "code",
   "execution_count": 84,
   "id": "851d9580",
   "metadata": {},
   "outputs": [
    {
     "data": {
      "text/plain": [
       "37.9843498176266"
      ]
     },
     "execution_count": 84,
     "metadata": {},
     "output_type": "execute_result"
    }
   ],
   "source": [
    "Data[Data['Hours_per_week_slab']=='Less_load']['Age'].mean()"
   ]
  },
  {
   "cell_type": "code",
   "execution_count": 85,
   "id": "2f9b081a",
   "metadata": {},
   "outputs": [
    {
     "name": "stdout",
     "output_type": "stream",
     "text": [
      "<class 'pandas.core.series.Series'>\n"
     ]
    },
    {
     "data": {
      "text/plain": [
       "Hours_per_week_slab\n",
       "Less_load         37.984350\n",
       "Medium_load       39.355148\n",
       "High_load         39.951030\n",
       "Very_high_load    40.730973\n",
       "Name: Age, dtype: float64"
      ]
     },
     "execution_count": 85,
     "metadata": {},
     "output_type": "execute_result"
    }
   ],
   "source": [
    "#Group by\n",
    "\n",
    "\n",
    "tab=Data.groupby('Hours_per_week_slab')['Age'].mean()\n",
    "print(type(tab))\n",
    "tab"
   ]
  },
  {
   "cell_type": "code",
   "execution_count": 86,
   "id": "7b7a7a9f",
   "metadata": {},
   "outputs": [],
   "source": [
    "# Which workclass average age is maximum?\n"
   ]
  },
  {
   "cell_type": "code",
   "execution_count": 87,
   "id": "8eb26f69",
   "metadata": {},
   "outputs": [
    {
     "data": {
      "text/plain": [
       "Workclass\n",
       " Federal-gov         42.522299\n",
       " Local-gov           41.637014\n",
       " Never-worked        19.857143\n",
       " Private             36.846593\n",
       " Self-emp-inc        45.950462\n",
       " Self-emp-not-inc    45.107579\n",
       " State-gov           39.687455\n",
       " Without-pay         49.428571\n",
       "Name: Age, dtype: float64"
      ]
     },
     "execution_count": 87,
     "metadata": {},
     "output_type": "execute_result"
    }
   ],
   "source": [
    "Data.groupby('Workclass')['Age'].mean()"
   ]
  },
  {
   "cell_type": "code",
   "execution_count": 88,
   "id": "6adc1aa6",
   "metadata": {},
   "outputs": [
    {
     "data": {
      "text/plain": [
       "Workclass\n",
       " Without-pay         49.428571\n",
       " Self-emp-inc        45.950462\n",
       " Self-emp-not-inc    45.107579\n",
       " Federal-gov         42.522299\n",
       " Local-gov           41.637014\n",
       " State-gov           39.687455\n",
       " Private             36.846593\n",
       " Never-worked        19.857143\n",
       "Name: Age, dtype: float64"
      ]
     },
     "execution_count": 88,
     "metadata": {},
     "output_type": "execute_result"
    }
   ],
   "source": [
    "(Data.groupby('Workclass')['Age'].mean()).sort_values(ascending=False)"
   ]
  },
  {
   "cell_type": "code",
   "execution_count": 89,
   "id": "420da128",
   "metadata": {},
   "outputs": [],
   "source": [
    "store=pd.read_excel('Super_store.xlsx')"
   ]
  },
  {
   "cell_type": "code",
   "execution_count": 90,
   "id": "0795c09d",
   "metadata": {},
   "outputs": [
    {
     "data": {
      "text/html": [
       "<div>\n",
       "<style scoped>\n",
       "    .dataframe tbody tr th:only-of-type {\n",
       "        vertical-align: middle;\n",
       "    }\n",
       "\n",
       "    .dataframe tbody tr th {\n",
       "        vertical-align: top;\n",
       "    }\n",
       "\n",
       "    .dataframe thead th {\n",
       "        text-align: right;\n",
       "    }\n",
       "</style>\n",
       "<table border=\"1\" class=\"dataframe\">\n",
       "  <thead>\n",
       "    <tr style=\"text-align: right;\">\n",
       "      <th></th>\n",
       "      <th>Row ID</th>\n",
       "      <th>Order Priority</th>\n",
       "      <th>Discount</th>\n",
       "      <th>Unit Price</th>\n",
       "      <th>Shipping Cost</th>\n",
       "      <th>Customer ID</th>\n",
       "      <th>Customer Name</th>\n",
       "      <th>Ship Mode</th>\n",
       "      <th>Customer Segment</th>\n",
       "      <th>Product Category</th>\n",
       "      <th>...</th>\n",
       "      <th>Region</th>\n",
       "      <th>State or Province</th>\n",
       "      <th>City</th>\n",
       "      <th>Postal Code</th>\n",
       "      <th>Order Date</th>\n",
       "      <th>Ship Date</th>\n",
       "      <th>Profit</th>\n",
       "      <th>Quantity ordered new</th>\n",
       "      <th>Sales</th>\n",
       "      <th>Order ID</th>\n",
       "    </tr>\n",
       "  </thead>\n",
       "  <tbody>\n",
       "    <tr>\n",
       "      <th>0</th>\n",
       "      <td>18606</td>\n",
       "      <td>Not Specified</td>\n",
       "      <td>0.01</td>\n",
       "      <td>2.88</td>\n",
       "      <td>0.50</td>\n",
       "      <td>2</td>\n",
       "      <td>Janice Fletcher</td>\n",
       "      <td>Regular Air</td>\n",
       "      <td>Corporate</td>\n",
       "      <td>Office Supplies</td>\n",
       "      <td>...</td>\n",
       "      <td>Central</td>\n",
       "      <td>Illinois</td>\n",
       "      <td>Addison</td>\n",
       "      <td>60101</td>\n",
       "      <td>2012-05-28</td>\n",
       "      <td>2012-05-30</td>\n",
       "      <td>1.32</td>\n",
       "      <td>2</td>\n",
       "      <td>5.90</td>\n",
       "      <td>88525</td>\n",
       "    </tr>\n",
       "    <tr>\n",
       "      <th>1</th>\n",
       "      <td>20847</td>\n",
       "      <td>High</td>\n",
       "      <td>0.01</td>\n",
       "      <td>2.84</td>\n",
       "      <td>0.93</td>\n",
       "      <td>3</td>\n",
       "      <td>Bonnie Potter</td>\n",
       "      <td>Express Air</td>\n",
       "      <td>Corporate</td>\n",
       "      <td>Office Supplies</td>\n",
       "      <td>...</td>\n",
       "      <td>West</td>\n",
       "      <td>Washington</td>\n",
       "      <td>Anacortes</td>\n",
       "      <td>98221</td>\n",
       "      <td>2010-07-07</td>\n",
       "      <td>2010-07-08</td>\n",
       "      <td>4.56</td>\n",
       "      <td>4</td>\n",
       "      <td>13.01</td>\n",
       "      <td>88522</td>\n",
       "    </tr>\n",
       "    <tr>\n",
       "      <th>2</th>\n",
       "      <td>23086</td>\n",
       "      <td>Not Specified</td>\n",
       "      <td>0.03</td>\n",
       "      <td>6.68</td>\n",
       "      <td>6.15</td>\n",
       "      <td>3</td>\n",
       "      <td>Bonnie Potter</td>\n",
       "      <td>Express Air</td>\n",
       "      <td>Corporate</td>\n",
       "      <td>Office Supplies</td>\n",
       "      <td>...</td>\n",
       "      <td>West</td>\n",
       "      <td>Washington</td>\n",
       "      <td>Anacortes</td>\n",
       "      <td>98221</td>\n",
       "      <td>2011-07-27</td>\n",
       "      <td>2011-07-28</td>\n",
       "      <td>-47.64</td>\n",
       "      <td>7</td>\n",
       "      <td>49.92</td>\n",
       "      <td>88523</td>\n",
       "    </tr>\n",
       "  </tbody>\n",
       "</table>\n",
       "<p>3 rows × 24 columns</p>\n",
       "</div>"
      ],
      "text/plain": [
       "   Row ID Order Priority  Discount  Unit Price  Shipping Cost  Customer ID  \\\n",
       "0   18606  Not Specified      0.01        2.88           0.50            2   \n",
       "1   20847           High      0.01        2.84           0.93            3   \n",
       "2   23086  Not Specified      0.03        6.68           6.15            3   \n",
       "\n",
       "     Customer Name    Ship Mode Customer Segment Product Category  ...  \\\n",
       "0  Janice Fletcher  Regular Air        Corporate  Office Supplies  ...   \n",
       "1    Bonnie Potter  Express Air        Corporate  Office Supplies  ...   \n",
       "2    Bonnie Potter  Express Air        Corporate  Office Supplies  ...   \n",
       "\n",
       "    Region State or Province       City  Postal Code Order Date  Ship Date  \\\n",
       "0  Central          Illinois    Addison        60101 2012-05-28 2012-05-30   \n",
       "1     West        Washington  Anacortes        98221 2010-07-07 2010-07-08   \n",
       "2     West        Washington  Anacortes        98221 2011-07-27 2011-07-28   \n",
       "\n",
       "  Profit  Quantity ordered new  Sales Order ID  \n",
       "0   1.32                     2   5.90    88525  \n",
       "1   4.56                     4  13.01    88522  \n",
       "2 -47.64                     7  49.92    88523  \n",
       "\n",
       "[3 rows x 24 columns]"
      ]
     },
     "execution_count": 90,
     "metadata": {},
     "output_type": "execute_result"
    }
   ],
   "source": [
    "store.head(3)"
   ]
  },
  {
   "cell_type": "code",
   "execution_count": 91,
   "id": "4566179a",
   "metadata": {},
   "outputs": [
    {
     "data": {
      "text/plain": [
       "Index(['Row ID', 'Order Priority', 'Discount', 'Unit Price', 'Shipping Cost',\n",
       "       'Customer ID', 'Customer Name', 'Ship Mode', 'Customer Segment',\n",
       "       'Product Category', 'Product Sub-Category', 'Product Container',\n",
       "       'Product Name', 'Product Base Margin', 'Region', 'State or Province',\n",
       "       'City', 'Postal Code', 'Order Date', 'Ship Date', 'Profit',\n",
       "       'Quantity ordered new', 'Sales', 'Order ID'],\n",
       "      dtype='object')"
      ]
     },
     "execution_count": 91,
     "metadata": {},
     "output_type": "execute_result"
    }
   ],
   "source": [
    "store.columns"
   ]
  },
  {
   "cell_type": "code",
   "execution_count": 92,
   "id": "60e39c56",
   "metadata": {},
   "outputs": [
    {
     "data": {
      "text/plain": [
       "(9426, 24)"
      ]
     },
     "execution_count": 92,
     "metadata": {},
     "output_type": "execute_result"
    }
   ],
   "source": [
    "store.shape"
   ]
  },
  {
   "cell_type": "code",
   "execution_count": 93,
   "id": "44f575c1",
   "metadata": {},
   "outputs": [],
   "source": [
    "# data contains the transactional information about 9426 items"
   ]
  },
  {
   "cell_type": "code",
   "execution_count": 94,
   "id": "40825c27",
   "metadata": {},
   "outputs": [
    {
     "data": {
      "text/plain": [
       "6455"
      ]
     },
     "execution_count": 94,
     "metadata": {},
     "output_type": "execute_result"
    }
   ],
   "source": [
    "store['Order ID'].nunique()"
   ]
  },
  {
   "cell_type": "code",
   "execution_count": 95,
   "id": "a7b72d03",
   "metadata": {},
   "outputs": [],
   "source": [
    "#there may be multiple ordered in single order(Order ID)"
   ]
  },
  {
   "cell_type": "code",
   "execution_count": 96,
   "id": "d98035f1",
   "metadata": {},
   "outputs": [
    {
     "data": {
      "text/plain": [
       "43745    6\n",
       "Name: Order ID, dtype: int64"
      ]
     },
     "execution_count": 96,
     "metadata": {},
     "output_type": "execute_result"
    }
   ],
   "source": [
    "# can u name the order id in which max items were ordered/purchased\n",
    "store['Order ID'].value_counts().head(1)"
   ]
  },
  {
   "cell_type": "code",
   "execution_count": 97,
   "id": "ae236eea",
   "metadata": {},
   "outputs": [],
   "source": [
    "#43745 is the 0rder ID which 6 items are purchased"
   ]
  },
  {
   "cell_type": "code",
   "execution_count": 98,
   "id": "80e7084e",
   "metadata": {},
   "outputs": [
    {
     "data": {
      "text/html": [
       "<div>\n",
       "<style scoped>\n",
       "    .dataframe tbody tr th:only-of-type {\n",
       "        vertical-align: middle;\n",
       "    }\n",
       "\n",
       "    .dataframe tbody tr th {\n",
       "        vertical-align: top;\n",
       "    }\n",
       "\n",
       "    .dataframe thead th {\n",
       "        text-align: right;\n",
       "    }\n",
       "</style>\n",
       "<table border=\"1\" class=\"dataframe\">\n",
       "  <thead>\n",
       "    <tr style=\"text-align: right;\">\n",
       "      <th></th>\n",
       "      <th>Customer Segment</th>\n",
       "      <th>Product Name</th>\n",
       "    </tr>\n",
       "  </thead>\n",
       "  <tbody>\n",
       "    <tr>\n",
       "      <th>5373</th>\n",
       "      <td>Corporate</td>\n",
       "      <td>Belkin 5 Outlet SurgeMaster™ Power Centers</td>\n",
       "    </tr>\n",
       "    <tr>\n",
       "      <th>5374</th>\n",
       "      <td>Corporate</td>\n",
       "      <td>Microsoft Natural Multimedia Keyboard</td>\n",
       "    </tr>\n",
       "    <tr>\n",
       "      <th>5375</th>\n",
       "      <td>Corporate</td>\n",
       "      <td>Xerox 1968</td>\n",
       "    </tr>\n",
       "    <tr>\n",
       "      <th>5376</th>\n",
       "      <td>Corporate</td>\n",
       "      <td>T61</td>\n",
       "    </tr>\n",
       "    <tr>\n",
       "      <th>5377</th>\n",
       "      <td>Corporate</td>\n",
       "      <td>3M Office Air Cleaner</td>\n",
       "    </tr>\n",
       "    <tr>\n",
       "      <th>5387</th>\n",
       "      <td>Corporate</td>\n",
       "      <td>Acco Clips to Go™ Binder Clips, 24 Clips in Tw...</td>\n",
       "    </tr>\n",
       "  </tbody>\n",
       "</table>\n",
       "</div>"
      ],
      "text/plain": [
       "     Customer Segment                                       Product Name\n",
       "5373        Corporate         Belkin 5 Outlet SurgeMaster™ Power Centers\n",
       "5374        Corporate              Microsoft Natural Multimedia Keyboard\n",
       "5375        Corporate                                         Xerox 1968\n",
       "5376        Corporate                                                T61\n",
       "5377        Corporate                              3M Office Air Cleaner\n",
       "5387        Corporate  Acco Clips to Go™ Binder Clips, 24 Clips in Tw..."
      ]
     },
     "execution_count": 98,
     "metadata": {},
     "output_type": "execute_result"
    }
   ],
   "source": [
    "#what are all these 6 items\n",
    "store[store['Order ID']==43745][['Customer Segment','Product Name']]"
   ]
  },
  {
   "cell_type": "code",
   "execution_count": 99,
   "id": "a47a3d4c",
   "metadata": {},
   "outputs": [],
   "source": [
    "# I want to know top 10 loyal customers"
   ]
  },
  {
   "cell_type": "code",
   "execution_count": 100,
   "id": "9cc4cf37",
   "metadata": {},
   "outputs": [
    {
     "data": {
      "text/plain": [
       "Customer Name\n",
       "Vincent Kenney      15503.700000\n",
       "Daniel S Glover     12163.610000\n",
       "Milton Bland        10880.440000\n",
       "Jeanette Davies     10180.010000\n",
       "Pamela C Kane       10020.480000\n",
       "Nina Horne Kelly     9780.450000\n",
       "Evan Shore           9629.910000\n",
       "Jason Hernandez      9360.466667\n",
       "Frank Cross          8803.298000\n",
       "Caroline Morton      8801.001667\n",
       "Name: Sales, dtype: float64"
      ]
     },
     "execution_count": 100,
     "metadata": {},
     "output_type": "execute_result"
    }
   ],
   "source": [
    "store.groupby('Customer Name')['Sales'].mean().sort_values(ascending=False).head(10)"
   ]
  },
  {
   "cell_type": "code",
   "execution_count": 101,
   "id": "6b28ea60",
   "metadata": {},
   "outputs": [
    {
     "data": {
      "text/plain": [
       "Customer Name\n",
       "Gordon Brandt    123745.62\n",
       "Name: Sales, dtype: float64"
      ]
     },
     "execution_count": 101,
     "metadata": {},
     "output_type": "execute_result"
    }
   ],
   "source": [
    "store.groupby('Customer Name')['Sales'].sum().sort_values(ascending=False).head(1)"
   ]
  },
  {
   "cell_type": "code",
   "execution_count": 102,
   "id": "9765766d",
   "metadata": {},
   "outputs": [
    {
     "data": {
      "text/plain": [
       "Customer Name\n",
       "Cathy Hutchinson    8653.3167\n",
       "Name: Profit, dtype: float64"
      ]
     },
     "execution_count": 102,
     "metadata": {},
     "output_type": "execute_result"
    }
   ],
   "source": [
    "store.groupby('Customer Name')['Profit'].mean().sort_values(ascending=False).head(1)"
   ]
  },
  {
   "cell_type": "code",
   "execution_count": 103,
   "id": "d27ebee1",
   "metadata": {},
   "outputs": [
    {
     "data": {
      "text/plain": [
       "Customer Name\n",
       "Andrea Shaw    17536.851156\n",
       "Name: Profit, dtype: float64"
      ]
     },
     "execution_count": 103,
     "metadata": {},
     "output_type": "execute_result"
    }
   ],
   "source": [
    "store.groupby('Customer Name')['Profit'].sum().sort_values(ascending=False).head(1)"
   ]
  },
  {
   "cell_type": "code",
   "execution_count": 104,
   "id": "67a05296",
   "metadata": {},
   "outputs": [
    {
     "data": {
      "text/plain": [
       "Customer Name\n",
       "Louis Parrish    27\n",
       "Name: Order ID, dtype: int64"
      ]
     },
     "execution_count": 104,
     "metadata": {},
     "output_type": "execute_result"
    }
   ],
   "source": [
    "store.groupby('Customer Name')['Order ID'].count().sort_values(ascending=False).head(1)"
   ]
  },
  {
   "cell_type": "code",
   "execution_count": 105,
   "id": "39037969",
   "metadata": {},
   "outputs": [],
   "source": [
    "#store['customer name'].value_counts()"
   ]
  },
  {
   "cell_type": "code",
   "execution_count": 106,
   "id": "19f682bb",
   "metadata": {},
   "outputs": [
    {
     "data": {
      "text/html": [
       "<div>\n",
       "<style scoped>\n",
       "    .dataframe tbody tr th:only-of-type {\n",
       "        vertical-align: middle;\n",
       "    }\n",
       "\n",
       "    .dataframe tbody tr th {\n",
       "        vertical-align: top;\n",
       "    }\n",
       "\n",
       "    .dataframe thead th {\n",
       "        text-align: right;\n",
       "    }\n",
       "</style>\n",
       "<table border=\"1\" class=\"dataframe\">\n",
       "  <thead>\n",
       "    <tr style=\"text-align: right;\">\n",
       "      <th></th>\n",
       "      <th>Profit</th>\n",
       "      <th>Sales</th>\n",
       "    </tr>\n",
       "    <tr>\n",
       "      <th>Region</th>\n",
       "      <th></th>\n",
       "      <th></th>\n",
       "    </tr>\n",
       "  </thead>\n",
       "  <tbody>\n",
       "    <tr>\n",
       "      <th>Central</th>\n",
       "      <td>179.312027</td>\n",
       "      <td>876.282035</td>\n",
       "    </tr>\n",
       "    <tr>\n",
       "      <th>East</th>\n",
       "      <td>164.948094</td>\n",
       "      <td>1058.455518</td>\n",
       "    </tr>\n",
       "    <tr>\n",
       "      <th>South</th>\n",
       "      <td>53.327120</td>\n",
       "      <td>817.475036</td>\n",
       "    </tr>\n",
       "    <tr>\n",
       "      <th>West</th>\n",
       "      <td>136.098710</td>\n",
       "      <td>1047.039755</td>\n",
       "    </tr>\n",
       "  </tbody>\n",
       "</table>\n",
       "</div>"
      ],
      "text/plain": [
       "             Profit        Sales\n",
       "Region                          \n",
       "Central  179.312027   876.282035\n",
       "East     164.948094  1058.455518\n",
       "South     53.327120   817.475036\n",
       "West     136.098710  1047.039755"
      ]
     },
     "execution_count": 106,
     "metadata": {},
     "output_type": "execute_result"
    }
   ],
   "source": [
    "# want to know rgion wise sales and profit\n",
    "\n",
    "store.groupby('Region')[['Profit','Sales']].mean()         #own logic"
   ]
  },
  {
   "cell_type": "code",
   "execution_count": 107,
   "id": "f025fb81",
   "metadata": {},
   "outputs": [],
   "source": [
    "#syntx given by sir\n",
    "\n",
    "tab=store.groupby('Region').agg({'Sales':'mean','Profit':'mean'})   #this is used to get diff value n result for diff category using agg"
   ]
  },
  {
   "cell_type": "code",
   "execution_count": 108,
   "id": "d5ac7511",
   "metadata": {},
   "outputs": [],
   "source": [
    "#can u compute profit to sales ratio and include that as one new column in the above table?"
   ]
  },
  {
   "cell_type": "code",
   "execution_count": 109,
   "id": "ee84b90a",
   "metadata": {},
   "outputs": [
    {
     "data": {
      "text/html": [
       "<div>\n",
       "<style scoped>\n",
       "    .dataframe tbody tr th:only-of-type {\n",
       "        vertical-align: middle;\n",
       "    }\n",
       "\n",
       "    .dataframe tbody tr th {\n",
       "        vertical-align: top;\n",
       "    }\n",
       "\n",
       "    .dataframe thead th {\n",
       "        text-align: right;\n",
       "    }\n",
       "</style>\n",
       "<table border=\"1\" class=\"dataframe\">\n",
       "  <thead>\n",
       "    <tr style=\"text-align: right;\">\n",
       "      <th></th>\n",
       "      <th>Sales</th>\n",
       "      <th>Profit</th>\n",
       "      <th>profit_sales_ratio</th>\n",
       "    </tr>\n",
       "    <tr>\n",
       "      <th>Region</th>\n",
       "      <th></th>\n",
       "      <th></th>\n",
       "      <th></th>\n",
       "    </tr>\n",
       "  </thead>\n",
       "  <tbody>\n",
       "    <tr>\n",
       "      <th>Central</th>\n",
       "      <td>876.282035</td>\n",
       "      <td>179.312027</td>\n",
       "      <td>0.204628</td>\n",
       "    </tr>\n",
       "    <tr>\n",
       "      <th>East</th>\n",
       "      <td>1058.455518</td>\n",
       "      <td>164.948094</td>\n",
       "      <td>0.155838</td>\n",
       "    </tr>\n",
       "    <tr>\n",
       "      <th>South</th>\n",
       "      <td>817.475036</td>\n",
       "      <td>53.327120</td>\n",
       "      <td>0.065234</td>\n",
       "    </tr>\n",
       "    <tr>\n",
       "      <th>West</th>\n",
       "      <td>1047.039755</td>\n",
       "      <td>136.098710</td>\n",
       "      <td>0.129984</td>\n",
       "    </tr>\n",
       "  </tbody>\n",
       "</table>\n",
       "</div>"
      ],
      "text/plain": [
       "               Sales      Profit  profit_sales_ratio\n",
       "Region                                              \n",
       "Central   876.282035  179.312027            0.204628\n",
       "East     1058.455518  164.948094            0.155838\n",
       "South     817.475036   53.327120            0.065234\n",
       "West     1047.039755  136.098710            0.129984"
      ]
     },
     "execution_count": 109,
     "metadata": {},
     "output_type": "execute_result"
    }
   ],
   "source": [
    "tab['profit_sales_ratio']=tab['Profit']/tab['Sales']\n",
    "tab"
   ]
  },
  {
   "cell_type": "code",
   "execution_count": 110,
   "id": "ded85fb3",
   "metadata": {},
   "outputs": [
    {
     "data": {
      "text/html": [
       "<div>\n",
       "<style scoped>\n",
       "    .dataframe tbody tr th:only-of-type {\n",
       "        vertical-align: middle;\n",
       "    }\n",
       "\n",
       "    .dataframe tbody tr th {\n",
       "        vertical-align: top;\n",
       "    }\n",
       "\n",
       "    .dataframe thead th {\n",
       "        text-align: right;\n",
       "    }\n",
       "</style>\n",
       "<table border=\"1\" class=\"dataframe\">\n",
       "  <thead>\n",
       "    <tr style=\"text-align: right;\">\n",
       "      <th></th>\n",
       "      <th>Sales</th>\n",
       "      <th>Profit</th>\n",
       "      <th>profit_sales_ratio</th>\n",
       "    </tr>\n",
       "    <tr>\n",
       "      <th>Region</th>\n",
       "      <th></th>\n",
       "      <th></th>\n",
       "      <th></th>\n",
       "    </tr>\n",
       "  </thead>\n",
       "  <tbody>\n",
       "    <tr>\n",
       "      <th>Central</th>\n",
       "      <td>876.282035</td>\n",
       "      <td>179.312027</td>\n",
       "      <td>0.204628</td>\n",
       "    </tr>\n",
       "    <tr>\n",
       "      <th>East</th>\n",
       "      <td>1058.455518</td>\n",
       "      <td>164.948094</td>\n",
       "      <td>0.155838</td>\n",
       "    </tr>\n",
       "    <tr>\n",
       "      <th>West</th>\n",
       "      <td>1047.039755</td>\n",
       "      <td>136.098710</td>\n",
       "      <td>0.129984</td>\n",
       "    </tr>\n",
       "    <tr>\n",
       "      <th>South</th>\n",
       "      <td>817.475036</td>\n",
       "      <td>53.327120</td>\n",
       "      <td>0.065234</td>\n",
       "    </tr>\n",
       "  </tbody>\n",
       "</table>\n",
       "</div>"
      ],
      "text/plain": [
       "               Sales      Profit  profit_sales_ratio\n",
       "Region                                              \n",
       "Central   876.282035  179.312027            0.204628\n",
       "East     1058.455518  164.948094            0.155838\n",
       "West     1047.039755  136.098710            0.129984\n",
       "South     817.475036   53.327120            0.065234"
      ]
     },
     "execution_count": 110,
     "metadata": {},
     "output_type": "execute_result"
    }
   ],
   "source": [
    "tab.sort_values('profit_sales_ratio',ascending=False)"
   ]
  },
  {
   "cell_type": "code",
   "execution_count": 111,
   "id": "9b2bb75c",
   "metadata": {},
   "outputs": [],
   "source": [
    "#why profit is low in south?\n",
    "\n",
    "# want to know what kind of product categories generally making more profit and less profit\n",
    "\n",
    "#how these product categories are getting sold in south region"
   ]
  },
  {
   "cell_type": "code",
   "execution_count": 112,
   "id": "654dd7f8",
   "metadata": {},
   "outputs": [
    {
     "name": "stderr",
     "output_type": "stream",
     "text": [
      "<ipython-input-112-3b45d05872fa>:1: FutureWarning: Indexing with multiple keys (implicitly converted to a tuple of keys) will be deprecated, use a list instead.\n",
      "  tab=store.groupby('Product Category')['Sales','Profit'].mean()\n"
     ]
    }
   ],
   "source": [
    "tab=store.groupby('Product Category')['Sales','Profit'].mean()"
   ]
  },
  {
   "cell_type": "code",
   "execution_count": 113,
   "id": "f61db70e",
   "metadata": {},
   "outputs": [
    {
     "data": {
      "text/html": [
       "<div>\n",
       "<style scoped>\n",
       "    .dataframe tbody tr th:only-of-type {\n",
       "        vertical-align: middle;\n",
       "    }\n",
       "\n",
       "    .dataframe tbody tr th {\n",
       "        vertical-align: top;\n",
       "    }\n",
       "\n",
       "    .dataframe thead th {\n",
       "        text-align: right;\n",
       "    }\n",
       "</style>\n",
       "<table border=\"1\" class=\"dataframe\">\n",
       "  <thead>\n",
       "    <tr style=\"text-align: right;\">\n",
       "      <th></th>\n",
       "      <th>Sales</th>\n",
       "      <th>Profit</th>\n",
       "      <th>profit_sales_ratio</th>\n",
       "    </tr>\n",
       "    <tr>\n",
       "      <th>Product Category</th>\n",
       "      <th></th>\n",
       "      <th></th>\n",
       "      <th></th>\n",
       "    </tr>\n",
       "  </thead>\n",
       "  <tbody>\n",
       "    <tr>\n",
       "      <th>Furniture</th>\n",
       "      <td>1644.399245</td>\n",
       "      <td>91.750801</td>\n",
       "      <td>0.055796</td>\n",
       "    </tr>\n",
       "    <tr>\n",
       "      <th>Office Supplies</th>\n",
       "      <td>435.886036</td>\n",
       "      <td>87.239957</td>\n",
       "      <td>0.200144</td>\n",
       "    </tr>\n",
       "    <tr>\n",
       "      <th>Technology</th>\n",
       "      <td>1520.320947</td>\n",
       "      <td>295.457563</td>\n",
       "      <td>0.194339</td>\n",
       "    </tr>\n",
       "  </tbody>\n",
       "</table>\n",
       "</div>"
      ],
      "text/plain": [
       "                        Sales      Profit  profit_sales_ratio\n",
       "Product Category                                             \n",
       "Furniture         1644.399245   91.750801            0.055796\n",
       "Office Supplies    435.886036   87.239957            0.200144\n",
       "Technology        1520.320947  295.457563            0.194339"
      ]
     },
     "execution_count": 113,
     "metadata": {},
     "output_type": "execute_result"
    }
   ],
   "source": [
    "tab['profit_sales_ratio']=tab['Profit']/tab['Sales']\n",
    "tab"
   ]
  },
  {
   "cell_type": "code",
   "execution_count": 114,
   "id": "bd337602",
   "metadata": {},
   "outputs": [
    {
     "name": "stderr",
     "output_type": "stream",
     "text": [
      "<ipython-input-114-de57e328dd6b>:1: FutureWarning: Indexing with multiple keys (implicitly converted to a tuple of keys) will be deprecated, use a list instead.\n",
      "  store.groupby(['Region','Product Category'])['Sales','Profit'].mean()\n"
     ]
    },
    {
     "data": {
      "text/html": [
       "<div>\n",
       "<style scoped>\n",
       "    .dataframe tbody tr th:only-of-type {\n",
       "        vertical-align: middle;\n",
       "    }\n",
       "\n",
       "    .dataframe tbody tr th {\n",
       "        vertical-align: top;\n",
       "    }\n",
       "\n",
       "    .dataframe thead th {\n",
       "        text-align: right;\n",
       "    }\n",
       "</style>\n",
       "<table border=\"1\" class=\"dataframe\">\n",
       "  <thead>\n",
       "    <tr style=\"text-align: right;\">\n",
       "      <th></th>\n",
       "      <th></th>\n",
       "      <th>Sales</th>\n",
       "      <th>Profit</th>\n",
       "    </tr>\n",
       "    <tr>\n",
       "      <th>Region</th>\n",
       "      <th>Product Category</th>\n",
       "      <th></th>\n",
       "      <th></th>\n",
       "    </tr>\n",
       "  </thead>\n",
       "  <tbody>\n",
       "    <tr>\n",
       "      <th rowspan=\"3\" valign=\"top\">Central</th>\n",
       "      <th>Furniture</th>\n",
       "      <td>1379.161509</td>\n",
       "      <td>88.638050</td>\n",
       "    </tr>\n",
       "    <tr>\n",
       "      <th>Office Supplies</th>\n",
       "      <td>431.538576</td>\n",
       "      <td>107.238571</td>\n",
       "    </tr>\n",
       "    <tr>\n",
       "      <th>Technology</th>\n",
       "      <td>1406.353361</td>\n",
       "      <td>414.810503</td>\n",
       "    </tr>\n",
       "    <tr>\n",
       "      <th rowspan=\"3\" valign=\"top\">East</th>\n",
       "      <th>Furniture</th>\n",
       "      <td>1803.889896</td>\n",
       "      <td>54.730878</td>\n",
       "    </tr>\n",
       "    <tr>\n",
       "      <th>Office Supplies</th>\n",
       "      <td>559.307060</td>\n",
       "      <td>112.258206</td>\n",
       "    </tr>\n",
       "    <tr>\n",
       "      <th>Technology</th>\n",
       "      <td>1574.912342</td>\n",
       "      <td>387.653638</td>\n",
       "    </tr>\n",
       "    <tr>\n",
       "      <th rowspan=\"3\" valign=\"top\">South</th>\n",
       "      <th>Furniture</th>\n",
       "      <td>1476.381351</td>\n",
       "      <td>45.896183</td>\n",
       "    </tr>\n",
       "    <tr>\n",
       "      <th>Office Supplies</th>\n",
       "      <td>340.264359</td>\n",
       "      <td>53.184958</td>\n",
       "    </tr>\n",
       "    <tr>\n",
       "      <th>Technology</th>\n",
       "      <td>1396.153794</td>\n",
       "      <td>59.318218</td>\n",
       "    </tr>\n",
       "    <tr>\n",
       "      <th rowspan=\"3\" valign=\"top\">West</th>\n",
       "      <th>Furniture</th>\n",
       "      <td>1971.977787</td>\n",
       "      <td>171.225845</td>\n",
       "    </tr>\n",
       "    <tr>\n",
       "      <th>Office Supplies</th>\n",
       "      <td>399.814388</td>\n",
       "      <td>66.796625</td>\n",
       "    </tr>\n",
       "    <tr>\n",
       "      <th>Technology</th>\n",
       "      <td>1717.114056</td>\n",
       "      <td>259.356226</td>\n",
       "    </tr>\n",
       "  </tbody>\n",
       "</table>\n",
       "</div>"
      ],
      "text/plain": [
       "                                Sales      Profit\n",
       "Region  Product Category                         \n",
       "Central Furniture         1379.161509   88.638050\n",
       "        Office Supplies    431.538576  107.238571\n",
       "        Technology        1406.353361  414.810503\n",
       "East    Furniture         1803.889896   54.730878\n",
       "        Office Supplies    559.307060  112.258206\n",
       "        Technology        1574.912342  387.653638\n",
       "South   Furniture         1476.381351   45.896183\n",
       "        Office Supplies    340.264359   53.184958\n",
       "        Technology        1396.153794   59.318218\n",
       "West    Furniture         1971.977787  171.225845\n",
       "        Office Supplies    399.814388   66.796625\n",
       "        Technology        1717.114056  259.356226"
      ]
     },
     "execution_count": 114,
     "metadata": {},
     "output_type": "execute_result"
    }
   ],
   "source": [
    "store.groupby(['Region','Product Category'])['Sales','Profit'].mean()"
   ]
  },
  {
   "cell_type": "code",
   "execution_count": 115,
   "id": "169917d4",
   "metadata": {},
   "outputs": [],
   "source": [
    "# the profit produced by technology products are way less compare to all other region\n",
    "# Furniture profit is less acrosss all the region,why?"
   ]
  },
  {
   "cell_type": "code",
   "execution_count": 116,
   "id": "ef5660e5",
   "metadata": {},
   "outputs": [
    {
     "data": {
      "text/plain": [
       "Product Category\n",
       "Furniture          59435.92\n",
       "Office Supplies    40482.49\n",
       "Technology         20688.60\n",
       "Name: Shipping Cost, dtype: float64"
      ]
     },
     "execution_count": 116,
     "metadata": {},
     "output_type": "execute_result"
    }
   ],
   "source": [
    "store.groupby('Product Category')['Shipping Cost'].sum()"
   ]
  },
  {
   "cell_type": "code",
   "execution_count": 117,
   "id": "5b0f8905",
   "metadata": {},
   "outputs": [
    {
     "data": {
      "text/plain": [
       "Product Category\n",
       "Furniture          30.748019\n",
       "Office Supplies     7.813644\n",
       "Technology          8.948356\n",
       "Name: Shipping Cost, dtype: float64"
      ]
     },
     "execution_count": 117,
     "metadata": {},
     "output_type": "execute_result"
    }
   ],
   "source": [
    "store.groupby('Product Category')['Shipping Cost'].mean()"
   ]
  },
  {
   "cell_type": "code",
   "execution_count": 118,
   "id": "c357f769",
   "metadata": {},
   "outputs": [
    {
     "data": {
      "text/plain": [
       "Product Category\n",
       "Furniture          0.598239\n",
       "Office Supplies    0.460882\n",
       "Technology         0.556475\n",
       "Name: Product Base Margin, dtype: float64"
      ]
     },
     "execution_count": 118,
     "metadata": {},
     "output_type": "execute_result"
    }
   ],
   "source": [
    "store.groupby('Product Category')['Product Base Margin'].mean()"
   ]
  },
  {
   "cell_type": "code",
   "execution_count": 119,
   "id": "b8828a5b",
   "metadata": {},
   "outputs": [
    {
     "data": {
      "text/html": [
       "<div>\n",
       "<style scoped>\n",
       "    .dataframe tbody tr th:only-of-type {\n",
       "        vertical-align: middle;\n",
       "    }\n",
       "\n",
       "    .dataframe tbody tr th {\n",
       "        vertical-align: top;\n",
       "    }\n",
       "\n",
       "    .dataframe thead th {\n",
       "        text-align: right;\n",
       "    }\n",
       "</style>\n",
       "<table border=\"1\" class=\"dataframe\">\n",
       "  <thead>\n",
       "    <tr style=\"text-align: right;\">\n",
       "      <th>Ship Mode</th>\n",
       "      <th>Delivery Truck</th>\n",
       "      <th>Express Air</th>\n",
       "      <th>Regular Air</th>\n",
       "    </tr>\n",
       "    <tr>\n",
       "      <th>Product Category</th>\n",
       "      <th></th>\n",
       "      <th></th>\n",
       "      <th></th>\n",
       "    </tr>\n",
       "  </thead>\n",
       "  <tbody>\n",
       "    <tr>\n",
       "      <th>Furniture</th>\n",
       "      <td>956</td>\n",
       "      <td>139</td>\n",
       "      <td>838</td>\n",
       "    </tr>\n",
       "    <tr>\n",
       "      <th>Office Supplies</th>\n",
       "      <td>82</td>\n",
       "      <td>673</td>\n",
       "      <td>4426</td>\n",
       "    </tr>\n",
       "    <tr>\n",
       "      <th>Technology</th>\n",
       "      <td>245</td>\n",
       "      <td>295</td>\n",
       "      <td>1772</td>\n",
       "    </tr>\n",
       "  </tbody>\n",
       "</table>\n",
       "</div>"
      ],
      "text/plain": [
       "Ship Mode         Delivery Truck  Express Air  Regular Air\n",
       "Product Category                                          \n",
       "Furniture                    956          139          838\n",
       "Office Supplies               82          673         4426\n",
       "Technology                   245          295         1772"
      ]
     },
     "execution_count": 119,
     "metadata": {},
     "output_type": "execute_result"
    }
   ],
   "source": [
    "pd.crosstab(store['Product Category'],store['Ship Mode'])  ##more furniture is delivered thru truck,this is high reason for shipping cost"
   ]
  },
  {
   "cell_type": "code",
   "execution_count": 120,
   "id": "8d7ef447",
   "metadata": {},
   "outputs": [],
   "source": [
    "# 10-08-21 pandas continuation"
   ]
  },
  {
   "cell_type": "code",
   "execution_count": 121,
   "id": "7164e362",
   "metadata": {},
   "outputs": [],
   "source": [
    "store['Row ID']=store['Row ID'].astype('object')\n",
    "store['Customer ID']=store['Customer ID'].astype('object')\n",
    "store['Postal Code']=store['Postal Code'].astype('object')\n",
    "store['Order ID']=store['Order ID'].astype('object')"
   ]
  },
  {
   "cell_type": "code",
   "execution_count": 122,
   "id": "a49d6192",
   "metadata": {},
   "outputs": [],
   "source": [
    "#prior to machine learning these two types are imp in pandas\n",
    "# 1 understand the data\n",
    "# 2 pre-processing the data"
   ]
  },
  {
   "cell_type": "code",
   "execution_count": 123,
   "id": "835bdba9",
   "metadata": {},
   "outputs": [],
   "source": [
    "# Univariate Analysis\n",
    "# Numeric data Univariate Analysis\n",
    "\n",
    "num_store=store.select_dtypes(include=np.number)"
   ]
  },
  {
   "cell_type": "code",
   "execution_count": 124,
   "id": "50a4f4f6",
   "metadata": {},
   "outputs": [
    {
     "data": {
      "text/html": [
       "<div>\n",
       "<style scoped>\n",
       "    .dataframe tbody tr th:only-of-type {\n",
       "        vertical-align: middle;\n",
       "    }\n",
       "\n",
       "    .dataframe tbody tr th {\n",
       "        vertical-align: top;\n",
       "    }\n",
       "\n",
       "    .dataframe thead th {\n",
       "        text-align: right;\n",
       "    }\n",
       "</style>\n",
       "<table border=\"1\" class=\"dataframe\">\n",
       "  <thead>\n",
       "    <tr style=\"text-align: right;\">\n",
       "      <th></th>\n",
       "      <th>Discount</th>\n",
       "      <th>Unit Price</th>\n",
       "      <th>Shipping Cost</th>\n",
       "      <th>Product Base Margin</th>\n",
       "      <th>Profit</th>\n",
       "      <th>Quantity ordered new</th>\n",
       "      <th>Sales</th>\n",
       "    </tr>\n",
       "  </thead>\n",
       "  <tbody>\n",
       "    <tr>\n",
       "      <th>0</th>\n",
       "      <td>0.01</td>\n",
       "      <td>2.88</td>\n",
       "      <td>0.50</td>\n",
       "      <td>0.36</td>\n",
       "      <td>1.32</td>\n",
       "      <td>2</td>\n",
       "      <td>5.90</td>\n",
       "    </tr>\n",
       "    <tr>\n",
       "      <th>1</th>\n",
       "      <td>0.01</td>\n",
       "      <td>2.84</td>\n",
       "      <td>0.93</td>\n",
       "      <td>0.54</td>\n",
       "      <td>4.56</td>\n",
       "      <td>4</td>\n",
       "      <td>13.01</td>\n",
       "    </tr>\n",
       "  </tbody>\n",
       "</table>\n",
       "</div>"
      ],
      "text/plain": [
       "   Discount  Unit Price  Shipping Cost  Product Base Margin  Profit  \\\n",
       "0      0.01        2.88           0.50                 0.36    1.32   \n",
       "1      0.01        2.84           0.93                 0.54    4.56   \n",
       "\n",
       "   Quantity ordered new  Sales  \n",
       "0                     2   5.90  \n",
       "1                     4  13.01  "
      ]
     },
     "execution_count": 124,
     "metadata": {},
     "output_type": "execute_result"
    }
   ],
   "source": [
    "num_store.head(2)"
   ]
  },
  {
   "cell_type": "code",
   "execution_count": 125,
   "id": "6d3bc265",
   "metadata": {},
   "outputs": [],
   "source": [
    "store['Row ID']=store['Row ID'].astype('object')\n",
    "store['Customer ID']=store['Customer ID'].astype('object')\n",
    "store['Postal Code']=store['Postal Code'].astype('object')\n",
    "store['Order ID']=store['Order ID'].astype('object')"
   ]
  },
  {
   "cell_type": "code",
   "execution_count": 126,
   "id": "5841c99b",
   "metadata": {},
   "outputs": [],
   "source": [
    "num_uni_res=pd.DataFrame()"
   ]
  },
  {
   "cell_type": "code",
   "execution_count": 127,
   "id": "a6692d1d",
   "metadata": {},
   "outputs": [
    {
     "data": {
      "text/html": [
       "<div>\n",
       "<style scoped>\n",
       "    .dataframe tbody tr th:only-of-type {\n",
       "        vertical-align: middle;\n",
       "    }\n",
       "\n",
       "    .dataframe tbody tr th {\n",
       "        vertical-align: top;\n",
       "    }\n",
       "\n",
       "    .dataframe thead th {\n",
       "        text-align: right;\n",
       "    }\n",
       "</style>\n",
       "<table border=\"1\" class=\"dataframe\">\n",
       "  <thead>\n",
       "    <tr style=\"text-align: right;\">\n",
       "      <th></th>\n",
       "      <th>Mean</th>\n",
       "      <th>Max</th>\n",
       "      <th>Min</th>\n",
       "      <th>Range</th>\n",
       "      <th>25%</th>\n",
       "      <th>75%</th>\n",
       "      <th>Skew</th>\n",
       "      <th>Kurtosis</th>\n",
       "      <th>IQR</th>\n",
       "    </tr>\n",
       "  </thead>\n",
       "  <tbody>\n",
       "    <tr>\n",
       "      <th>Discount</th>\n",
       "      <td>0.049628</td>\n",
       "      <td>0.250</td>\n",
       "      <td>0.000</td>\n",
       "      <td>0.250</td>\n",
       "      <td>0.020000</td>\n",
       "      <td>0.08000</td>\n",
       "      <td>0.072045</td>\n",
       "      <td>-0.987208</td>\n",
       "      <td>0.060000</td>\n",
       "    </tr>\n",
       "    <tr>\n",
       "      <th>Unit Price</th>\n",
       "      <td>88.303686</td>\n",
       "      <td>6783.020</td>\n",
       "      <td>0.990</td>\n",
       "      <td>6782.030</td>\n",
       "      <td>6.480000</td>\n",
       "      <td>85.99000</td>\n",
       "      <td>14.135146</td>\n",
       "      <td>276.528461</td>\n",
       "      <td>79.510000</td>\n",
       "    </tr>\n",
       "    <tr>\n",
       "      <th>Shipping Cost</th>\n",
       "      <td>12.795142</td>\n",
       "      <td>164.730</td>\n",
       "      <td>0.490</td>\n",
       "      <td>164.240</td>\n",
       "      <td>3.192500</td>\n",
       "      <td>13.99000</td>\n",
       "      <td>2.544519</td>\n",
       "      <td>7.646014</td>\n",
       "      <td>10.797500</td>\n",
       "    </tr>\n",
       "    <tr>\n",
       "      <th>Product Base Margin</th>\n",
       "      <td>0.512189</td>\n",
       "      <td>0.850</td>\n",
       "      <td>0.350</td>\n",
       "      <td>0.500</td>\n",
       "      <td>0.380000</td>\n",
       "      <td>0.59000</td>\n",
       "      <td>0.561248</td>\n",
       "      <td>-0.653508</td>\n",
       "      <td>0.210000</td>\n",
       "    </tr>\n",
       "    <tr>\n",
       "      <th>Profit</th>\n",
       "      <td>139.236410</td>\n",
       "      <td>16332.414</td>\n",
       "      <td>-16476.838</td>\n",
       "      <td>32809.252</td>\n",
       "      <td>-74.017375</td>\n",
       "      <td>140.24385</td>\n",
       "      <td>0.841411</td>\n",
       "      <td>56.534342</td>\n",
       "      <td>214.261225</td>\n",
       "    </tr>\n",
       "    <tr>\n",
       "      <th>Quantity ordered new</th>\n",
       "      <td>13.798430</td>\n",
       "      <td>170.000</td>\n",
       "      <td>1.000</td>\n",
       "      <td>169.000</td>\n",
       "      <td>5.000000</td>\n",
       "      <td>17.00000</td>\n",
       "      <td>3.526650</td>\n",
       "      <td>19.004728</td>\n",
       "      <td>12.000000</td>\n",
       "    </tr>\n",
       "    <tr>\n",
       "      <th>Sales</th>\n",
       "      <td>949.706272</td>\n",
       "      <td>100119.160</td>\n",
       "      <td>1.320</td>\n",
       "      <td>100117.840</td>\n",
       "      <td>61.282500</td>\n",
       "      <td>776.40250</td>\n",
       "      <td>12.212531</td>\n",
       "      <td>300.129792</td>\n",
       "      <td>715.120000</td>\n",
       "    </tr>\n",
       "  </tbody>\n",
       "</table>\n",
       "</div>"
      ],
      "text/plain": [
       "                            Mean         Max        Min       Range  \\\n",
       "Discount                0.049628       0.250      0.000       0.250   \n",
       "Unit Price             88.303686    6783.020      0.990    6782.030   \n",
       "Shipping Cost          12.795142     164.730      0.490     164.240   \n",
       "Product Base Margin     0.512189       0.850      0.350       0.500   \n",
       "Profit                139.236410   16332.414 -16476.838   32809.252   \n",
       "Quantity ordered new   13.798430     170.000      1.000     169.000   \n",
       "Sales                 949.706272  100119.160      1.320  100117.840   \n",
       "\n",
       "                            25%        75%       Skew    Kurtosis         IQR  \n",
       "Discount               0.020000    0.08000   0.072045   -0.987208    0.060000  \n",
       "Unit Price             6.480000   85.99000  14.135146  276.528461   79.510000  \n",
       "Shipping Cost          3.192500   13.99000   2.544519    7.646014   10.797500  \n",
       "Product Base Margin    0.380000    0.59000   0.561248   -0.653508    0.210000  \n",
       "Profit               -74.017375  140.24385   0.841411   56.534342  214.261225  \n",
       "Quantity ordered new   5.000000   17.00000   3.526650   19.004728   12.000000  \n",
       "Sales                 61.282500  776.40250  12.212531  300.129792  715.120000  "
      ]
     },
     "execution_count": 127,
     "metadata": {},
     "output_type": "execute_result"
    }
   ],
   "source": [
    "num_uni_res['Mean']=num_store.mean()\n",
    "num_uni_res['Max']=num_store.max()\n",
    "num_uni_res['Min']=num_store.min()\n",
    "num_uni_res['Range']=num_store.max()-num_store.min()\n",
    "num_uni_res['25%']=num_store.quantile(0.25)\n",
    "num_uni_res['75%']=num_store.quantile(0.75)\n",
    "num_uni_res['Skew']=num_store.skew()\n",
    "num_uni_res['Kurtosis']=num_store.kurt()\n",
    "num_uni_res['IQR']=num_store.quantile(0.75)-num_store.quantile(0.25)\n",
    "num_uni_res"
   ]
  },
  {
   "cell_type": "code",
   "execution_count": 128,
   "id": "09d19a5e",
   "metadata": {},
   "outputs": [],
   "source": [
    "#visualisation libraries\n",
    "from matplotlib import pyplot as plt\n",
    "#import matplotlib.pyplot as plt\n",
    "import seaborn as sb"
   ]
  },
  {
   "cell_type": "code",
   "execution_count": 129,
   "id": "58327d67",
   "metadata": {},
   "outputs": [
    {
     "data": {
      "text/plain": [
       "<AxesSubplot:ylabel='Density'>"
      ]
     },
     "execution_count": 129,
     "metadata": {},
     "output_type": "execute_result"
    },
    {
     "data": {
      "image/png": "[encoded data removed]",
      "text/plain": [
       "<Figure size 432x288 with 1 Axes>"
      ]
     },
     "metadata": {
      "needs_background": "light"
     },
     "output_type": "display_data"
    }
   ],
   "source": [
    "store['Sales'].plot(kind='kde')"
   ]
  },
  {
   "cell_type": "code",
   "execution_count": 130,
   "id": "fd607999",
   "metadata": {},
   "outputs": [
    {
     "data": {
      "text/plain": [
       "12.212530753240422"
      ]
     },
     "execution_count": 130,
     "metadata": {},
     "output_type": "execute_result"
    }
   ],
   "source": [
    "store['Sales'].skew() #right skew is also called positive skew"
   ]
  },
  {
   "cell_type": "code",
   "execution_count": 131,
   "id": "5ed4a88c",
   "metadata": {},
   "outputs": [
    {
     "data": {
      "text/plain": [
       "0.8414114744082085"
      ]
     },
     "execution_count": 131,
     "metadata": {},
     "output_type": "execute_result"
    }
   ],
   "source": [
    "store['Profit'].skew()"
   ]
  },
  {
   "cell_type": "code",
   "execution_count": 132,
   "id": "6698ac07",
   "metadata": {},
   "outputs": [
    {
     "data": {
      "text/plain": [
       "5.090321267717066"
      ]
     },
     "execution_count": 132,
     "metadata": {},
     "output_type": "execute_result"
    },
    {
     "data": {
      "image/png": "[encoded data removed]",
      "text/plain": [
       "<Figure size 432x288 with 1 Axes>"
      ]
     },
     "metadata": {
      "needs_background": "light"
     },
     "output_type": "display_data"
    }
   ],
   "source": [
    "#skewness plot for office suppy records\n",
    "store[store['Product Category']=='Office Supplies']['Profit'].plot(kind='kde')\n",
    "store[store['Product Category']=='Office Supplies']['Profit'].skew()"
   ]
  },
  {
   "cell_type": "code",
   "execution_count": 133,
   "id": "8ed5c3cf",
   "metadata": {},
   "outputs": [
    {
     "data": {
      "text/plain": [
       "12.363441397697914"
      ]
     },
     "execution_count": 133,
     "metadata": {},
     "output_type": "execute_result"
    },
    {
     "data": {
      "image/png": "[encoded data removed]",
      "text/plain": [
       "<Figure size 432x288 with 1 Axes>"
      ]
     },
     "metadata": {
      "needs_background": "light"
     },
     "output_type": "display_data"
    }
   ],
   "source": [
    "store[store['Product Category']=='Office Supplies']['Sales'].plot(kind='kde')\n",
    "store[store['Product Category']=='Office Supplies']['Sales'].skew()"
   ]
  },
  {
   "cell_type": "code",
   "execution_count": 134,
   "id": "9efdcaa5",
   "metadata": {},
   "outputs": [
    {
     "data": {
      "text/plain": [
       "<seaborn.axisgrid.FacetGrid at 0x1577f4309a0>"
      ]
     },
     "execution_count": 134,
     "metadata": {},
     "output_type": "execute_result"
    },
    {
     "data": {
      "image/png": "[encoded data removed]",
      "text/plain": [
       "<Figure size 360x360 with 1 Axes>"
      ]
     },
     "metadata": {
      "needs_background": "light"
     },
     "output_type": "display_data"
    }
   ],
   "source": [
    "sb.displot(store['Sales'])"
   ]
  },
  {
   "cell_type": "code",
   "execution_count": 135,
   "id": "6835a3b0",
   "metadata": {},
   "outputs": [
    {
     "data": {
      "image/png": "[encoded data removed]",
      "text/plain": [
       "<Figure size 432x288 with 1 Axes>"
      ]
     },
     "metadata": {
      "needs_background": "light"
     },
     "output_type": "display_data"
    }
   ],
   "source": [
    "plt.hist(store['Sales'],bins=10)\n",
    "plt.show()"
   ]
  },
  {
   "cell_type": "code",
   "execution_count": 136,
   "id": "bddeae52",
   "metadata": {},
   "outputs": [
    {
     "name": "stderr",
     "output_type": "stream",
     "text": [
      "C:\\Users\\lash7\\anaconda3\\lib\\site-packages\\seaborn\\_decorators.py:36: FutureWarning: Pass the following variable as a keyword arg: x. From version 0.12, the only valid positional argument will be `data`, and passing other arguments without an explicit keyword will result in an error or misinterpretation.\n",
      "  warnings.warn(\n"
     ]
    },
    {
     "data": {
      "image/png": "[encoded data removed]",
      "text/plain": [
       "<Figure size 432x288 with 1 Axes>"
      ]
     },
     "metadata": {
      "needs_background": "light"
     },
     "output_type": "display_data"
    },
    {
     "name": "stderr",
     "output_type": "stream",
     "text": [
      "C:\\Users\\lash7\\anaconda3\\lib\\site-packages\\seaborn\\_decorators.py:36: FutureWarning: Pass the following variable as a keyword arg: x. From version 0.12, the only valid positional argument will be `data`, and passing other arguments without an explicit keyword will result in an error or misinterpretation.\n",
      "  warnings.warn(\n"
     ]
    },
    {
     "data": {
      "image/png": "[encoded data removed]",
      "text/plain": [
       "<Figure size 432x288 with 1 Axes>"
      ]
     },
     "metadata": {
      "needs_background": "light"
     },
     "output_type": "display_data"
    },
    {
     "name": "stderr",
     "output_type": "stream",
     "text": [
      "C:\\Users\\lash7\\anaconda3\\lib\\site-packages\\seaborn\\_decorators.py:36: FutureWarning: Pass the following variable as a keyword arg: x. From version 0.12, the only valid positional argument will be `data`, and passing other arguments without an explicit keyword will result in an error or misinterpretation.\n",
      "  warnings.warn(\n"
     ]
    },
    {
     "data": {
      "image/png": "[encoded data removed]",
      "text/plain": [
       "<Figure size 432x288 with 1 Axes>"
      ]
     },
     "metadata": {
      "needs_background": "light"
     },
     "output_type": "display_data"
    },
    {
     "name": "stderr",
     "output_type": "stream",
     "text": [
      "C:\\Users\\lash7\\anaconda3\\lib\\site-packages\\seaborn\\_decorators.py:36: FutureWarning: Pass the following variable as a keyword arg: x. From version 0.12, the only valid positional argument will be `data`, and passing other arguments without an explicit keyword will result in an error or misinterpretation.\n",
      "  warnings.warn(\n"
     ]
    },
    {
     "data": {
      "image/png": "[encoded data removed]",
      "text/plain": [
       "<Figure size 432x288 with 1 Axes>"
      ]
     },
     "metadata": {
      "needs_background": "light"
     },
     "output_type": "display_data"
    },
    {
     "name": "stderr",
     "output_type": "stream",
     "text": [
      "C:\\Users\\lash7\\anaconda3\\lib\\site-packages\\seaborn\\_decorators.py:36: FutureWarning: Pass the following variable as a keyword arg: x. From version 0.12, the only valid positional argument will be `data`, and passing other arguments without an explicit keyword will result in an error or misinterpretation.\n",
      "  warnings.warn(\n"
     ]
    },
    {
     "data": {
      "image/png": "[encoded data removed]",
      "text/plain": [
       "<Figure size 432x288 with 1 Axes>"
      ]
     },
     "metadata": {
      "needs_background": "light"
     },
     "output_type": "display_data"
    },
    {
     "name": "stderr",
     "output_type": "stream",
     "text": [
      "C:\\Users\\lash7\\anaconda3\\lib\\site-packages\\seaborn\\_decorators.py:36: FutureWarning: Pass the following variable as a keyword arg: x. From version 0.12, the only valid positional argument will be `data`, and passing other arguments without an explicit keyword will result in an error or misinterpretation.\n",
      "  warnings.warn(\n"
     ]
    },
    {
     "data": {
      "image/png": "[encoded data removed]",
      "text/plain": [
       "<Figure size 432x288 with 1 Axes>"
      ]
     },
     "metadata": {
      "needs_background": "light"
     },
     "output_type": "display_data"
    },
    {
     "name": "stderr",
     "output_type": "stream",
     "text": [
      "C:\\Users\\lash7\\anaconda3\\lib\\site-packages\\seaborn\\_decorators.py:36: FutureWarning: Pass the following variable as a keyword arg: x. From version 0.12, the only valid positional argument will be `data`, and passing other arguments without an explicit keyword will result in an error or misinterpretation.\n",
      "  warnings.warn(\n"
     ]
    },
    {
     "data": {
      "image/png": "[encoded data removed]",
      "text/plain": [
       "<Figure size 432x288 with 1 Axes>"
      ]
     },
     "metadata": {
      "needs_background": "light"
     },
     "output_type": "display_data"
    }
   ],
   "source": [
    "for i in num_store.columns:\n",
    "    sb.boxplot(num_store[i])\n",
    "    plt.show()"
   ]
  },
  {
   "cell_type": "code",
   "execution_count": 137,
   "id": "6d92a925",
   "metadata": {},
   "outputs": [],
   "source": [
    "q3=store['Discount'].quantile(0.75)\n",
    "q1=store['Discount'].quantile(0.25)\n",
    "iqr=q3-q1\n",
    "uw=q3+1.5*iqr\n",
    "lw=q1-1.5*iqr"
   ]
  },
  {
   "cell_type": "code",
   "execution_count": 138,
   "id": "cc56827b",
   "metadata": {},
   "outputs": [
    {
     "data": {
      "text/plain": [
       "0.16999999999999998"
      ]
     },
     "execution_count": 138,
     "metadata": {},
     "output_type": "execute_result"
    }
   ],
   "source": [
    "uw"
   ]
  },
  {
   "cell_type": "code",
   "execution_count": 139,
   "id": "2bde0c32",
   "metadata": {},
   "outputs": [
    {
     "data": {
      "text/plain": [
       "-0.06999999999999999"
      ]
     },
     "execution_count": 139,
     "metadata": {},
     "output_type": "execute_result"
    }
   ],
   "source": [
    "lw"
   ]
  },
  {
   "cell_type": "code",
   "execution_count": 140,
   "id": "383f770e",
   "metadata": {},
   "outputs": [
    {
     "data": {
      "text/html": [
       "<div>\n",
       "<style scoped>\n",
       "    .dataframe tbody tr th:only-of-type {\n",
       "        vertical-align: middle;\n",
       "    }\n",
       "\n",
       "    .dataframe tbody tr th {\n",
       "        vertical-align: top;\n",
       "    }\n",
       "\n",
       "    .dataframe thead th {\n",
       "        text-align: right;\n",
       "    }\n",
       "</style>\n",
       "<table border=\"1\" class=\"dataframe\">\n",
       "  <thead>\n",
       "    <tr style=\"text-align: right;\">\n",
       "      <th></th>\n",
       "      <th>Row ID</th>\n",
       "      <th>Order Priority</th>\n",
       "      <th>Discount</th>\n",
       "      <th>Unit Price</th>\n",
       "      <th>Shipping Cost</th>\n",
       "      <th>Customer ID</th>\n",
       "      <th>Customer Name</th>\n",
       "      <th>Ship Mode</th>\n",
       "      <th>Customer Segment</th>\n",
       "      <th>Product Category</th>\n",
       "      <th>...</th>\n",
       "      <th>Region</th>\n",
       "      <th>State or Province</th>\n",
       "      <th>City</th>\n",
       "      <th>Postal Code</th>\n",
       "      <th>Order Date</th>\n",
       "      <th>Ship Date</th>\n",
       "      <th>Profit</th>\n",
       "      <th>Quantity ordered new</th>\n",
       "      <th>Sales</th>\n",
       "      <th>Order ID</th>\n",
       "    </tr>\n",
       "  </thead>\n",
       "  <tbody>\n",
       "    <tr>\n",
       "      <th>5991</th>\n",
       "      <td>20234</td>\n",
       "      <td>Critical</td>\n",
       "      <td>0.17</td>\n",
       "      <td>14.89</td>\n",
       "      <td>13.56</td>\n",
       "      <td>2201</td>\n",
       "      <td>David Hoyle</td>\n",
       "      <td>Regular Air</td>\n",
       "      <td>Small Business</td>\n",
       "      <td>Furniture</td>\n",
       "      <td>...</td>\n",
       "      <td>Central</td>\n",
       "      <td>Minnesota</td>\n",
       "      <td>Bloomington</td>\n",
       "      <td>55420</td>\n",
       "      <td>2010-09-25</td>\n",
       "      <td>2010-09-27</td>\n",
       "      <td>-9.130</td>\n",
       "      <td>1</td>\n",
       "      <td>27.96</td>\n",
       "      <td>86054</td>\n",
       "    </tr>\n",
       "    <tr>\n",
       "      <th>8649</th>\n",
       "      <td>18176</td>\n",
       "      <td>Critical</td>\n",
       "      <td>0.25</td>\n",
       "      <td>71.37</td>\n",
       "      <td>69.00</td>\n",
       "      <td>3131</td>\n",
       "      <td>Jonathan Reilly</td>\n",
       "      <td>Regular Air</td>\n",
       "      <td>Home Office</td>\n",
       "      <td>Furniture</td>\n",
       "      <td>...</td>\n",
       "      <td>Central</td>\n",
       "      <td>Illinois</td>\n",
       "      <td>Mount Prospect</td>\n",
       "      <td>60056</td>\n",
       "      <td>2013-02-14</td>\n",
       "      <td>2013-02-16</td>\n",
       "      <td>-481.041</td>\n",
       "      <td>3</td>\n",
       "      <td>181.03</td>\n",
       "      <td>86802</td>\n",
       "    </tr>\n",
       "    <tr>\n",
       "      <th>8661</th>\n",
       "      <td>21721</td>\n",
       "      <td>Critical</td>\n",
       "      <td>0.21</td>\n",
       "      <td>14.98</td>\n",
       "      <td>8.99</td>\n",
       "      <td>3133</td>\n",
       "      <td>Kristine Singleton</td>\n",
       "      <td>Regular Air</td>\n",
       "      <td>Corporate</td>\n",
       "      <td>Furniture</td>\n",
       "      <td>...</td>\n",
       "      <td>Central</td>\n",
       "      <td>Illinois</td>\n",
       "      <td>Naperville</td>\n",
       "      <td>60540</td>\n",
       "      <td>2010-09-04</td>\n",
       "      <td>2010-09-05</td>\n",
       "      <td>-17.750</td>\n",
       "      <td>10</td>\n",
       "      <td>153.87</td>\n",
       "      <td>86792</td>\n",
       "    </tr>\n",
       "  </tbody>\n",
       "</table>\n",
       "<p>3 rows × 24 columns</p>\n",
       "</div>"
      ],
      "text/plain": [
       "     Row ID Order Priority  Discount  Unit Price  Shipping Cost Customer ID  \\\n",
       "5991  20234       Critical      0.17       14.89          13.56        2201   \n",
       "8649  18176       Critical      0.25       71.37          69.00        3131   \n",
       "8661  21721       Critical      0.21       14.98           8.99        3133   \n",
       "\n",
       "           Customer Name    Ship Mode Customer Segment Product Category  ...  \\\n",
       "5991         David Hoyle  Regular Air   Small Business        Furniture  ...   \n",
       "8649     Jonathan Reilly  Regular Air      Home Office        Furniture  ...   \n",
       "8661  Kristine Singleton  Regular Air        Corporate        Furniture  ...   \n",
       "\n",
       "       Region State or Province            City  Postal Code Order Date  \\\n",
       "5991  Central         Minnesota     Bloomington        55420 2010-09-25   \n",
       "8649  Central          Illinois  Mount Prospect        60056 2013-02-14   \n",
       "8661  Central          Illinois      Naperville        60540 2010-09-04   \n",
       "\n",
       "      Ship Date   Profit Quantity ordered new   Sales Order ID  \n",
       "5991 2010-09-27   -9.130                    1   27.96    86054  \n",
       "8649 2013-02-16 -481.041                    3  181.03    86802  \n",
       "8661 2010-09-05  -17.750                   10  153.87    86792  \n",
       "\n",
       "[3 rows x 24 columns]"
      ]
     },
     "execution_count": 140,
     "metadata": {},
     "output_type": "execute_result"
    }
   ],
   "source": [
    "store[(store['Discount']>uw)|(store['Discount']<lw)]"
   ]
  },
  {
   "cell_type": "code",
   "execution_count": 141,
   "id": "661e0ba9",
   "metadata": {},
   "outputs": [],
   "source": [
    "#Capping the outlier-treating the outliear\n",
    "#replace all the outlier value with 99percentile or 1 percentile"
   ]
  },
  {
   "cell_type": "code",
   "execution_count": 142,
   "id": "6e3517e0",
   "metadata": {},
   "outputs": [],
   "source": [
    "#Bivariate Analysis\n",
    "#Numeric vs Numeric\n",
    "cor=num_store.corr()"
   ]
  },
  {
   "cell_type": "code",
   "execution_count": 143,
   "id": "0a6fbc89",
   "metadata": {},
   "outputs": [
    {
     "data": {
      "text/plain": [
       "<AxesSubplot:>"
      ]
     },
     "execution_count": 143,
     "metadata": {},
     "output_type": "execute_result"
    },
    {
     "data": {
      "image/png": "[encoded data removed]",
      "text/plain": [
       "<Figure size 432x288 with 2 Axes>"
      ]
     },
     "metadata": {
      "needs_background": "light"
     },
     "output_type": "display_data"
    }
   ],
   "source": [
    "sb.heatmap(cor,annot=True,vmin=-1,vmax=1)"
   ]
  },
  {
   "cell_type": "code",
   "execution_count": 144,
   "id": "49b53cfa",
   "metadata": {},
   "outputs": [
    {
     "data": {
      "text/html": [
       "<div>\n",
       "<style scoped>\n",
       "    .dataframe tbody tr th:only-of-type {\n",
       "        vertical-align: middle;\n",
       "    }\n",
       "\n",
       "    .dataframe tbody tr th {\n",
       "        vertical-align: top;\n",
       "    }\n",
       "\n",
       "    .dataframe thead th {\n",
       "        text-align: right;\n",
       "    }\n",
       "</style>\n",
       "<table border=\"1\" class=\"dataframe\">\n",
       "  <thead>\n",
       "    <tr style=\"text-align: right;\">\n",
       "      <th></th>\n",
       "      <th>Discount</th>\n",
       "      <th>Unit Price</th>\n",
       "      <th>Shipping Cost</th>\n",
       "      <th>Product Base Margin</th>\n",
       "      <th>Profit</th>\n",
       "      <th>Quantity ordered new</th>\n",
       "      <th>Sales</th>\n",
       "    </tr>\n",
       "  </thead>\n",
       "  <tbody>\n",
       "    <tr>\n",
       "      <th>Discount</th>\n",
       "      <td>0.001011</td>\n",
       "      <td>0.009841</td>\n",
       "      <td>-0.001170</td>\n",
       "      <td>0.000029</td>\n",
       "      <td>-1.253078</td>\n",
       "      <td>-0.006755</td>\n",
       "      <td>-1.758493e+00</td>\n",
       "    </tr>\n",
       "    <tr>\n",
       "      <th>Unit Price</th>\n",
       "      <td>0.009841</td>\n",
       "      <td>79265.324376</td>\n",
       "      <td>1191.166879</td>\n",
       "      <td>2.364308</td>\n",
       "      <td>-13650.615128</td>\n",
       "      <td>-231.451505</td>\n",
       "      <td>3.174373e+05</td>\n",
       "    </tr>\n",
       "    <tr>\n",
       "      <th>Shipping Cost</th>\n",
       "      <td>-0.001170</td>\n",
       "      <td>1191.166879</td>\n",
       "      <td>295.193729</td>\n",
       "      <td>0.873996</td>\n",
       "      <td>-292.214500</td>\n",
       "      <td>-5.242713</td>\n",
       "      <td>1.384745e+04</td>\n",
       "    </tr>\n",
       "    <tr>\n",
       "      <th>Product Base Margin</th>\n",
       "      <td>0.000029</td>\n",
       "      <td>2.364308</td>\n",
       "      <td>0.873996</td>\n",
       "      <td>0.018287</td>\n",
       "      <td>-9.496591</td>\n",
       "      <td>0.000418</td>\n",
       "      <td>4.139489e+01</td>\n",
       "    </tr>\n",
       "    <tr>\n",
       "      <th>Profit</th>\n",
       "      <td>-1.253078</td>\n",
       "      <td>-13650.615128</td>\n",
       "      <td>-292.214500</td>\n",
       "      <td>-9.496591</td>\n",
       "      <td>996975.256572</td>\n",
       "      <td>1884.453436</td>\n",
       "      <td>9.639191e+05</td>\n",
       "    </tr>\n",
       "    <tr>\n",
       "      <th>Quantity ordered new</th>\n",
       "      <td>-0.006755</td>\n",
       "      <td>-231.451505</td>\n",
       "      <td>-5.242713</td>\n",
       "      <td>0.000418</td>\n",
       "      <td>1884.453436</td>\n",
       "      <td>228.242230</td>\n",
       "      <td>1.413478e+04</td>\n",
       "    </tr>\n",
       "    <tr>\n",
       "      <th>Sales</th>\n",
       "      <td>-1.758493</td>\n",
       "      <td>317437.299646</td>\n",
       "      <td>13847.451563</td>\n",
       "      <td>41.394890</td>\n",
       "      <td>963919.060011</td>\n",
       "      <td>14134.778040</td>\n",
       "      <td>6.749707e+06</td>\n",
       "    </tr>\n",
       "  </tbody>\n",
       "</table>\n",
       "</div>"
      ],
      "text/plain": [
       "                      Discount     Unit Price  Shipping Cost  \\\n",
       "Discount              0.001011       0.009841      -0.001170   \n",
       "Unit Price            0.009841   79265.324376    1191.166879   \n",
       "Shipping Cost        -0.001170    1191.166879     295.193729   \n",
       "Product Base Margin   0.000029       2.364308       0.873996   \n",
       "Profit               -1.253078  -13650.615128    -292.214500   \n",
       "Quantity ordered new -0.006755    -231.451505      -5.242713   \n",
       "Sales                -1.758493  317437.299646   13847.451563   \n",
       "\n",
       "                      Product Base Margin         Profit  \\\n",
       "Discount                         0.000029      -1.253078   \n",
       "Unit Price                       2.364308  -13650.615128   \n",
       "Shipping Cost                    0.873996    -292.214500   \n",
       "Product Base Margin              0.018287      -9.496591   \n",
       "Profit                          -9.496591  996975.256572   \n",
       "Quantity ordered new             0.000418    1884.453436   \n",
       "Sales                           41.394890  963919.060011   \n",
       "\n",
       "                      Quantity ordered new         Sales  \n",
       "Discount                         -0.006755 -1.758493e+00  \n",
       "Unit Price                     -231.451505  3.174373e+05  \n",
       "Shipping Cost                    -5.242713  1.384745e+04  \n",
       "Product Base Margin               0.000418  4.139489e+01  \n",
       "Profit                         1884.453436  9.639191e+05  \n",
       "Quantity ordered new            228.242230  1.413478e+04  \n",
       "Sales                         14134.778040  6.749707e+06  "
      ]
     },
     "execution_count": 144,
     "metadata": {},
     "output_type": "execute_result"
    }
   ],
   "source": [
    "num_store.cov()"
   ]
  },
  {
   "cell_type": "code",
   "execution_count": 145,
   "id": "92449c10",
   "metadata": {},
   "outputs": [
    {
     "data": {
      "text/plain": [
       "0.3715830697718411"
      ]
     },
     "execution_count": 145,
     "metadata": {},
     "output_type": "execute_result"
    }
   ],
   "source": [
    "num_store['Sales'].corr(num_store['Profit'])"
   ]
  },
  {
   "cell_type": "code",
   "execution_count": 146,
   "id": "0ecd2093",
   "metadata": {},
   "outputs": [
    {
     "name": "stderr",
     "output_type": "stream",
     "text": [
      "C:\\Users\\lash7\\anaconda3\\lib\\site-packages\\seaborn\\_decorators.py:36: FutureWarning: Pass the following variables as keyword args: x, y. From version 0.12, the only valid positional argument will be `data`, and passing other arguments without an explicit keyword will result in an error or misinterpretation.\n",
      "  warnings.warn(\n"
     ]
    },
    {
     "data": {
      "text/plain": [
       "<AxesSubplot:xlabel='Sales', ylabel='Profit'>"
      ]
     },
     "execution_count": 146,
     "metadata": {},
     "output_type": "execute_result"
    },
    {
     "data": {
      "image/png": "[encoded data removed]",
      "text/plain": [
       "<Figure size 432x288 with 1 Axes>"
      ]
     },
     "metadata": {
      "needs_background": "light"
     },
     "output_type": "display_data"
    }
   ],
   "source": [
    "sb.regplot(num_store['Sales'],(num_store['Profit']))"
   ]
  },
  {
   "cell_type": "code",
   "execution_count": 147,
   "id": "3897666d",
   "metadata": {},
   "outputs": [
    {
     "name": "stderr",
     "output_type": "stream",
     "text": [
      "C:\\Users\\lash7\\anaconda3\\lib\\site-packages\\seaborn\\_decorators.py:36: FutureWarning: Pass the following variables as keyword args: x, y. From version 0.12, the only valid positional argument will be `data`, and passing other arguments without an explicit keyword will result in an error or misinterpretation.\n",
      "  warnings.warn(\n"
     ]
    },
    {
     "data": {
      "text/plain": [
       "<AxesSubplot:xlabel='Sales', ylabel='Profit'>"
      ]
     },
     "execution_count": 147,
     "metadata": {},
     "output_type": "execute_result"
    },
    {
     "data": {
      "image/png": "[encoded data removed]",
      "text/plain": [
       "<Figure size 432x288 with 1 Axes>"
      ]
     },
     "metadata": {
      "needs_background": "light"
     },
     "output_type": "display_data"
    }
   ],
   "source": [
    "sb.scatterplot(num_store['Sales'],(num_store['Profit']))"
   ]
  },
  {
   "cell_type": "markdown",
   "id": "ab250537",
   "metadata": {},
   "source": [
    "##16\\08\\21 class continuation to pandas"
   ]
  },
  {
   "cell_type": "code",
   "execution_count": 148,
   "id": "912a5782",
   "metadata": {},
   "outputs": [
    {
     "data": {
      "text/html": [
       "<div>\n",
       "<style scoped>\n",
       "    .dataframe tbody tr th:only-of-type {\n",
       "        vertical-align: middle;\n",
       "    }\n",
       "\n",
       "    .dataframe tbody tr th {\n",
       "        vertical-align: top;\n",
       "    }\n",
       "\n",
       "    .dataframe thead th {\n",
       "        text-align: right;\n",
       "    }\n",
       "</style>\n",
       "<table border=\"1\" class=\"dataframe\">\n",
       "  <thead>\n",
       "    <tr style=\"text-align: right;\">\n",
       "      <th></th>\n",
       "      <th>Row ID</th>\n",
       "      <th>Order Priority</th>\n",
       "      <th>Discount</th>\n",
       "      <th>Unit Price</th>\n",
       "      <th>Shipping Cost</th>\n",
       "      <th>Customer ID</th>\n",
       "      <th>Customer Name</th>\n",
       "      <th>Ship Mode</th>\n",
       "      <th>Customer Segment</th>\n",
       "      <th>Product Category</th>\n",
       "      <th>...</th>\n",
       "      <th>Region</th>\n",
       "      <th>State or Province</th>\n",
       "      <th>City</th>\n",
       "      <th>Postal Code</th>\n",
       "      <th>Order Date</th>\n",
       "      <th>Ship Date</th>\n",
       "      <th>Profit</th>\n",
       "      <th>Quantity ordered new</th>\n",
       "      <th>Sales</th>\n",
       "      <th>Order ID</th>\n",
       "    </tr>\n",
       "  </thead>\n",
       "  <tbody>\n",
       "    <tr>\n",
       "      <th>0</th>\n",
       "      <td>18606</td>\n",
       "      <td>Not Specified</td>\n",
       "      <td>0.01</td>\n",
       "      <td>2.88</td>\n",
       "      <td>0.50</td>\n",
       "      <td>2</td>\n",
       "      <td>Janice Fletcher</td>\n",
       "      <td>Regular Air</td>\n",
       "      <td>Corporate</td>\n",
       "      <td>Office Supplies</td>\n",
       "      <td>...</td>\n",
       "      <td>Central</td>\n",
       "      <td>Illinois</td>\n",
       "      <td>Addison</td>\n",
       "      <td>60101</td>\n",
       "      <td>2012-05-28</td>\n",
       "      <td>2012-05-30</td>\n",
       "      <td>1.3200</td>\n",
       "      <td>2</td>\n",
       "      <td>5.90</td>\n",
       "      <td>88525</td>\n",
       "    </tr>\n",
       "    <tr>\n",
       "      <th>1</th>\n",
       "      <td>20847</td>\n",
       "      <td>High</td>\n",
       "      <td>0.01</td>\n",
       "      <td>2.84</td>\n",
       "      <td>0.93</td>\n",
       "      <td>3</td>\n",
       "      <td>Bonnie Potter</td>\n",
       "      <td>Express Air</td>\n",
       "      <td>Corporate</td>\n",
       "      <td>Office Supplies</td>\n",
       "      <td>...</td>\n",
       "      <td>West</td>\n",
       "      <td>Washington</td>\n",
       "      <td>Anacortes</td>\n",
       "      <td>98221</td>\n",
       "      <td>2010-07-07</td>\n",
       "      <td>2010-07-08</td>\n",
       "      <td>4.5600</td>\n",
       "      <td>4</td>\n",
       "      <td>13.01</td>\n",
       "      <td>88522</td>\n",
       "    </tr>\n",
       "    <tr>\n",
       "      <th>2</th>\n",
       "      <td>23086</td>\n",
       "      <td>Not Specified</td>\n",
       "      <td>0.03</td>\n",
       "      <td>6.68</td>\n",
       "      <td>6.15</td>\n",
       "      <td>3</td>\n",
       "      <td>Bonnie Potter</td>\n",
       "      <td>Express Air</td>\n",
       "      <td>Corporate</td>\n",
       "      <td>Office Supplies</td>\n",
       "      <td>...</td>\n",
       "      <td>West</td>\n",
       "      <td>Washington</td>\n",
       "      <td>Anacortes</td>\n",
       "      <td>98221</td>\n",
       "      <td>2011-07-27</td>\n",
       "      <td>2011-07-28</td>\n",
       "      <td>-47.6400</td>\n",
       "      <td>7</td>\n",
       "      <td>49.92</td>\n",
       "      <td>88523</td>\n",
       "    </tr>\n",
       "    <tr>\n",
       "      <th>3</th>\n",
       "      <td>23087</td>\n",
       "      <td>Not Specified</td>\n",
       "      <td>0.01</td>\n",
       "      <td>5.68</td>\n",
       "      <td>3.60</td>\n",
       "      <td>3</td>\n",
       "      <td>Bonnie Potter</td>\n",
       "      <td>Regular Air</td>\n",
       "      <td>Corporate</td>\n",
       "      <td>Office Supplies</td>\n",
       "      <td>...</td>\n",
       "      <td>West</td>\n",
       "      <td>Washington</td>\n",
       "      <td>Anacortes</td>\n",
       "      <td>98221</td>\n",
       "      <td>2011-07-27</td>\n",
       "      <td>2011-07-28</td>\n",
       "      <td>-30.5100</td>\n",
       "      <td>7</td>\n",
       "      <td>41.64</td>\n",
       "      <td>88523</td>\n",
       "    </tr>\n",
       "    <tr>\n",
       "      <th>4</th>\n",
       "      <td>23088</td>\n",
       "      <td>Not Specified</td>\n",
       "      <td>0.00</td>\n",
       "      <td>205.99</td>\n",
       "      <td>2.50</td>\n",
       "      <td>3</td>\n",
       "      <td>Bonnie Potter</td>\n",
       "      <td>Express Air</td>\n",
       "      <td>Corporate</td>\n",
       "      <td>Technology</td>\n",
       "      <td>...</td>\n",
       "      <td>West</td>\n",
       "      <td>Washington</td>\n",
       "      <td>Anacortes</td>\n",
       "      <td>98221</td>\n",
       "      <td>2011-07-27</td>\n",
       "      <td>2011-07-27</td>\n",
       "      <td>998.2023</td>\n",
       "      <td>8</td>\n",
       "      <td>1446.67</td>\n",
       "      <td>88523</td>\n",
       "    </tr>\n",
       "  </tbody>\n",
       "</table>\n",
       "<p>5 rows × 24 columns</p>\n",
       "</div>"
      ],
      "text/plain": [
       "  Row ID Order Priority  Discount  Unit Price  Shipping Cost Customer ID  \\\n",
       "0  18606  Not Specified      0.01        2.88           0.50           2   \n",
       "1  20847           High      0.01        2.84           0.93           3   \n",
       "2  23086  Not Specified      0.03        6.68           6.15           3   \n",
       "3  23087  Not Specified      0.01        5.68           3.60           3   \n",
       "4  23088  Not Specified      0.00      205.99           2.50           3   \n",
       "\n",
       "     Customer Name    Ship Mode Customer Segment Product Category  ...  \\\n",
       "0  Janice Fletcher  Regular Air        Corporate  Office Supplies  ...   \n",
       "1    Bonnie Potter  Express Air        Corporate  Office Supplies  ...   \n",
       "2    Bonnie Potter  Express Air        Corporate  Office Supplies  ...   \n",
       "3    Bonnie Potter  Regular Air        Corporate  Office Supplies  ...   \n",
       "4    Bonnie Potter  Express Air        Corporate       Technology  ...   \n",
       "\n",
       "    Region State or Province       City  Postal Code Order Date  Ship Date  \\\n",
       "0  Central          Illinois    Addison        60101 2012-05-28 2012-05-30   \n",
       "1     West        Washington  Anacortes        98221 2010-07-07 2010-07-08   \n",
       "2     West        Washington  Anacortes        98221 2011-07-27 2011-07-28   \n",
       "3     West        Washington  Anacortes        98221 2011-07-27 2011-07-28   \n",
       "4     West        Washington  Anacortes        98221 2011-07-27 2011-07-27   \n",
       "\n",
       "     Profit Quantity ordered new    Sales Order ID  \n",
       "0    1.3200                    2     5.90    88525  \n",
       "1    4.5600                    4    13.01    88522  \n",
       "2  -47.6400                    7    49.92    88523  \n",
       "3  -30.5100                    7    41.64    88523  \n",
       "4  998.2023                    8  1446.67    88523  \n",
       "\n",
       "[5 rows x 24 columns]"
      ]
     },
     "execution_count": 148,
     "metadata": {},
     "output_type": "execute_result"
    }
   ],
   "source": [
    "store.head()"
   ]
  },
  {
   "cell_type": "code",
   "execution_count": 149,
   "id": "9f77dbac",
   "metadata": {},
   "outputs": [
    {
     "data": {
      "text/html": [
       "<div>\n",
       "<style scoped>\n",
       "    .dataframe tbody tr th:only-of-type {\n",
       "        vertical-align: middle;\n",
       "    }\n",
       "\n",
       "    .dataframe tbody tr th {\n",
       "        vertical-align: top;\n",
       "    }\n",
       "\n",
       "    .dataframe thead th {\n",
       "        text-align: right;\n",
       "    }\n",
       "</style>\n",
       "<table border=\"1\" class=\"dataframe\">\n",
       "  <thead>\n",
       "    <tr style=\"text-align: right;\">\n",
       "      <th>Region</th>\n",
       "      <th>Central</th>\n",
       "      <th>East</th>\n",
       "      <th>South</th>\n",
       "      <th>West</th>\n",
       "    </tr>\n",
       "    <tr>\n",
       "      <th>Product Category</th>\n",
       "      <th></th>\n",
       "      <th></th>\n",
       "      <th></th>\n",
       "      <th></th>\n",
       "    </tr>\n",
       "  </thead>\n",
       "  <tbody>\n",
       "    <tr>\n",
       "      <th>Furniture</th>\n",
       "      <td>1379.161509</td>\n",
       "      <td>1803.889896</td>\n",
       "      <td>1476.381351</td>\n",
       "      <td>1971.977787</td>\n",
       "    </tr>\n",
       "    <tr>\n",
       "      <th>Office Supplies</th>\n",
       "      <td>431.538576</td>\n",
       "      <td>559.307060</td>\n",
       "      <td>340.264359</td>\n",
       "      <td>399.814388</td>\n",
       "    </tr>\n",
       "    <tr>\n",
       "      <th>Technology</th>\n",
       "      <td>1406.353361</td>\n",
       "      <td>1574.912342</td>\n",
       "      <td>1396.153794</td>\n",
       "      <td>1717.114056</td>\n",
       "    </tr>\n",
       "  </tbody>\n",
       "</table>\n",
       "</div>"
      ],
      "text/plain": [
       "Region                Central         East        South         West\n",
       "Product Category                                                    \n",
       "Furniture         1379.161509  1803.889896  1476.381351  1971.977787\n",
       "Office Supplies    431.538576   559.307060   340.264359   399.814388\n",
       "Technology        1406.353361  1574.912342  1396.153794  1717.114056"
      ]
     },
     "execution_count": 149,
     "metadata": {},
     "output_type": "execute_result"
    }
   ],
   "source": [
    "store.groupby(['Product Category','Region'])['Sales'].mean().unstack()"
   ]
  },
  {
   "cell_type": "code",
   "execution_count": 150,
   "id": "8e227acf",
   "metadata": {},
   "outputs": [],
   "source": [
    "#For each product category in each region,I want to know, sum of sales and average profit"
   ]
  },
  {
   "cell_type": "code",
   "execution_count": 151,
   "id": "78d234e6",
   "metadata": {},
   "outputs": [
    {
     "data": {
      "text/html": [
       "<div>\n",
       "<style scoped>\n",
       "    .dataframe tbody tr th:only-of-type {\n",
       "        vertical-align: middle;\n",
       "    }\n",
       "\n",
       "    .dataframe tbody tr th {\n",
       "        vertical-align: top;\n",
       "    }\n",
       "\n",
       "    .dataframe thead th {\n",
       "        text-align: right;\n",
       "    }\n",
       "</style>\n",
       "<table border=\"1\" class=\"dataframe\">\n",
       "  <thead>\n",
       "    <tr style=\"text-align: right;\">\n",
       "      <th></th>\n",
       "      <th></th>\n",
       "      <th>Sales</th>\n",
       "      <th>Profit</th>\n",
       "    </tr>\n",
       "    <tr>\n",
       "      <th>Product Category</th>\n",
       "      <th>Region</th>\n",
       "      <th></th>\n",
       "      <th></th>\n",
       "    </tr>\n",
       "  </thead>\n",
       "  <tbody>\n",
       "    <tr>\n",
       "      <th rowspan=\"4\" valign=\"top\">Furniture</th>\n",
       "      <th>Central</th>\n",
       "      <td>859217.62</td>\n",
       "      <td>88.638050</td>\n",
       "    </tr>\n",
       "    <tr>\n",
       "      <th>East</th>\n",
       "      <td>864063.26</td>\n",
       "      <td>54.730878</td>\n",
       "    </tr>\n",
       "    <tr>\n",
       "      <th>South</th>\n",
       "      <td>546261.10</td>\n",
       "      <td>45.896183</td>\n",
       "    </tr>\n",
       "    <tr>\n",
       "      <th>West</th>\n",
       "      <td>909081.76</td>\n",
       "      <td>171.225845</td>\n",
       "    </tr>\n",
       "    <tr>\n",
       "      <th rowspan=\"4\" valign=\"top\">Office Supplies</th>\n",
       "      <th>Central</th>\n",
       "      <td>672768.64</td>\n",
       "      <td>107.238571</td>\n",
       "    </tr>\n",
       "    <tr>\n",
       "      <th>East</th>\n",
       "      <td>711438.58</td>\n",
       "      <td>112.258206</td>\n",
       "    </tr>\n",
       "    <tr>\n",
       "      <th>South</th>\n",
       "      <td>373950.53</td>\n",
       "      <td>53.184958</td>\n",
       "    </tr>\n",
       "    <tr>\n",
       "      <th>West</th>\n",
       "      <td>500167.80</td>\n",
       "      <td>66.796625</td>\n",
       "    </tr>\n",
       "    <tr>\n",
       "      <th rowspan=\"4\" valign=\"top\">Technology</th>\n",
       "      <th>Central</th>\n",
       "      <td>1008355.36</td>\n",
       "      <td>414.810503</td>\n",
       "    </tr>\n",
       "    <tr>\n",
       "      <th>East</th>\n",
       "      <td>847302.84</td>\n",
       "      <td>387.653638</td>\n",
       "    </tr>\n",
       "    <tr>\n",
       "      <th>South</th>\n",
       "      <td>677134.59</td>\n",
       "      <td>59.318218</td>\n",
       "    </tr>\n",
       "    <tr>\n",
       "      <th>West</th>\n",
       "      <td>982189.24</td>\n",
       "      <td>259.356226</td>\n",
       "    </tr>\n",
       "  </tbody>\n",
       "</table>\n",
       "</div>"
      ],
      "text/plain": [
       "                               Sales      Profit\n",
       "Product Category Region                         \n",
       "Furniture        Central   859217.62   88.638050\n",
       "                 East      864063.26   54.730878\n",
       "                 South     546261.10   45.896183\n",
       "                 West      909081.76  171.225845\n",
       "Office Supplies  Central   672768.64  107.238571\n",
       "                 East      711438.58  112.258206\n",
       "                 South     373950.53   53.184958\n",
       "                 West      500167.80   66.796625\n",
       "Technology       Central  1008355.36  414.810503\n",
       "                 East      847302.84  387.653638\n",
       "                 South     677134.59   59.318218\n",
       "                 West      982189.24  259.356226"
      ]
     },
     "execution_count": 151,
     "metadata": {},
     "output_type": "execute_result"
    }
   ],
   "source": [
    "store.groupby(['Product Category','Region']).agg({'Sales':'sum','Profit':'mean'})"
   ]
  },
  {
   "cell_type": "code",
   "execution_count": 152,
   "id": "3e91c98e",
   "metadata": {},
   "outputs": [
    {
     "data": {
      "text/html": [
       "<div>\n",
       "<style scoped>\n",
       "    .dataframe tbody tr th:only-of-type {\n",
       "        vertical-align: middle;\n",
       "    }\n",
       "\n",
       "    .dataframe tbody tr th {\n",
       "        vertical-align: top;\n",
       "    }\n",
       "\n",
       "    .dataframe thead th {\n",
       "        text-align: right;\n",
       "    }\n",
       "</style>\n",
       "<table border=\"1\" class=\"dataframe\">\n",
       "  <thead>\n",
       "    <tr style=\"text-align: right;\">\n",
       "      <th>Region</th>\n",
       "      <th>Central</th>\n",
       "      <th>East</th>\n",
       "      <th>South</th>\n",
       "      <th>West</th>\n",
       "    </tr>\n",
       "    <tr>\n",
       "      <th>Product Category</th>\n",
       "      <th></th>\n",
       "      <th></th>\n",
       "      <th></th>\n",
       "      <th></th>\n",
       "    </tr>\n",
       "  </thead>\n",
       "  <tbody>\n",
       "    <tr>\n",
       "      <th>Furniture</th>\n",
       "      <td>1379.161509</td>\n",
       "      <td>1803.889896</td>\n",
       "      <td>1476.381351</td>\n",
       "      <td>1971.977787</td>\n",
       "    </tr>\n",
       "    <tr>\n",
       "      <th>Office Supplies</th>\n",
       "      <td>431.538576</td>\n",
       "      <td>559.307060</td>\n",
       "      <td>340.264359</td>\n",
       "      <td>399.814388</td>\n",
       "    </tr>\n",
       "    <tr>\n",
       "      <th>Technology</th>\n",
       "      <td>1406.353361</td>\n",
       "      <td>1574.912342</td>\n",
       "      <td>1396.153794</td>\n",
       "      <td>1717.114056</td>\n",
       "    </tr>\n",
       "  </tbody>\n",
       "</table>\n",
       "</div>"
      ],
      "text/plain": [
       "Region                Central         East        South         West\n",
       "Product Category                                                    \n",
       "Furniture         1379.161509  1803.889896  1476.381351  1971.977787\n",
       "Office Supplies    431.538576   559.307060   340.264359   399.814388\n",
       "Technology        1406.353361  1574.912342  1396.153794  1717.114056"
      ]
     },
     "execution_count": 152,
     "metadata": {},
     "output_type": "execute_result"
    }
   ],
   "source": [
    "pd.pivot_table(store,index='Product Category',columns='Region',values='Sales',aggfunc='mean')"
   ]
  },
  {
   "cell_type": "markdown",
   "id": "e1833311",
   "metadata": {},
   "source": [
    "#how to concatenate and merge of two dataframes "
   ]
  },
  {
   "cell_type": "code",
   "execution_count": 153,
   "id": "173c4088",
   "metadata": {},
   "outputs": [
    {
     "data": {
      "text/html": [
       "<div>\n",
       "<style scoped>\n",
       "    .dataframe tbody tr th:only-of-type {\n",
       "        vertical-align: middle;\n",
       "    }\n",
       "\n",
       "    .dataframe tbody tr th {\n",
       "        vertical-align: top;\n",
       "    }\n",
       "\n",
       "    .dataframe thead th {\n",
       "        text-align: right;\n",
       "    }\n",
       "</style>\n",
       "<table border=\"1\" class=\"dataframe\">\n",
       "  <thead>\n",
       "    <tr style=\"text-align: right;\">\n",
       "      <th></th>\n",
       "      <th>Name</th>\n",
       "      <th>Age</th>\n",
       "      <th>Location</th>\n",
       "    </tr>\n",
       "  </thead>\n",
       "  <tbody>\n",
       "    <tr>\n",
       "      <th>0</th>\n",
       "      <td>raju</td>\n",
       "      <td>25</td>\n",
       "      <td>Chennai</td>\n",
       "    </tr>\n",
       "    <tr>\n",
       "      <th>1</th>\n",
       "      <td>ram</td>\n",
       "      <td>32</td>\n",
       "      <td>Banglore</td>\n",
       "    </tr>\n",
       "    <tr>\n",
       "      <th>2</th>\n",
       "      <td>kumar</td>\n",
       "      <td>29</td>\n",
       "      <td>Delhi</td>\n",
       "    </tr>\n",
       "    <tr>\n",
       "      <th>3</th>\n",
       "      <td>sakthi</td>\n",
       "      <td>45</td>\n",
       "      <td>Chennai</td>\n",
       "    </tr>\n",
       "  </tbody>\n",
       "</table>\n",
       "</div>"
      ],
      "text/plain": [
       "     Name  Age  Location\n",
       "0    raju   25   Chennai\n",
       "1     ram   32  Banglore\n",
       "2   kumar   29     Delhi\n",
       "3  sakthi   45   Chennai"
      ]
     },
     "execution_count": 153,
     "metadata": {},
     "output_type": "execute_result"
    }
   ],
   "source": [
    "df1=pd.DataFrame({'Name':['raju','ram','kumar','sakthi'],'Age':[25,32,29,45],'Location':['Chennai','Banglore','Delhi','Chennai']})\n",
    "df1"
   ]
  },
  {
   "cell_type": "code",
   "execution_count": 154,
   "id": "410bbee8",
   "metadata": {},
   "outputs": [
    {
     "data": {
      "text/html": [
       "<div>\n",
       "<style scoped>\n",
       "    .dataframe tbody tr th:only-of-type {\n",
       "        vertical-align: middle;\n",
       "    }\n",
       "\n",
       "    .dataframe tbody tr th {\n",
       "        vertical-align: top;\n",
       "    }\n",
       "\n",
       "    .dataframe thead th {\n",
       "        text-align: right;\n",
       "    }\n",
       "</style>\n",
       "<table border=\"1\" class=\"dataframe\">\n",
       "  <thead>\n",
       "    <tr style=\"text-align: right;\">\n",
       "      <th></th>\n",
       "      <th>Qualification</th>\n",
       "      <th>Exp</th>\n",
       "      <th>Salary</th>\n",
       "    </tr>\n",
       "  </thead>\n",
       "  <tbody>\n",
       "    <tr>\n",
       "      <th>0</th>\n",
       "      <td>BE</td>\n",
       "      <td>2</td>\n",
       "      <td>60</td>\n",
       "    </tr>\n",
       "    <tr>\n",
       "      <th>1</th>\n",
       "      <td>ME</td>\n",
       "      <td>3</td>\n",
       "      <td>7</td>\n",
       "    </tr>\n",
       "    <tr>\n",
       "      <th>2</th>\n",
       "      <td>Bsc</td>\n",
       "      <td>9</td>\n",
       "      <td>78</td>\n",
       "    </tr>\n",
       "    <tr>\n",
       "      <th>3</th>\n",
       "      <td>MBA</td>\n",
       "      <td>15</td>\n",
       "      <td>98</td>\n",
       "    </tr>\n",
       "  </tbody>\n",
       "</table>\n",
       "</div>"
      ],
      "text/plain": [
       "  Qualification  Exp  Salary\n",
       "0            BE    2      60\n",
       "1            ME    3       7\n",
       "2           Bsc    9      78\n",
       "3           MBA   15      98"
      ]
     },
     "execution_count": 154,
     "metadata": {},
     "output_type": "execute_result"
    }
   ],
   "source": [
    "df2=pd.DataFrame({'Qualification':['BE','ME','Bsc','MBA'],'Exp':[2,3,9,15],'Salary':[60,7,78,98]})\n",
    "df2"
   ]
  },
  {
   "cell_type": "code",
   "execution_count": 155,
   "id": "3837f028",
   "metadata": {},
   "outputs": [
    {
     "data": {
      "text/html": [
       "<div>\n",
       "<style scoped>\n",
       "    .dataframe tbody tr th:only-of-type {\n",
       "        vertical-align: middle;\n",
       "    }\n",
       "\n",
       "    .dataframe tbody tr th {\n",
       "        vertical-align: top;\n",
       "    }\n",
       "\n",
       "    .dataframe thead th {\n",
       "        text-align: right;\n",
       "    }\n",
       "</style>\n",
       "<table border=\"1\" class=\"dataframe\">\n",
       "  <thead>\n",
       "    <tr style=\"text-align: right;\">\n",
       "      <th></th>\n",
       "      <th>Name</th>\n",
       "      <th>Age</th>\n",
       "      <th>Location</th>\n",
       "      <th>Qualification</th>\n",
       "      <th>Exp</th>\n",
       "      <th>Salary</th>\n",
       "    </tr>\n",
       "  </thead>\n",
       "  <tbody>\n",
       "    <tr>\n",
       "      <th>0</th>\n",
       "      <td>raju</td>\n",
       "      <td>25</td>\n",
       "      <td>Chennai</td>\n",
       "      <td>BE</td>\n",
       "      <td>2</td>\n",
       "      <td>60</td>\n",
       "    </tr>\n",
       "    <tr>\n",
       "      <th>1</th>\n",
       "      <td>ram</td>\n",
       "      <td>32</td>\n",
       "      <td>Banglore</td>\n",
       "      <td>ME</td>\n",
       "      <td>3</td>\n",
       "      <td>7</td>\n",
       "    </tr>\n",
       "    <tr>\n",
       "      <th>2</th>\n",
       "      <td>kumar</td>\n",
       "      <td>29</td>\n",
       "      <td>Delhi</td>\n",
       "      <td>Bsc</td>\n",
       "      <td>9</td>\n",
       "      <td>78</td>\n",
       "    </tr>\n",
       "    <tr>\n",
       "      <th>3</th>\n",
       "      <td>sakthi</td>\n",
       "      <td>45</td>\n",
       "      <td>Chennai</td>\n",
       "      <td>MBA</td>\n",
       "      <td>15</td>\n",
       "      <td>98</td>\n",
       "    </tr>\n",
       "  </tbody>\n",
       "</table>\n",
       "</div>"
      ],
      "text/plain": [
       "     Name  Age  Location Qualification  Exp  Salary\n",
       "0    raju   25   Chennai            BE    2      60\n",
       "1     ram   32  Banglore            ME    3       7\n",
       "2   kumar   29     Delhi           Bsc    9      78\n",
       "3  sakthi   45   Chennai           MBA   15      98"
      ]
     },
     "execution_count": 155,
     "metadata": {},
     "output_type": "execute_result"
    }
   ],
   "source": [
    "pd.concat([df1,df2],axis=1)"
   ]
  },
  {
   "cell_type": "code",
   "execution_count": 156,
   "id": "d0e41d77",
   "metadata": {},
   "outputs": [
    {
     "data": {
      "text/html": [
       "<div>\n",
       "<style scoped>\n",
       "    .dataframe tbody tr th:only-of-type {\n",
       "        vertical-align: middle;\n",
       "    }\n",
       "\n",
       "    .dataframe tbody tr th {\n",
       "        vertical-align: top;\n",
       "    }\n",
       "\n",
       "    .dataframe thead th {\n",
       "        text-align: right;\n",
       "    }\n",
       "</style>\n",
       "<table border=\"1\" class=\"dataframe\">\n",
       "  <thead>\n",
       "    <tr style=\"text-align: right;\">\n",
       "      <th></th>\n",
       "      <th>Name</th>\n",
       "      <th>Exp</th>\n",
       "      <th>Salary</th>\n",
       "    </tr>\n",
       "  </thead>\n",
       "  <tbody>\n",
       "    <tr>\n",
       "      <th>0</th>\n",
       "      <td>raghu</td>\n",
       "      <td>2</td>\n",
       "      <td>60</td>\n",
       "    </tr>\n",
       "    <tr>\n",
       "      <th>1</th>\n",
       "      <td>sakthi</td>\n",
       "      <td>3</td>\n",
       "      <td>70</td>\n",
       "    </tr>\n",
       "    <tr>\n",
       "      <th>2</th>\n",
       "      <td>raju</td>\n",
       "      <td>9</td>\n",
       "      <td>78</td>\n",
       "    </tr>\n",
       "    <tr>\n",
       "      <th>3</th>\n",
       "      <td>ram</td>\n",
       "      <td>15</td>\n",
       "      <td>98</td>\n",
       "    </tr>\n",
       "  </tbody>\n",
       "</table>\n",
       "</div>"
      ],
      "text/plain": [
       "     Name  Exp  Salary\n",
       "0   raghu    2      60\n",
       "1  sakthi    3      70\n",
       "2    raju    9      78\n",
       "3     ram   15      98"
      ]
     },
     "execution_count": 156,
     "metadata": {},
     "output_type": "execute_result"
    }
   ],
   "source": [
    "df3=pd.DataFrame({'Name':['raghu','sakthi','raju','ram'],'Exp':[2,3,9,15],'Salary':[60,70,78,98]})\n",
    "df3"
   ]
  },
  {
   "cell_type": "code",
   "execution_count": 157,
   "id": "2c66593d",
   "metadata": {},
   "outputs": [
    {
     "data": {
      "text/html": [
       "<div>\n",
       "<style scoped>\n",
       "    .dataframe tbody tr th:only-of-type {\n",
       "        vertical-align: middle;\n",
       "    }\n",
       "\n",
       "    .dataframe tbody tr th {\n",
       "        vertical-align: top;\n",
       "    }\n",
       "\n",
       "    .dataframe thead th {\n",
       "        text-align: right;\n",
       "    }\n",
       "</style>\n",
       "<table border=\"1\" class=\"dataframe\">\n",
       "  <thead>\n",
       "    <tr style=\"text-align: right;\">\n",
       "      <th></th>\n",
       "      <th>Name</th>\n",
       "      <th>Age</th>\n",
       "      <th>Location</th>\n",
       "      <th>Name</th>\n",
       "      <th>Exp</th>\n",
       "      <th>Salary</th>\n",
       "    </tr>\n",
       "  </thead>\n",
       "  <tbody>\n",
       "    <tr>\n",
       "      <th>0</th>\n",
       "      <td>raju</td>\n",
       "      <td>25</td>\n",
       "      <td>Chennai</td>\n",
       "      <td>raghu</td>\n",
       "      <td>2</td>\n",
       "      <td>60</td>\n",
       "    </tr>\n",
       "    <tr>\n",
       "      <th>1</th>\n",
       "      <td>ram</td>\n",
       "      <td>32</td>\n",
       "      <td>Banglore</td>\n",
       "      <td>sakthi</td>\n",
       "      <td>3</td>\n",
       "      <td>70</td>\n",
       "    </tr>\n",
       "    <tr>\n",
       "      <th>2</th>\n",
       "      <td>kumar</td>\n",
       "      <td>29</td>\n",
       "      <td>Delhi</td>\n",
       "      <td>raju</td>\n",
       "      <td>9</td>\n",
       "      <td>78</td>\n",
       "    </tr>\n",
       "    <tr>\n",
       "      <th>3</th>\n",
       "      <td>sakthi</td>\n",
       "      <td>45</td>\n",
       "      <td>Chennai</td>\n",
       "      <td>ram</td>\n",
       "      <td>15</td>\n",
       "      <td>98</td>\n",
       "    </tr>\n",
       "  </tbody>\n",
       "</table>\n",
       "</div>"
      ],
      "text/plain": [
       "     Name  Age  Location    Name  Exp  Salary\n",
       "0    raju   25   Chennai   raghu    2      60\n",
       "1     ram   32  Banglore  sakthi    3      70\n",
       "2   kumar   29     Delhi    raju    9      78\n",
       "3  sakthi   45   Chennai     ram   15      98"
      ]
     },
     "execution_count": 157,
     "metadata": {},
     "output_type": "execute_result"
    }
   ],
   "source": [
    "pd.concat([df1,df3],axis=1)"
   ]
  },
  {
   "cell_type": "code",
   "execution_count": 158,
   "id": "dee778a7",
   "metadata": {},
   "outputs": [
    {
     "data": {
      "text/html": [
       "<div>\n",
       "<style scoped>\n",
       "    .dataframe tbody tr th:only-of-type {\n",
       "        vertical-align: middle;\n",
       "    }\n",
       "\n",
       "    .dataframe tbody tr th {\n",
       "        vertical-align: top;\n",
       "    }\n",
       "\n",
       "    .dataframe thead th {\n",
       "        text-align: right;\n",
       "    }\n",
       "</style>\n",
       "<table border=\"1\" class=\"dataframe\">\n",
       "  <thead>\n",
       "    <tr style=\"text-align: right;\">\n",
       "      <th></th>\n",
       "      <th>Name</th>\n",
       "      <th>Age</th>\n",
       "      <th>Location</th>\n",
       "      <th>Exp</th>\n",
       "      <th>Salary</th>\n",
       "    </tr>\n",
       "  </thead>\n",
       "  <tbody>\n",
       "    <tr>\n",
       "      <th>0</th>\n",
       "      <td>raju</td>\n",
       "      <td>25</td>\n",
       "      <td>Chennai</td>\n",
       "      <td>9</td>\n",
       "      <td>78</td>\n",
       "    </tr>\n",
       "    <tr>\n",
       "      <th>1</th>\n",
       "      <td>ram</td>\n",
       "      <td>32</td>\n",
       "      <td>Banglore</td>\n",
       "      <td>15</td>\n",
       "      <td>98</td>\n",
       "    </tr>\n",
       "    <tr>\n",
       "      <th>2</th>\n",
       "      <td>sakthi</td>\n",
       "      <td>45</td>\n",
       "      <td>Chennai</td>\n",
       "      <td>3</td>\n",
       "      <td>70</td>\n",
       "    </tr>\n",
       "  </tbody>\n",
       "</table>\n",
       "</div>"
      ],
      "text/plain": [
       "     Name  Age  Location  Exp  Salary\n",
       "0    raju   25   Chennai    9      78\n",
       "1     ram   32  Banglore   15      98\n",
       "2  sakthi   45   Chennai    3      70"
      ]
     },
     "execution_count": 158,
     "metadata": {},
     "output_type": "execute_result"
    }
   ],
   "source": [
    "pd.merge(df1,df3,on='Name')"
   ]
  },
  {
   "cell_type": "code",
   "execution_count": 159,
   "id": "006b9d51",
   "metadata": {},
   "outputs": [
    {
     "data": {
      "text/html": [
       "<div>\n",
       "<style scoped>\n",
       "    .dataframe tbody tr th:only-of-type {\n",
       "        vertical-align: middle;\n",
       "    }\n",
       "\n",
       "    .dataframe tbody tr th {\n",
       "        vertical-align: top;\n",
       "    }\n",
       "\n",
       "    .dataframe thead th {\n",
       "        text-align: right;\n",
       "    }\n",
       "</style>\n",
       "<table border=\"1\" class=\"dataframe\">\n",
       "  <thead>\n",
       "    <tr style=\"text-align: right;\">\n",
       "      <th></th>\n",
       "      <th>Name</th>\n",
       "      <th>Age</th>\n",
       "      <th>Location</th>\n",
       "      <th>Exp</th>\n",
       "      <th>Salary</th>\n",
       "    </tr>\n",
       "  </thead>\n",
       "  <tbody>\n",
       "    <tr>\n",
       "      <th>0</th>\n",
       "      <td>raghu</td>\n",
       "      <td>NaN</td>\n",
       "      <td>NaN</td>\n",
       "      <td>2</td>\n",
       "      <td>60</td>\n",
       "    </tr>\n",
       "    <tr>\n",
       "      <th>1</th>\n",
       "      <td>sakthi</td>\n",
       "      <td>45.0</td>\n",
       "      <td>Chennai</td>\n",
       "      <td>3</td>\n",
       "      <td>70</td>\n",
       "    </tr>\n",
       "    <tr>\n",
       "      <th>2</th>\n",
       "      <td>raju</td>\n",
       "      <td>25.0</td>\n",
       "      <td>Chennai</td>\n",
       "      <td>9</td>\n",
       "      <td>78</td>\n",
       "    </tr>\n",
       "    <tr>\n",
       "      <th>3</th>\n",
       "      <td>ram</td>\n",
       "      <td>32.0</td>\n",
       "      <td>Banglore</td>\n",
       "      <td>15</td>\n",
       "      <td>98</td>\n",
       "    </tr>\n",
       "  </tbody>\n",
       "</table>\n",
       "</div>"
      ],
      "text/plain": [
       "     Name   Age  Location  Exp  Salary\n",
       "0   raghu   NaN       NaN    2      60\n",
       "1  sakthi  45.0   Chennai    3      70\n",
       "2    raju  25.0   Chennai    9      78\n",
       "3     ram  32.0  Banglore   15      98"
      ]
     },
     "execution_count": 159,
     "metadata": {},
     "output_type": "execute_result"
    }
   ],
   "source": [
    "pd.merge(df1,df3,on='Name',how='right')"
   ]
  },
  {
   "cell_type": "code",
   "execution_count": 160,
   "id": "95e6d057",
   "metadata": {},
   "outputs": [
    {
     "data": {
      "text/html": [
       "<div>\n",
       "<style scoped>\n",
       "    .dataframe tbody tr th:only-of-type {\n",
       "        vertical-align: middle;\n",
       "    }\n",
       "\n",
       "    .dataframe tbody tr th {\n",
       "        vertical-align: top;\n",
       "    }\n",
       "\n",
       "    .dataframe thead th {\n",
       "        text-align: right;\n",
       "    }\n",
       "</style>\n",
       "<table border=\"1\" class=\"dataframe\">\n",
       "  <thead>\n",
       "    <tr style=\"text-align: right;\">\n",
       "      <th></th>\n",
       "      <th>Name</th>\n",
       "      <th>Age</th>\n",
       "      <th>Location</th>\n",
       "      <th>Exp</th>\n",
       "      <th>Salary</th>\n",
       "    </tr>\n",
       "  </thead>\n",
       "  <tbody>\n",
       "    <tr>\n",
       "      <th>0</th>\n",
       "      <td>raju</td>\n",
       "      <td>25</td>\n",
       "      <td>Chennai</td>\n",
       "      <td>9.0</td>\n",
       "      <td>78.0</td>\n",
       "    </tr>\n",
       "    <tr>\n",
       "      <th>1</th>\n",
       "      <td>ram</td>\n",
       "      <td>32</td>\n",
       "      <td>Banglore</td>\n",
       "      <td>15.0</td>\n",
       "      <td>98.0</td>\n",
       "    </tr>\n",
       "    <tr>\n",
       "      <th>2</th>\n",
       "      <td>kumar</td>\n",
       "      <td>29</td>\n",
       "      <td>Delhi</td>\n",
       "      <td>NaN</td>\n",
       "      <td>NaN</td>\n",
       "    </tr>\n",
       "    <tr>\n",
       "      <th>3</th>\n",
       "      <td>sakthi</td>\n",
       "      <td>45</td>\n",
       "      <td>Chennai</td>\n",
       "      <td>3.0</td>\n",
       "      <td>70.0</td>\n",
       "    </tr>\n",
       "  </tbody>\n",
       "</table>\n",
       "</div>"
      ],
      "text/plain": [
       "     Name  Age  Location   Exp  Salary\n",
       "0    raju   25   Chennai   9.0    78.0\n",
       "1     ram   32  Banglore  15.0    98.0\n",
       "2   kumar   29     Delhi   NaN     NaN\n",
       "3  sakthi   45   Chennai   3.0    70.0"
      ]
     },
     "execution_count": 160,
     "metadata": {},
     "output_type": "execute_result"
    }
   ],
   "source": [
    "pd.merge(df1,df3,on='Name',how='left')"
   ]
  },
  {
   "cell_type": "code",
   "execution_count": 161,
   "id": "17ac0ad0",
   "metadata": {},
   "outputs": [
    {
     "data": {
      "text/html": [
       "<div>\n",
       "<style scoped>\n",
       "    .dataframe tbody tr th:only-of-type {\n",
       "        vertical-align: middle;\n",
       "    }\n",
       "\n",
       "    .dataframe tbody tr th {\n",
       "        vertical-align: top;\n",
       "    }\n",
       "\n",
       "    .dataframe thead th {\n",
       "        text-align: right;\n",
       "    }\n",
       "</style>\n",
       "<table border=\"1\" class=\"dataframe\">\n",
       "  <thead>\n",
       "    <tr style=\"text-align: right;\">\n",
       "      <th></th>\n",
       "      <th>Name</th>\n",
       "      <th>Age</th>\n",
       "      <th>Location</th>\n",
       "      <th>Exp</th>\n",
       "      <th>Salary</th>\n",
       "    </tr>\n",
       "  </thead>\n",
       "  <tbody>\n",
       "    <tr>\n",
       "      <th>0</th>\n",
       "      <td>raju</td>\n",
       "      <td>25.0</td>\n",
       "      <td>Chennai</td>\n",
       "      <td>9.0</td>\n",
       "      <td>78.0</td>\n",
       "    </tr>\n",
       "    <tr>\n",
       "      <th>1</th>\n",
       "      <td>ram</td>\n",
       "      <td>32.0</td>\n",
       "      <td>Banglore</td>\n",
       "      <td>15.0</td>\n",
       "      <td>98.0</td>\n",
       "    </tr>\n",
       "    <tr>\n",
       "      <th>2</th>\n",
       "      <td>kumar</td>\n",
       "      <td>29.0</td>\n",
       "      <td>Delhi</td>\n",
       "      <td>NaN</td>\n",
       "      <td>NaN</td>\n",
       "    </tr>\n",
       "    <tr>\n",
       "      <th>3</th>\n",
       "      <td>sakthi</td>\n",
       "      <td>45.0</td>\n",
       "      <td>Chennai</td>\n",
       "      <td>3.0</td>\n",
       "      <td>70.0</td>\n",
       "    </tr>\n",
       "    <tr>\n",
       "      <th>4</th>\n",
       "      <td>raghu</td>\n",
       "      <td>NaN</td>\n",
       "      <td>NaN</td>\n",
       "      <td>2.0</td>\n",
       "      <td>60.0</td>\n",
       "    </tr>\n",
       "  </tbody>\n",
       "</table>\n",
       "</div>"
      ],
      "text/plain": [
       "     Name   Age  Location   Exp  Salary\n",
       "0    raju  25.0   Chennai   9.0    78.0\n",
       "1     ram  32.0  Banglore  15.0    98.0\n",
       "2   kumar  29.0     Delhi   NaN     NaN\n",
       "3  sakthi  45.0   Chennai   3.0    70.0\n",
       "4   raghu   NaN       NaN   2.0    60.0"
      ]
     },
     "execution_count": 161,
     "metadata": {},
     "output_type": "execute_result"
    }
   ],
   "source": [
    "pd.merge(df1,df3,on='Name',how='outer')"
   ]
  },
  {
   "cell_type": "code",
   "execution_count": 162,
   "id": "bd155934",
   "metadata": {},
   "outputs": [
    {
     "data": {
      "text/html": [
       "<div>\n",
       "<style scoped>\n",
       "    .dataframe tbody tr th:only-of-type {\n",
       "        vertical-align: middle;\n",
       "    }\n",
       "\n",
       "    .dataframe tbody tr th {\n",
       "        vertical-align: top;\n",
       "    }\n",
       "\n",
       "    .dataframe thead th {\n",
       "        text-align: right;\n",
       "    }\n",
       "</style>\n",
       "<table border=\"1\" class=\"dataframe\">\n",
       "  <thead>\n",
       "    <tr style=\"text-align: right;\">\n",
       "      <th></th>\n",
       "      <th>Name1</th>\n",
       "      <th>Exp</th>\n",
       "      <th>Salary</th>\n",
       "    </tr>\n",
       "  </thead>\n",
       "  <tbody>\n",
       "    <tr>\n",
       "      <th>0</th>\n",
       "      <td>raghu</td>\n",
       "      <td>2</td>\n",
       "      <td>60</td>\n",
       "    </tr>\n",
       "    <tr>\n",
       "      <th>1</th>\n",
       "      <td>sakthi</td>\n",
       "      <td>3</td>\n",
       "      <td>70</td>\n",
       "    </tr>\n",
       "    <tr>\n",
       "      <th>2</th>\n",
       "      <td>raju</td>\n",
       "      <td>9</td>\n",
       "      <td>78</td>\n",
       "    </tr>\n",
       "    <tr>\n",
       "      <th>3</th>\n",
       "      <td>ram</td>\n",
       "      <td>15</td>\n",
       "      <td>98</td>\n",
       "    </tr>\n",
       "  </tbody>\n",
       "</table>\n",
       "</div>"
      ],
      "text/plain": [
       "    Name1  Exp  Salary\n",
       "0   raghu    2      60\n",
       "1  sakthi    3      70\n",
       "2    raju    9      78\n",
       "3     ram   15      98"
      ]
     },
     "execution_count": 162,
     "metadata": {},
     "output_type": "execute_result"
    }
   ],
   "source": [
    "df3.columns=['Name1','Exp','Salary']\n",
    "df3"
   ]
  },
  {
   "cell_type": "code",
   "execution_count": 163,
   "id": "2e3910b5",
   "metadata": {},
   "outputs": [
    {
     "data": {
      "text/html": [
       "<div>\n",
       "<style scoped>\n",
       "    .dataframe tbody tr th:only-of-type {\n",
       "        vertical-align: middle;\n",
       "    }\n",
       "\n",
       "    .dataframe tbody tr th {\n",
       "        vertical-align: top;\n",
       "    }\n",
       "\n",
       "    .dataframe thead th {\n",
       "        text-align: right;\n",
       "    }\n",
       "</style>\n",
       "<table border=\"1\" class=\"dataframe\">\n",
       "  <thead>\n",
       "    <tr style=\"text-align: right;\">\n",
       "      <th></th>\n",
       "      <th>Name</th>\n",
       "      <th>Age</th>\n",
       "      <th>Location</th>\n",
       "    </tr>\n",
       "  </thead>\n",
       "  <tbody>\n",
       "    <tr>\n",
       "      <th>0</th>\n",
       "      <td>raju</td>\n",
       "      <td>25</td>\n",
       "      <td>Chennai</td>\n",
       "    </tr>\n",
       "    <tr>\n",
       "      <th>1</th>\n",
       "      <td>ram</td>\n",
       "      <td>32</td>\n",
       "      <td>Banglore</td>\n",
       "    </tr>\n",
       "    <tr>\n",
       "      <th>2</th>\n",
       "      <td>kumar</td>\n",
       "      <td>29</td>\n",
       "      <td>Delhi</td>\n",
       "    </tr>\n",
       "    <tr>\n",
       "      <th>3</th>\n",
       "      <td>sakthi</td>\n",
       "      <td>45</td>\n",
       "      <td>Chennai</td>\n",
       "    </tr>\n",
       "  </tbody>\n",
       "</table>\n",
       "</div>"
      ],
      "text/plain": [
       "     Name  Age  Location\n",
       "0    raju   25   Chennai\n",
       "1     ram   32  Banglore\n",
       "2   kumar   29     Delhi\n",
       "3  sakthi   45   Chennai"
      ]
     },
     "execution_count": 163,
     "metadata": {},
     "output_type": "execute_result"
    }
   ],
   "source": [
    "df1"
   ]
  },
  {
   "cell_type": "code",
   "execution_count": 164,
   "id": "deb4f5f7",
   "metadata": {},
   "outputs": [
    {
     "data": {
      "text/html": [
       "<div>\n",
       "<style scoped>\n",
       "    .dataframe tbody tr th:only-of-type {\n",
       "        vertical-align: middle;\n",
       "    }\n",
       "\n",
       "    .dataframe tbody tr th {\n",
       "        vertical-align: top;\n",
       "    }\n",
       "\n",
       "    .dataframe thead th {\n",
       "        text-align: right;\n",
       "    }\n",
       "</style>\n",
       "<table border=\"1\" class=\"dataframe\">\n",
       "  <thead>\n",
       "    <tr style=\"text-align: right;\">\n",
       "      <th></th>\n",
       "      <th>Name</th>\n",
       "      <th>Age</th>\n",
       "      <th>Location</th>\n",
       "      <th>Name1</th>\n",
       "      <th>Exp</th>\n",
       "      <th>Salary</th>\n",
       "    </tr>\n",
       "  </thead>\n",
       "  <tbody>\n",
       "    <tr>\n",
       "      <th>0</th>\n",
       "      <td>raju</td>\n",
       "      <td>25</td>\n",
       "      <td>Chennai</td>\n",
       "      <td>raju</td>\n",
       "      <td>9</td>\n",
       "      <td>78</td>\n",
       "    </tr>\n",
       "    <tr>\n",
       "      <th>1</th>\n",
       "      <td>ram</td>\n",
       "      <td>32</td>\n",
       "      <td>Banglore</td>\n",
       "      <td>ram</td>\n",
       "      <td>15</td>\n",
       "      <td>98</td>\n",
       "    </tr>\n",
       "    <tr>\n",
       "      <th>2</th>\n",
       "      <td>sakthi</td>\n",
       "      <td>45</td>\n",
       "      <td>Chennai</td>\n",
       "      <td>sakthi</td>\n",
       "      <td>3</td>\n",
       "      <td>70</td>\n",
       "    </tr>\n",
       "  </tbody>\n",
       "</table>\n",
       "</div>"
      ],
      "text/plain": [
       "     Name  Age  Location   Name1  Exp  Salary\n",
       "0    raju   25   Chennai    raju    9      78\n",
       "1     ram   32  Banglore     ram   15      98\n",
       "2  sakthi   45   Chennai  sakthi    3      70"
      ]
     },
     "execution_count": 164,
     "metadata": {},
     "output_type": "execute_result"
    }
   ],
   "source": [
    "pd.merge(df1,df3,right_on='Name1',left_on='Name')"
   ]
  },
  {
   "cell_type": "code",
   "execution_count": 165,
   "id": "88340b80",
   "metadata": {},
   "outputs": [],
   "source": [
    "#From which product category more orders are returned?"
   ]
  },
  {
   "cell_type": "code",
   "execution_count": 166,
   "id": "0b6b9ba8",
   "metadata": {},
   "outputs": [],
   "source": [
    "store1=pd.read_excel('Super_store.xlsx',sheet_name='Returns')"
   ]
  },
  {
   "cell_type": "code",
   "execution_count": 167,
   "id": "52d9ac62",
   "metadata": {},
   "outputs": [
    {
     "data": {
      "text/html": [
       "<div>\n",
       "<style scoped>\n",
       "    .dataframe tbody tr th:only-of-type {\n",
       "        vertical-align: middle;\n",
       "    }\n",
       "\n",
       "    .dataframe tbody tr th {\n",
       "        vertical-align: top;\n",
       "    }\n",
       "\n",
       "    .dataframe thead th {\n",
       "        text-align: right;\n",
       "    }\n",
       "</style>\n",
       "<table border=\"1\" class=\"dataframe\">\n",
       "  <thead>\n",
       "    <tr style=\"text-align: right;\">\n",
       "      <th></th>\n",
       "      <th>Order ID</th>\n",
       "      <th>Status</th>\n",
       "    </tr>\n",
       "  </thead>\n",
       "  <tbody>\n",
       "    <tr>\n",
       "      <th>0</th>\n",
       "      <td>65</td>\n",
       "      <td>Returned</td>\n",
       "    </tr>\n",
       "    <tr>\n",
       "      <th>1</th>\n",
       "      <td>612</td>\n",
       "      <td>Returned</td>\n",
       "    </tr>\n",
       "  </tbody>\n",
       "</table>\n",
       "</div>"
      ],
      "text/plain": [
       "   Order ID    Status\n",
       "0        65  Returned\n",
       "1       612  Returned"
      ]
     },
     "execution_count": 167,
     "metadata": {},
     "output_type": "execute_result"
    }
   ],
   "source": [
    "store1.head(2)"
   ]
  },
  {
   "cell_type": "code",
   "execution_count": 168,
   "id": "e69b0134",
   "metadata": {},
   "outputs": [],
   "source": [
    "ret_item=pd.merge(store,store1,on='Order ID',)"
   ]
  },
  {
   "cell_type": "code",
   "execution_count": 169,
   "id": "9c9651d9",
   "metadata": {},
   "outputs": [
    {
     "data": {
      "text/plain": [
       "98"
      ]
     },
     "execution_count": 169,
     "metadata": {},
     "output_type": "execute_result"
    }
   ],
   "source": [
    "len(ret_item)"
   ]
  },
  {
   "cell_type": "code",
   "execution_count": 170,
   "id": "620f00a5",
   "metadata": {},
   "outputs": [
    {
     "data": {
      "text/plain": [
       "1634"
      ]
     },
     "execution_count": 170,
     "metadata": {},
     "output_type": "execute_result"
    }
   ],
   "source": [
    "len(store1\n",
    "   )"
   ]
  },
  {
   "cell_type": "code",
   "execution_count": 171,
   "id": "4d00ba21",
   "metadata": {},
   "outputs": [
    {
     "data": {
      "text/plain": [
       "Office Supplies    58\n",
       "Technology         21\n",
       "Furniture          19\n",
       "Name: Product Category, dtype: int64"
      ]
     },
     "execution_count": 171,
     "metadata": {},
     "output_type": "execute_result"
    }
   ],
   "source": [
    "ret_item['Product Category'].value_counts()"
   ]
  },
  {
   "cell_type": "code",
   "execution_count": 172,
   "id": "0180f037",
   "metadata": {},
   "outputs": [],
   "source": [
    "# What is the sales value of the returned items"
   ]
  },
  {
   "cell_type": "code",
   "execution_count": 173,
   "id": "b0f03cc6",
   "metadata": {},
   "outputs": [
    {
     "data": {
      "text/plain": [
       "Product Category\n",
       "Furniture          138972.70\n",
       "Office Supplies    116793.15\n",
       "Technology          65505.09\n",
       "Name: Sales, dtype: float64"
      ]
     },
     "execution_count": 173,
     "metadata": {},
     "output_type": "execute_result"
    }
   ],
   "source": [
    "ret_item.groupby('Product Category')['Sales'].sum()"
   ]
  },
  {
   "cell_type": "code",
   "execution_count": 174,
   "id": "260213c9",
   "metadata": {},
   "outputs": [],
   "source": [
    "market_data=pd.read_csv('https://raw.githubusercontent.com/tkseneee/Dataset/master/k_circle_sales.csv')"
   ]
  },
  {
   "cell_type": "code",
   "execution_count": 175,
   "id": "19f20a64",
   "metadata": {},
   "outputs": [
    {
     "data": {
      "text/html": [
       "<div>\n",
       "<style scoped>\n",
       "    .dataframe tbody tr th:only-of-type {\n",
       "        vertical-align: middle;\n",
       "    }\n",
       "\n",
       "    .dataframe tbody tr th {\n",
       "        vertical-align: top;\n",
       "    }\n",
       "\n",
       "    .dataframe thead th {\n",
       "        text-align: right;\n",
       "    }\n",
       "</style>\n",
       "<table border=\"1\" class=\"dataframe\">\n",
       "  <thead>\n",
       "    <tr style=\"text-align: right;\">\n",
       "      <th></th>\n",
       "      <th>Item_Identifier</th>\n",
       "      <th>Item_Weight</th>\n",
       "      <th>Item_Fat_Content</th>\n",
       "      <th>Item_Visibility</th>\n",
       "      <th>Item_Type</th>\n",
       "      <th>Item_MRP</th>\n",
       "      <th>Outlet_Identifier</th>\n",
       "      <th>Outlet_Establishment_Year</th>\n",
       "      <th>Outlet_Size</th>\n",
       "      <th>Outlet_Location_Type</th>\n",
       "      <th>Outlet_Type</th>\n",
       "      <th>Item_Outlet_Sales</th>\n",
       "      <th>Profit</th>\n",
       "    </tr>\n",
       "  </thead>\n",
       "  <tbody>\n",
       "    <tr>\n",
       "      <th>0</th>\n",
       "      <td>FDA15</td>\n",
       "      <td>9.30</td>\n",
       "      <td>Low Fat</td>\n",
       "      <td>0.016047</td>\n",
       "      <td>Dairy</td>\n",
       "      <td>249.8</td>\n",
       "      <td>OUT049</td>\n",
       "      <td>1999</td>\n",
       "      <td>Medium</td>\n",
       "      <td>Tier 2</td>\n",
       "      <td>Supermarket Type1</td>\n",
       "      <td>3735.1380</td>\n",
       "      <td>11.5</td>\n",
       "    </tr>\n",
       "    <tr>\n",
       "      <th>1</th>\n",
       "      <td>DRC01</td>\n",
       "      <td>5.92</td>\n",
       "      <td>Regular</td>\n",
       "      <td>0.019278</td>\n",
       "      <td>Soft Drinks</td>\n",
       "      <td>48.3</td>\n",
       "      <td>OUT018</td>\n",
       "      <td>2009</td>\n",
       "      <td>Medium</td>\n",
       "      <td>Tier 2</td>\n",
       "      <td>Supermarket Type2</td>\n",
       "      <td>443.4228</td>\n",
       "      <td>14.3</td>\n",
       "    </tr>\n",
       "  </tbody>\n",
       "</table>\n",
       "</div>"
      ],
      "text/plain": [
       "  Item_Identifier  Item_Weight Item_Fat_Content  Item_Visibility    Item_Type  \\\n",
       "0           FDA15         9.30          Low Fat         0.016047        Dairy   \n",
       "1           DRC01         5.92          Regular         0.019278  Soft Drinks   \n",
       "\n",
       "   Item_MRP Outlet_Identifier  Outlet_Establishment_Year Outlet_Size  \\\n",
       "0     249.8            OUT049                       1999      Medium   \n",
       "1      48.3            OUT018                       2009      Medium   \n",
       "\n",
       "  Outlet_Location_Type        Outlet_Type  Item_Outlet_Sales  Profit  \n",
       "0               Tier 2  Supermarket Type1          3735.1380    11.5  \n",
       "1               Tier 2  Supermarket Type2           443.4228    14.3  "
      ]
     },
     "execution_count": 175,
     "metadata": {},
     "output_type": "execute_result"
    }
   ],
   "source": [
    "market_data.head(2)"
   ]
  },
  {
   "cell_type": "code",
   "execution_count": 176,
   "id": "71473f57",
   "metadata": {},
   "outputs": [
    {
     "data": {
      "text/plain": [
       "5"
      ]
     },
     "execution_count": 176,
     "metadata": {},
     "output_type": "execute_result"
    }
   ],
   "source": [
    "#How many diff fat content item are ther in data??\n",
    "\n",
    "market_data['Item_Fat_Content'].nunique()"
   ]
  },
  {
   "cell_type": "code",
   "execution_count": 177,
   "id": "7d79bd47",
   "metadata": {},
   "outputs": [
    {
     "data": {
      "text/plain": [
       "array(['Low Fat', 'Regular', 'low fat', 'LF', 'reg'], dtype=object)"
      ]
     },
     "execution_count": 177,
     "metadata": {},
     "output_type": "execute_result"
    }
   ],
   "source": [
    "market_data['Item_Fat_Content'].unique()"
   ]
  },
  {
   "cell_type": "code",
   "execution_count": 178,
   "id": "45f477e1",
   "metadata": {},
   "outputs": [
    {
     "data": {
      "text/plain": [
       "<AxesSubplot:>"
      ]
     },
     "execution_count": 178,
     "metadata": {},
     "output_type": "execute_result"
    },
    {
     "data": {
      "image/png": "[encoded data removed]",
      "text/plain": [
       "<Figure size 432x288 with 1 Axes>"
      ]
     },
     "metadata": {
      "needs_background": "light"
     },
     "output_type": "display_data"
    }
   ],
   "source": [
    "market_data['Item_Fat_Content'].value_counts().plot(kind='bar')"
   ]
  },
  {
   "cell_type": "code",
   "execution_count": 179,
   "id": "96c15548",
   "metadata": {},
   "outputs": [
    {
     "data": {
      "text/plain": [
       "<AxesSubplot:>"
      ]
     },
     "execution_count": 179,
     "metadata": {},
     "output_type": "execute_result"
    },
    {
     "data": {
      "image/png": "[encoded data removed]",
      "text/plain": [
       "<Figure size 432x288 with 1 Axes>"
      ]
     },
     "metadata": {
      "needs_background": "light"
     },
     "output_type": "display_data"
    }
   ],
   "source": [
    "market_data['Item_Identifier'].value_counts().plot(kind='bar')"
   ]
  },
  {
   "cell_type": "code",
   "execution_count": 180,
   "id": "904fe4a6",
   "metadata": {},
   "outputs": [
    {
     "data": {
      "text/plain": [
       "FDW13    10\n",
       "FDG33    10\n",
       "NCY18     9\n",
       "FDF52     9\n",
       "FDX04     9\n",
       "         ..\n",
       "FDY43     1\n",
       "FDT35     1\n",
       "FDQ60     1\n",
       "FDK57     1\n",
       "FDE52     1\n",
       "Name: Item_Identifier, Length: 1559, dtype: int64"
      ]
     },
     "execution_count": 180,
     "metadata": {},
     "output_type": "execute_result"
    }
   ],
   "source": [
    "#Do u like item identifier is unique for each row in this dat??\n",
    "market_data['Item_Identifier'].value_counts()"
   ]
  },
  {
   "cell_type": "code",
   "execution_count": 181,
   "id": "56d5aadc",
   "metadata": {},
   "outputs": [
    {
     "data": {
      "text/plain": [
       "array(['Low Fat', 'Regular', 'low fat', 'LF', 'reg'], dtype=object)"
      ]
     },
     "execution_count": 181,
     "metadata": {},
     "output_type": "execute_result"
    }
   ],
   "source": [
    "market_data['Item_Fat_Content'].unique()"
   ]
  },
  {
   "cell_type": "code",
   "execution_count": 182,
   "id": "5054f831",
   "metadata": {},
   "outputs": [],
   "source": [
    "market_data['Item_Fat_Content']=market_data['Item_Identifier'].replace({'Low Fat':'Low Fat', 'low Fat':'Low fat', 'LF':'Low Fat', 'reg':'Regular'})"
   ]
  },
  {
   "cell_type": "code",
   "execution_count": 183,
   "id": "4db7282d",
   "metadata": {},
   "outputs": [],
   "source": [
    "num_market_data=market_data.select_dtypes(include=np.number)"
   ]
  },
  {
   "cell_type": "code",
   "execution_count": 184,
   "id": "94f1d139",
   "metadata": {},
   "outputs": [
    {
     "data": {
      "image/png": "[encoded data removed]",
      "text/plain": [
       "<Figure size 432x288 with 1 Axes>"
      ]
     },
     "metadata": {
      "needs_background": "light"
     },
     "output_type": "display_data"
    }
   ],
   "source": [
    "for i in num_market_data.columns:\n",
    "    num_market_data[i].plot(kind='kde')\n",
    "    plt.show"
   ]
  },
  {
   "cell_type": "code",
   "execution_count": 185,
   "id": "252b04d2",
   "metadata": {},
   "outputs": [
    {
     "ename": "NameError",
     "evalue": "name 'name_market_data' is not defined",
     "output_type": "error",
     "traceback": [
      "\u001b[1;31m---------------------------------------------------------------------------\u001b[0m",
      "\u001b[1;31mNameError\u001b[0m                                 Traceback (most recent call last)",
      "\u001b[1;32m<ipython-input-185-640ce0aa9f0e>\u001b[0m in \u001b[0;36m<module>\u001b[1;34m\u001b[0m\n\u001b[1;32m----> 1\u001b[1;33m \u001b[0mname_market_data\u001b[0m\u001b[1;33m.\u001b[0m\u001b[0mshape\u001b[0m\u001b[1;33m(\u001b[0m\u001b[1;33m)\u001b[0m\u001b[1;33m\u001b[0m\u001b[1;33m\u001b[0m\u001b[0m\n\u001b[0m",
      "\u001b[1;31mNameError\u001b[0m: name 'name_market_data' is not defined"
     ]
    }
   ],
   "source": [
    "name_market_data.shape()"
   ]
  },
  {
   "cell_type": "code",
   "execution_count": null,
   "id": "25b02768",
   "metadata": {},
   "outputs": [],
   "source": [
    "sb.pairplot(num_market_data)"
   ]
  },
  {
   "cell_type": "code",
   "execution_count": null,
   "id": "f70ccdda",
   "metadata": {},
   "outputs": [],
   "source": [
    "cor1=num_market_data.corr()"
   ]
  },
  {
   "cell_type": "code",
   "execution_count": null,
   "id": "ea44c825",
   "metadata": {},
   "outputs": [],
   "source": [
    "mask=np.tril(np.ones_like(cor1))\n",
    "sb.heatmap(cor1,annot=True,mask=mask)\n"
   ]
  },
  {
   "cell_type": "code",
   "execution_count": null,
   "id": "25d9e19e",
   "metadata": {},
   "outputs": [],
   "source": [
    "sb.scatterplot(market_data['Item_MRP'],market_data['Item_Outlet_Sales'],hue=market_data['Outlet_Type'])"
   ]
  },
  {
   "cell_type": "code",
   "execution_count": null,
   "id": "0af25268",
   "metadata": {},
   "outputs": [],
   "source": [
    "sb.scatterplot(market_data['Item_MRP'],market_data['Profit'],hue=market_data['Outlet_Type'])"
   ]
  },
  {
   "cell_type": "code",
   "execution_count": null,
   "id": "98a995b0",
   "metadata": {},
   "outputs": [],
   "source": [
    "# want to understand the relation btw sales and outlet type\n"
   ]
  },
  {
   "cell_type": "code",
   "execution_count": null,
   "id": "fdffee24",
   "metadata": {},
   "outputs": [],
   "source": [
    "market_data.groupby('Outlet_Type')['Item_Outlet_Sales'].mean()"
   ]
  },
  {
   "cell_type": "code",
   "execution_count": null,
   "id": "6f639ee7",
   "metadata": {},
   "outputs": [],
   "source": [
    "sb.boxplot(market_data['Outlet_Type'],market_data['Item_Outlet_Sales'])\n",
    "plt.xticks(rotation=90)"
   ]
  },
  {
   "cell_type": "code",
   "execution_count": null,
   "id": "9ceaf102",
   "metadata": {},
   "outputs": [],
   "source": [
    "sb.boxplot(market_data['Outlet_Type'],market_data['Profit'])\n",
    "plt.xticks(rotation=90)"
   ]
  },
  {
   "cell_type": "markdown",
   "id": "7095ebf2",
   "metadata": {},
   "source": [
    "###17\\08\\21"
   ]
  },
  {
   "cell_type": "code",
   "execution_count": 186,
   "id": "9458ebca",
   "metadata": {},
   "outputs": [
    {
     "data": {
      "text/html": [
       "<div>\n",
       "<style scoped>\n",
       "    .dataframe tbody tr th:only-of-type {\n",
       "        vertical-align: middle;\n",
       "    }\n",
       "\n",
       "    .dataframe tbody tr th {\n",
       "        vertical-align: top;\n",
       "    }\n",
       "\n",
       "    .dataframe thead th {\n",
       "        text-align: right;\n",
       "    }\n",
       "</style>\n",
       "<table border=\"1\" class=\"dataframe\">\n",
       "  <thead>\n",
       "    <tr style=\"text-align: right;\">\n",
       "      <th></th>\n",
       "      <th>Row ID</th>\n",
       "      <th>Order Priority</th>\n",
       "      <th>Discount</th>\n",
       "      <th>Unit Price</th>\n",
       "      <th>Shipping Cost</th>\n",
       "      <th>Customer ID</th>\n",
       "      <th>Customer Name</th>\n",
       "      <th>Ship Mode</th>\n",
       "      <th>Customer Segment</th>\n",
       "      <th>Product Category</th>\n",
       "      <th>...</th>\n",
       "      <th>Region</th>\n",
       "      <th>State or Province</th>\n",
       "      <th>City</th>\n",
       "      <th>Postal Code</th>\n",
       "      <th>Order Date</th>\n",
       "      <th>Ship Date</th>\n",
       "      <th>Profit</th>\n",
       "      <th>Quantity ordered new</th>\n",
       "      <th>Sales</th>\n",
       "      <th>Order ID</th>\n",
       "    </tr>\n",
       "  </thead>\n",
       "  <tbody>\n",
       "    <tr>\n",
       "      <th>0</th>\n",
       "      <td>18606</td>\n",
       "      <td>Not Specified</td>\n",
       "      <td>0.01</td>\n",
       "      <td>2.88</td>\n",
       "      <td>0.50</td>\n",
       "      <td>2</td>\n",
       "      <td>Janice Fletcher</td>\n",
       "      <td>Regular Air</td>\n",
       "      <td>Corporate</td>\n",
       "      <td>Office Supplies</td>\n",
       "      <td>...</td>\n",
       "      <td>Central</td>\n",
       "      <td>Illinois</td>\n",
       "      <td>Addison</td>\n",
       "      <td>60101</td>\n",
       "      <td>2012-05-28</td>\n",
       "      <td>2012-05-30</td>\n",
       "      <td>1.32</td>\n",
       "      <td>2</td>\n",
       "      <td>5.90</td>\n",
       "      <td>88525</td>\n",
       "    </tr>\n",
       "    <tr>\n",
       "      <th>1</th>\n",
       "      <td>20847</td>\n",
       "      <td>High</td>\n",
       "      <td>0.01</td>\n",
       "      <td>2.84</td>\n",
       "      <td>0.93</td>\n",
       "      <td>3</td>\n",
       "      <td>Bonnie Potter</td>\n",
       "      <td>Express Air</td>\n",
       "      <td>Corporate</td>\n",
       "      <td>Office Supplies</td>\n",
       "      <td>...</td>\n",
       "      <td>West</td>\n",
       "      <td>Washington</td>\n",
       "      <td>Anacortes</td>\n",
       "      <td>98221</td>\n",
       "      <td>2010-07-07</td>\n",
       "      <td>2010-07-08</td>\n",
       "      <td>4.56</td>\n",
       "      <td>4</td>\n",
       "      <td>13.01</td>\n",
       "      <td>88522</td>\n",
       "    </tr>\n",
       "  </tbody>\n",
       "</table>\n",
       "<p>2 rows × 24 columns</p>\n",
       "</div>"
      ],
      "text/plain": [
       "  Row ID Order Priority  Discount  Unit Price  Shipping Cost Customer ID  \\\n",
       "0  18606  Not Specified      0.01        2.88           0.50           2   \n",
       "1  20847           High      0.01        2.84           0.93           3   \n",
       "\n",
       "     Customer Name    Ship Mode Customer Segment Product Category  ...  \\\n",
       "0  Janice Fletcher  Regular Air        Corporate  Office Supplies  ...   \n",
       "1    Bonnie Potter  Express Air        Corporate  Office Supplies  ...   \n",
       "\n",
       "    Region State or Province       City  Postal Code Order Date  Ship Date  \\\n",
       "0  Central          Illinois    Addison        60101 2012-05-28 2012-05-30   \n",
       "1     West        Washington  Anacortes        98221 2010-07-07 2010-07-08   \n",
       "\n",
       "  Profit Quantity ordered new  Sales Order ID  \n",
       "0   1.32                    2   5.90    88525  \n",
       "1   4.56                    4  13.01    88522  \n",
       "\n",
       "[2 rows x 24 columns]"
      ]
     },
     "execution_count": 186,
     "metadata": {},
     "output_type": "execute_result"
    }
   ],
   "source": [
    "store.head(2)"
   ]
  },
  {
   "cell_type": "code",
   "execution_count": 187,
   "id": "e40fd2ea",
   "metadata": {},
   "outputs": [
    {
     "data": {
      "text/plain": [
       "dtype('<M8[ns]')"
      ]
     },
     "execution_count": 187,
     "metadata": {},
     "output_type": "execute_result"
    }
   ],
   "source": [
    "store['Order Date'].dtype"
   ]
  },
  {
   "cell_type": "code",
   "execution_count": 188,
   "id": "9e6c574e",
   "metadata": {},
   "outputs": [],
   "source": [
    "#store['Order Date']=pd.to_datetime(store['Order Date'])"
   ]
  },
  {
   "cell_type": "code",
   "execution_count": 189,
   "id": "23ffe617",
   "metadata": {},
   "outputs": [],
   "source": [
    "\n",
    "store['year']=store['Order Date'].dt.year\n",
    "store['month']=store['Order Date'].dt.month\n",
    "store['day']=store['Order Date'].dt.day"
   ]
  },
  {
   "cell_type": "code",
   "execution_count": 190,
   "id": "397b66d3",
   "metadata": {},
   "outputs": [
    {
     "data": {
      "text/html": [
       "<div>\n",
       "<style scoped>\n",
       "    .dataframe tbody tr th:only-of-type {\n",
       "        vertical-align: middle;\n",
       "    }\n",
       "\n",
       "    .dataframe tbody tr th {\n",
       "        vertical-align: top;\n",
       "    }\n",
       "\n",
       "    .dataframe thead th {\n",
       "        text-align: right;\n",
       "    }\n",
       "</style>\n",
       "<table border=\"1\" class=\"dataframe\">\n",
       "  <thead>\n",
       "    <tr style=\"text-align: right;\">\n",
       "      <th></th>\n",
       "      <th>Row ID</th>\n",
       "      <th>Order Priority</th>\n",
       "      <th>Discount</th>\n",
       "      <th>Unit Price</th>\n",
       "      <th>Shipping Cost</th>\n",
       "      <th>Customer ID</th>\n",
       "      <th>Customer Name</th>\n",
       "      <th>Ship Mode</th>\n",
       "      <th>Customer Segment</th>\n",
       "      <th>Product Category</th>\n",
       "      <th>...</th>\n",
       "      <th>Postal Code</th>\n",
       "      <th>Order Date</th>\n",
       "      <th>Ship Date</th>\n",
       "      <th>Profit</th>\n",
       "      <th>Quantity ordered new</th>\n",
       "      <th>Sales</th>\n",
       "      <th>Order ID</th>\n",
       "      <th>year</th>\n",
       "      <th>month</th>\n",
       "      <th>day</th>\n",
       "    </tr>\n",
       "  </thead>\n",
       "  <tbody>\n",
       "    <tr>\n",
       "      <th>0</th>\n",
       "      <td>18606</td>\n",
       "      <td>Not Specified</td>\n",
       "      <td>0.01</td>\n",
       "      <td>2.88</td>\n",
       "      <td>0.50</td>\n",
       "      <td>2</td>\n",
       "      <td>Janice Fletcher</td>\n",
       "      <td>Regular Air</td>\n",
       "      <td>Corporate</td>\n",
       "      <td>Office Supplies</td>\n",
       "      <td>...</td>\n",
       "      <td>60101</td>\n",
       "      <td>2012-05-28</td>\n",
       "      <td>2012-05-30</td>\n",
       "      <td>1.32</td>\n",
       "      <td>2</td>\n",
       "      <td>5.90</td>\n",
       "      <td>88525</td>\n",
       "      <td>2012</td>\n",
       "      <td>5</td>\n",
       "      <td>28</td>\n",
       "    </tr>\n",
       "    <tr>\n",
       "      <th>1</th>\n",
       "      <td>20847</td>\n",
       "      <td>High</td>\n",
       "      <td>0.01</td>\n",
       "      <td>2.84</td>\n",
       "      <td>0.93</td>\n",
       "      <td>3</td>\n",
       "      <td>Bonnie Potter</td>\n",
       "      <td>Express Air</td>\n",
       "      <td>Corporate</td>\n",
       "      <td>Office Supplies</td>\n",
       "      <td>...</td>\n",
       "      <td>98221</td>\n",
       "      <td>2010-07-07</td>\n",
       "      <td>2010-07-08</td>\n",
       "      <td>4.56</td>\n",
       "      <td>4</td>\n",
       "      <td>13.01</td>\n",
       "      <td>88522</td>\n",
       "      <td>2010</td>\n",
       "      <td>7</td>\n",
       "      <td>7</td>\n",
       "    </tr>\n",
       "  </tbody>\n",
       "</table>\n",
       "<p>2 rows × 27 columns</p>\n",
       "</div>"
      ],
      "text/plain": [
       "  Row ID Order Priority  Discount  Unit Price  Shipping Cost Customer ID  \\\n",
       "0  18606  Not Specified      0.01        2.88           0.50           2   \n",
       "1  20847           High      0.01        2.84           0.93           3   \n",
       "\n",
       "     Customer Name    Ship Mode Customer Segment Product Category  ...  \\\n",
       "0  Janice Fletcher  Regular Air        Corporate  Office Supplies  ...   \n",
       "1    Bonnie Potter  Express Air        Corporate  Office Supplies  ...   \n",
       "\n",
       "  Postal Code Order Date  Ship Date  Profit Quantity ordered new  Sales  \\\n",
       "0       60101 2012-05-28 2012-05-30    1.32                    2   5.90   \n",
       "1       98221 2010-07-07 2010-07-08    4.56                    4  13.01   \n",
       "\n",
       "  Order ID  year month day  \n",
       "0    88525  2012     5  28  \n",
       "1    88522  2010     7   7  \n",
       "\n",
       "[2 rows x 27 columns]"
      ]
     },
     "execution_count": 190,
     "metadata": {},
     "output_type": "execute_result"
    }
   ],
   "source": [
    "store.head(2)"
   ]
  },
  {
   "cell_type": "code",
   "execution_count": 191,
   "id": "b7b8bff4",
   "metadata": {},
   "outputs": [
    {
     "data": {
      "text/plain": [
       "year\n",
       "2010    1924332.88\n",
       "2011    1944507.43\n",
       "2012    2230731.18\n",
       "2013    2852359.83\n",
       "Name: Sales, dtype: float64"
      ]
     },
     "execution_count": 191,
     "metadata": {},
     "output_type": "execute_result"
    }
   ],
   "source": [
    "## I want toknow year wise sales of this company\n",
    "store.groupby('year')['Sales'].sum()"
   ]
  },
  {
   "cell_type": "code",
   "execution_count": 192,
   "id": "d2faa576",
   "metadata": {},
   "outputs": [
    {
     "data": {
      "text/plain": [
       "<AxesSubplot:xlabel='year'>"
      ]
     },
     "execution_count": 192,
     "metadata": {},
     "output_type": "execute_result"
    },
    {
     "data": {
      "image/png": "[encoded data removed]",
      "text/plain": [
       "<Figure size 432x288 with 1 Axes>"
      ]
     },
     "metadata": {
      "needs_background": "light"
     },
     "output_type": "display_data"
    }
   ],
   "source": [
    "store.groupby('year')['Sales'].sum().plot(kind='line')"
   ]
  },
  {
   "cell_type": "code",
   "execution_count": 193,
   "id": "87aa43e6",
   "metadata": {},
   "outputs": [
    {
     "data": {
      "text/plain": [
       "<AxesSubplot:xlabel='month'>"
      ]
     },
     "execution_count": 193,
     "metadata": {},
     "output_type": "execute_result"
    },
    {
     "data": {
      "image/png": "[encoded data removed]",
      "text/plain": [
       "<Figure size 432x288 with 1 Axes>"
      ]
     },
     "metadata": {
      "needs_background": "light"
     },
     "output_type": "display_data"
    }
   ],
   "source": [
    "##Generally in which month of year sales is more??\n",
    "store.groupby('month')['Sales'].sum().plot(kind='line')"
   ]
  },
  {
   "cell_type": "code",
   "execution_count": 194,
   "id": "6c6fd3f6",
   "metadata": {},
   "outputs": [
    {
     "data": {
      "text/plain": [
       "year  month\n",
       "2010  1        139730.46\n",
       "      2        130534.07\n",
       "      3        145615.73\n",
       "      4        130542.99\n",
       "      5         93938.81\n",
       "      6        128304.34\n",
       "      7        135036.46\n",
       "      8        195567.40\n",
       "      9        126080.94\n",
       "      10       259288.96\n",
       "      11       212633.26\n",
       "      12       227059.46\n",
       "2011  1        115144.93\n",
       "      2         97745.88\n",
       "      3         59156.74\n",
       "      4         74669.67\n",
       "      5        146157.01\n",
       "      6        116518.61\n",
       "      7        116243.48\n",
       "      8        118415.92\n",
       "      9        311721.65\n",
       "      10       245237.67\n",
       "      11       323051.27\n",
       "      12       220444.60\n",
       "2012  1         96276.63\n",
       "      2         95216.72\n",
       "      3        102573.76\n",
       "      4        129869.08\n",
       "      5        152760.30\n",
       "      6        145649.68\n",
       "      7        158228.96\n",
       "      8        150146.13\n",
       "      9        199804.18\n",
       "      10       199429.54\n",
       "      11       520100.41\n",
       "      12       280675.79\n",
       "2013  1        215229.21\n",
       "      2        149129.00\n",
       "      3        171790.95\n",
       "      4        143738.82\n",
       "      5        218862.15\n",
       "      6        155990.53\n",
       "      7        166914.92\n",
       "      8        288185.07\n",
       "      9        267567.24\n",
       "      10       378211.99\n",
       "      11       375129.18\n",
       "      12       321610.77\n",
       "Name: Sales, dtype: float64"
      ]
     },
     "execution_count": 194,
     "metadata": {},
     "output_type": "execute_result"
    }
   ],
   "source": [
    "## Is the november sales is high across all the years??\n",
    "year_wise=store.groupby(['year','month'])['Sales'].sum()\n",
    "year_wise"
   ]
  },
  {
   "cell_type": "code",
   "execution_count": 195,
   "id": "7564a24b",
   "metadata": {},
   "outputs": [
    {
     "data": {
      "text/html": [
       "<div>\n",
       "<style scoped>\n",
       "    .dataframe tbody tr th:only-of-type {\n",
       "        vertical-align: middle;\n",
       "    }\n",
       "\n",
       "    .dataframe tbody tr th {\n",
       "        vertical-align: top;\n",
       "    }\n",
       "\n",
       "    .dataframe thead th {\n",
       "        text-align: right;\n",
       "    }\n",
       "</style>\n",
       "<table border=\"1\" class=\"dataframe\">\n",
       "  <thead>\n",
       "    <tr style=\"text-align: right;\">\n",
       "      <th></th>\n",
       "      <th>year</th>\n",
       "      <th>month</th>\n",
       "      <th>Sales</th>\n",
       "    </tr>\n",
       "  </thead>\n",
       "  <tbody>\n",
       "    <tr>\n",
       "      <th>0</th>\n",
       "      <td>2010</td>\n",
       "      <td>1</td>\n",
       "      <td>139730.46</td>\n",
       "    </tr>\n",
       "    <tr>\n",
       "      <th>1</th>\n",
       "      <td>2010</td>\n",
       "      <td>2</td>\n",
       "      <td>130534.07</td>\n",
       "    </tr>\n",
       "    <tr>\n",
       "      <th>2</th>\n",
       "      <td>2010</td>\n",
       "      <td>3</td>\n",
       "      <td>145615.73</td>\n",
       "    </tr>\n",
       "    <tr>\n",
       "      <th>3</th>\n",
       "      <td>2010</td>\n",
       "      <td>4</td>\n",
       "      <td>130542.99</td>\n",
       "    </tr>\n",
       "    <tr>\n",
       "      <th>4</th>\n",
       "      <td>2010</td>\n",
       "      <td>5</td>\n",
       "      <td>93938.81</td>\n",
       "    </tr>\n",
       "    <tr>\n",
       "      <th>5</th>\n",
       "      <td>2010</td>\n",
       "      <td>6</td>\n",
       "      <td>128304.34</td>\n",
       "    </tr>\n",
       "    <tr>\n",
       "      <th>6</th>\n",
       "      <td>2010</td>\n",
       "      <td>7</td>\n",
       "      <td>135036.46</td>\n",
       "    </tr>\n",
       "    <tr>\n",
       "      <th>7</th>\n",
       "      <td>2010</td>\n",
       "      <td>8</td>\n",
       "      <td>195567.40</td>\n",
       "    </tr>\n",
       "    <tr>\n",
       "      <th>8</th>\n",
       "      <td>2010</td>\n",
       "      <td>9</td>\n",
       "      <td>126080.94</td>\n",
       "    </tr>\n",
       "    <tr>\n",
       "      <th>9</th>\n",
       "      <td>2010</td>\n",
       "      <td>10</td>\n",
       "      <td>259288.96</td>\n",
       "    </tr>\n",
       "    <tr>\n",
       "      <th>10</th>\n",
       "      <td>2010</td>\n",
       "      <td>11</td>\n",
       "      <td>212633.26</td>\n",
       "    </tr>\n",
       "    <tr>\n",
       "      <th>11</th>\n",
       "      <td>2010</td>\n",
       "      <td>12</td>\n",
       "      <td>227059.46</td>\n",
       "    </tr>\n",
       "    <tr>\n",
       "      <th>12</th>\n",
       "      <td>2011</td>\n",
       "      <td>1</td>\n",
       "      <td>115144.93</td>\n",
       "    </tr>\n",
       "    <tr>\n",
       "      <th>13</th>\n",
       "      <td>2011</td>\n",
       "      <td>2</td>\n",
       "      <td>97745.88</td>\n",
       "    </tr>\n",
       "    <tr>\n",
       "      <th>14</th>\n",
       "      <td>2011</td>\n",
       "      <td>3</td>\n",
       "      <td>59156.74</td>\n",
       "    </tr>\n",
       "    <tr>\n",
       "      <th>15</th>\n",
       "      <td>2011</td>\n",
       "      <td>4</td>\n",
       "      <td>74669.67</td>\n",
       "    </tr>\n",
       "    <tr>\n",
       "      <th>16</th>\n",
       "      <td>2011</td>\n",
       "      <td>5</td>\n",
       "      <td>146157.01</td>\n",
       "    </tr>\n",
       "    <tr>\n",
       "      <th>17</th>\n",
       "      <td>2011</td>\n",
       "      <td>6</td>\n",
       "      <td>116518.61</td>\n",
       "    </tr>\n",
       "    <tr>\n",
       "      <th>18</th>\n",
       "      <td>2011</td>\n",
       "      <td>7</td>\n",
       "      <td>116243.48</td>\n",
       "    </tr>\n",
       "    <tr>\n",
       "      <th>19</th>\n",
       "      <td>2011</td>\n",
       "      <td>8</td>\n",
       "      <td>118415.92</td>\n",
       "    </tr>\n",
       "    <tr>\n",
       "      <th>20</th>\n",
       "      <td>2011</td>\n",
       "      <td>9</td>\n",
       "      <td>311721.65</td>\n",
       "    </tr>\n",
       "    <tr>\n",
       "      <th>21</th>\n",
       "      <td>2011</td>\n",
       "      <td>10</td>\n",
       "      <td>245237.67</td>\n",
       "    </tr>\n",
       "    <tr>\n",
       "      <th>22</th>\n",
       "      <td>2011</td>\n",
       "      <td>11</td>\n",
       "      <td>323051.27</td>\n",
       "    </tr>\n",
       "    <tr>\n",
       "      <th>23</th>\n",
       "      <td>2011</td>\n",
       "      <td>12</td>\n",
       "      <td>220444.60</td>\n",
       "    </tr>\n",
       "    <tr>\n",
       "      <th>24</th>\n",
       "      <td>2012</td>\n",
       "      <td>1</td>\n",
       "      <td>96276.63</td>\n",
       "    </tr>\n",
       "    <tr>\n",
       "      <th>25</th>\n",
       "      <td>2012</td>\n",
       "      <td>2</td>\n",
       "      <td>95216.72</td>\n",
       "    </tr>\n",
       "    <tr>\n",
       "      <th>26</th>\n",
       "      <td>2012</td>\n",
       "      <td>3</td>\n",
       "      <td>102573.76</td>\n",
       "    </tr>\n",
       "    <tr>\n",
       "      <th>27</th>\n",
       "      <td>2012</td>\n",
       "      <td>4</td>\n",
       "      <td>129869.08</td>\n",
       "    </tr>\n",
       "    <tr>\n",
       "      <th>28</th>\n",
       "      <td>2012</td>\n",
       "      <td>5</td>\n",
       "      <td>152760.30</td>\n",
       "    </tr>\n",
       "    <tr>\n",
       "      <th>29</th>\n",
       "      <td>2012</td>\n",
       "      <td>6</td>\n",
       "      <td>145649.68</td>\n",
       "    </tr>\n",
       "    <tr>\n",
       "      <th>30</th>\n",
       "      <td>2012</td>\n",
       "      <td>7</td>\n",
       "      <td>158228.96</td>\n",
       "    </tr>\n",
       "    <tr>\n",
       "      <th>31</th>\n",
       "      <td>2012</td>\n",
       "      <td>8</td>\n",
       "      <td>150146.13</td>\n",
       "    </tr>\n",
       "    <tr>\n",
       "      <th>32</th>\n",
       "      <td>2012</td>\n",
       "      <td>9</td>\n",
       "      <td>199804.18</td>\n",
       "    </tr>\n",
       "    <tr>\n",
       "      <th>33</th>\n",
       "      <td>2012</td>\n",
       "      <td>10</td>\n",
       "      <td>199429.54</td>\n",
       "    </tr>\n",
       "    <tr>\n",
       "      <th>34</th>\n",
       "      <td>2012</td>\n",
       "      <td>11</td>\n",
       "      <td>520100.41</td>\n",
       "    </tr>\n",
       "    <tr>\n",
       "      <th>35</th>\n",
       "      <td>2012</td>\n",
       "      <td>12</td>\n",
       "      <td>280675.79</td>\n",
       "    </tr>\n",
       "    <tr>\n",
       "      <th>36</th>\n",
       "      <td>2013</td>\n",
       "      <td>1</td>\n",
       "      <td>215229.21</td>\n",
       "    </tr>\n",
       "    <tr>\n",
       "      <th>37</th>\n",
       "      <td>2013</td>\n",
       "      <td>2</td>\n",
       "      <td>149129.00</td>\n",
       "    </tr>\n",
       "    <tr>\n",
       "      <th>38</th>\n",
       "      <td>2013</td>\n",
       "      <td>3</td>\n",
       "      <td>171790.95</td>\n",
       "    </tr>\n",
       "    <tr>\n",
       "      <th>39</th>\n",
       "      <td>2013</td>\n",
       "      <td>4</td>\n",
       "      <td>143738.82</td>\n",
       "    </tr>\n",
       "    <tr>\n",
       "      <th>40</th>\n",
       "      <td>2013</td>\n",
       "      <td>5</td>\n",
       "      <td>218862.15</td>\n",
       "    </tr>\n",
       "    <tr>\n",
       "      <th>41</th>\n",
       "      <td>2013</td>\n",
       "      <td>6</td>\n",
       "      <td>155990.53</td>\n",
       "    </tr>\n",
       "    <tr>\n",
       "      <th>42</th>\n",
       "      <td>2013</td>\n",
       "      <td>7</td>\n",
       "      <td>166914.92</td>\n",
       "    </tr>\n",
       "    <tr>\n",
       "      <th>43</th>\n",
       "      <td>2013</td>\n",
       "      <td>8</td>\n",
       "      <td>288185.07</td>\n",
       "    </tr>\n",
       "    <tr>\n",
       "      <th>44</th>\n",
       "      <td>2013</td>\n",
       "      <td>9</td>\n",
       "      <td>267567.24</td>\n",
       "    </tr>\n",
       "    <tr>\n",
       "      <th>45</th>\n",
       "      <td>2013</td>\n",
       "      <td>10</td>\n",
       "      <td>378211.99</td>\n",
       "    </tr>\n",
       "    <tr>\n",
       "      <th>46</th>\n",
       "      <td>2013</td>\n",
       "      <td>11</td>\n",
       "      <td>375129.18</td>\n",
       "    </tr>\n",
       "    <tr>\n",
       "      <th>47</th>\n",
       "      <td>2013</td>\n",
       "      <td>12</td>\n",
       "      <td>321610.77</td>\n",
       "    </tr>\n",
       "  </tbody>\n",
       "</table>\n",
       "</div>"
      ],
      "text/plain": [
       "    year  month      Sales\n",
       "0   2010      1  139730.46\n",
       "1   2010      2  130534.07\n",
       "2   2010      3  145615.73\n",
       "3   2010      4  130542.99\n",
       "4   2010      5   93938.81\n",
       "5   2010      6  128304.34\n",
       "6   2010      7  135036.46\n",
       "7   2010      8  195567.40\n",
       "8   2010      9  126080.94\n",
       "9   2010     10  259288.96\n",
       "10  2010     11  212633.26\n",
       "11  2010     12  227059.46\n",
       "12  2011      1  115144.93\n",
       "13  2011      2   97745.88\n",
       "14  2011      3   59156.74\n",
       "15  2011      4   74669.67\n",
       "16  2011      5  146157.01\n",
       "17  2011      6  116518.61\n",
       "18  2011      7  116243.48\n",
       "19  2011      8  118415.92\n",
       "20  2011      9  311721.65\n",
       "21  2011     10  245237.67\n",
       "22  2011     11  323051.27\n",
       "23  2011     12  220444.60\n",
       "24  2012      1   96276.63\n",
       "25  2012      2   95216.72\n",
       "26  2012      3  102573.76\n",
       "27  2012      4  129869.08\n",
       "28  2012      5  152760.30\n",
       "29  2012      6  145649.68\n",
       "30  2012      7  158228.96\n",
       "31  2012      8  150146.13\n",
       "32  2012      9  199804.18\n",
       "33  2012     10  199429.54\n",
       "34  2012     11  520100.41\n",
       "35  2012     12  280675.79\n",
       "36  2013      1  215229.21\n",
       "37  2013      2  149129.00\n",
       "38  2013      3  171790.95\n",
       "39  2013      4  143738.82\n",
       "40  2013      5  218862.15\n",
       "41  2013      6  155990.53\n",
       "42  2013      7  166914.92\n",
       "43  2013      8  288185.07\n",
       "44  2013      9  267567.24\n",
       "45  2013     10  378211.99\n",
       "46  2013     11  375129.18\n",
       "47  2013     12  321610.77"
      ]
     },
     "execution_count": 195,
     "metadata": {},
     "output_type": "execute_result"
    }
   ],
   "source": [
    "year_wise.reset_index()"
   ]
  },
  {
   "cell_type": "code",
   "execution_count": 196,
   "id": "939ebe4b",
   "metadata": {},
   "outputs": [],
   "source": [
    "## What is the average sale of each and every day in a week\n",
    "store['Weekday']=store['Order Date'].dt.day_name()"
   ]
  },
  {
   "cell_type": "code",
   "execution_count": 197,
   "id": "c1f9f67f",
   "metadata": {},
   "outputs": [
    {
     "data": {
      "text/plain": [
       "Weekday\n",
       "Friday        889.220749\n",
       "Monday       1187.210915\n",
       "Saturday      901.272049\n",
       "Sunday        964.262150\n",
       "Thursday      886.735087\n",
       "Tuesday       871.134221\n",
       "Wednesday     933.466058\n",
       "Name: Sales, dtype: float64"
      ]
     },
     "execution_count": 197,
     "metadata": {},
     "output_type": "execute_result"
    }
   ],
   "source": [
    "store.groupby('Weekday')['Sales'].mean()"
   ]
  },
  {
   "cell_type": "code",
   "execution_count": 198,
   "id": "44e4a6f0",
   "metadata": {},
   "outputs": [
    {
     "data": {
      "text/html": [
       "<div>\n",
       "<style scoped>\n",
       "    .dataframe tbody tr th:only-of-type {\n",
       "        vertical-align: middle;\n",
       "    }\n",
       "\n",
       "    .dataframe tbody tr th {\n",
       "        vertical-align: top;\n",
       "    }\n",
       "\n",
       "    .dataframe thead th {\n",
       "        text-align: right;\n",
       "    }\n",
       "</style>\n",
       "<table border=\"1\" class=\"dataframe\">\n",
       "  <thead>\n",
       "    <tr style=\"text-align: right;\">\n",
       "      <th>Outlet_Size</th>\n",
       "      <th>High</th>\n",
       "      <th>Medium</th>\n",
       "      <th>Small</th>\n",
       "    </tr>\n",
       "    <tr>\n",
       "      <th>Item_Type</th>\n",
       "      <th></th>\n",
       "      <th></th>\n",
       "      <th></th>\n",
       "    </tr>\n",
       "  </thead>\n",
       "  <tbody>\n",
       "    <tr>\n",
       "      <th>Baking Goods</th>\n",
       "      <td>73</td>\n",
       "      <td>203</td>\n",
       "      <td>187</td>\n",
       "    </tr>\n",
       "    <tr>\n",
       "      <th>Breads</th>\n",
       "      <td>25</td>\n",
       "      <td>83</td>\n",
       "      <td>71</td>\n",
       "    </tr>\n",
       "    <tr>\n",
       "      <th>Breakfast</th>\n",
       "      <td>13</td>\n",
       "      <td>36</td>\n",
       "      <td>30</td>\n",
       "    </tr>\n",
       "    <tr>\n",
       "      <th>Canned</th>\n",
       "      <td>65</td>\n",
       "      <td>217</td>\n",
       "      <td>189</td>\n",
       "    </tr>\n",
       "    <tr>\n",
       "      <th>Dairy</th>\n",
       "      <td>80</td>\n",
       "      <td>218</td>\n",
       "      <td>198</td>\n",
       "    </tr>\n",
       "    <tr>\n",
       "      <th>Frozen Foods</th>\n",
       "      <td>92</td>\n",
       "      <td>274</td>\n",
       "      <td>249</td>\n",
       "    </tr>\n",
       "    <tr>\n",
       "      <th>Fruits and Vegetables</th>\n",
       "      <td>142</td>\n",
       "      <td>413</td>\n",
       "      <td>328</td>\n",
       "    </tr>\n",
       "    <tr>\n",
       "      <th>Hard Drinks</th>\n",
       "      <td>23</td>\n",
       "      <td>75</td>\n",
       "      <td>50</td>\n",
       "    </tr>\n",
       "    <tr>\n",
       "      <th>Health and Hygiene</th>\n",
       "      <td>61</td>\n",
       "      <td>170</td>\n",
       "      <td>136</td>\n",
       "    </tr>\n",
       "    <tr>\n",
       "      <th>Household</th>\n",
       "      <td>103</td>\n",
       "      <td>289</td>\n",
       "      <td>257</td>\n",
       "    </tr>\n",
       "    <tr>\n",
       "      <th>Meat</th>\n",
       "      <td>41</td>\n",
       "      <td>149</td>\n",
       "      <td>119</td>\n",
       "    </tr>\n",
       "    <tr>\n",
       "      <th>Others</th>\n",
       "      <td>16</td>\n",
       "      <td>52</td>\n",
       "      <td>55</td>\n",
       "    </tr>\n",
       "    <tr>\n",
       "      <th>Seafood</th>\n",
       "      <td>5</td>\n",
       "      <td>21</td>\n",
       "      <td>20</td>\n",
       "    </tr>\n",
       "    <tr>\n",
       "      <th>Snack Foods</th>\n",
       "      <td>125</td>\n",
       "      <td>408</td>\n",
       "      <td>335</td>\n",
       "    </tr>\n",
       "    <tr>\n",
       "      <th>Soft Drinks</th>\n",
       "      <td>49</td>\n",
       "      <td>137</td>\n",
       "      <td>126</td>\n",
       "    </tr>\n",
       "    <tr>\n",
       "      <th>Starchy Foods</th>\n",
       "      <td>19</td>\n",
       "      <td>48</td>\n",
       "      <td>38</td>\n",
       "    </tr>\n",
       "  </tbody>\n",
       "</table>\n",
       "</div>"
      ],
      "text/plain": [
       "Outlet_Size            High  Medium  Small\n",
       "Item_Type                                 \n",
       "Baking Goods             73     203    187\n",
       "Breads                   25      83     71\n",
       "Breakfast                13      36     30\n",
       "Canned                   65     217    189\n",
       "Dairy                    80     218    198\n",
       "Frozen Foods             92     274    249\n",
       "Fruits and Vegetables   142     413    328\n",
       "Hard Drinks              23      75     50\n",
       "Health and Hygiene       61     170    136\n",
       "Household               103     289    257\n",
       "Meat                     41     149    119\n",
       "Others                   16      52     55\n",
       "Seafood                   5      21     20\n",
       "Snack Foods             125     408    335\n",
       "Soft Drinks              49     137    126\n",
       "Starchy Foods            19      48     38"
      ]
     },
     "execution_count": 198,
     "metadata": {},
     "output_type": "execute_result"
    }
   ],
   "source": [
    "## In the market data, I want to know the relation between Item_type and Outlet_Size\n",
    "pd.crosstab(market_data['Item_Type'],market_data['Outlet_Size'])"
   ]
  },
  {
   "cell_type": "code",
   "execution_count": 199,
   "id": "7a3d4a84",
   "metadata": {},
   "outputs": [],
   "source": [
    "tab=pd.crosstab(market_data['Item_Type'],market_data['Outlet_Size'])/market_data['Outlet_Size'].value_counts()*100"
   ]
  },
  {
   "cell_type": "code",
   "execution_count": 200,
   "id": "87f10fcf",
   "metadata": {},
   "outputs": [
    {
     "data": {
      "text/plain": [
       "<AxesSubplot:xlabel='Item_Type'>"
      ]
     },
     "execution_count": 200,
     "metadata": {},
     "output_type": "execute_result"
    },
    {
     "data": {
      "image/png": "[encoded data removed]",
      "text/plain": [
       "<Figure size 432x288 with 1 Axes>"
      ]
     },
     "metadata": {
      "needs_background": "light"
     },
     "output_type": "display_data"
    }
   ],
   "source": [
    "tab.plot(kind='bar')  ##grouped bar chart"
   ]
  },
  {
   "cell_type": "code",
   "execution_count": 201,
   "id": "ac50df0f",
   "metadata": {},
   "outputs": [
    {
     "data": {
      "text/plain": [
       "<AxesSubplot:xlabel='Item_Type'>"
      ]
     },
     "execution_count": 201,
     "metadata": {},
     "output_type": "execute_result"
    },
    {
     "data": {
      "image/png": "[encoded data removed]",
      "text/plain": [
       "<Figure size 432x288 with 1 Axes>"
      ]
     },
     "metadata": {
      "needs_background": "light"
     },
     "output_type": "display_data"
    }
   ],
   "source": [
    "tab.plot(kind='bar',stacked=True)"
   ]
  },
  {
   "cell_type": "code",
   "execution_count": 202,
   "id": "0527ed0c",
   "metadata": {},
   "outputs": [
    {
     "data": {
      "text/plain": [
       "<matplotlib.legend.Legend at 0x1577c9e0760>"
      ]
     },
     "execution_count": 202,
     "metadata": {},
     "output_type": "execute_result"
    },
    {
     "data": {
      "image/png": "[encoded data removed]",
      "text/plain": [
       "<Figure size 432x288 with 1 Axes>"
      ]
     },
     "metadata": {
      "needs_background": "light"
     },
     "output_type": "display_data"
    }
   ],
   "source": [
    "(tab.T).plot(kind='bar',stacked=True)\n",
    "##plt.legend(loc='best')\n",
    "plt.legend(framealpha=0.1,bbox_to_anchor=(1,0,0,1))"
   ]
  },
  {
   "cell_type": "code",
   "execution_count": 203,
   "id": "4172d8ac",
   "metadata": {},
   "outputs": [],
   "source": [
    "x=np.linspace(0,20,100)"
   ]
  },
  {
   "cell_type": "code",
   "execution_count": 204,
   "id": "d6bb798e",
   "metadata": {},
   "outputs": [],
   "source": [
    "y=np.sin(x)"
   ]
  },
  {
   "cell_type": "code",
   "execution_count": 205,
   "id": "aa4dc9c0",
   "metadata": {},
   "outputs": [
    {
     "data": {
      "text/plain": [
       "[<matplotlib.lines.Line2D at 0x1570558a070>]"
      ]
     },
     "execution_count": 205,
     "metadata": {},
     "output_type": "execute_result"
    },
    {
     "data": {
      "image/png": "[encoded data removed]",
      "text/plain": [
       "<Figure size 432x288 with 1 Axes>"
      ]
     },
     "metadata": {
      "needs_background": "light"
     },
     "output_type": "display_data"
    }
   ],
   "source": [
    "plt.plot(x,y)"
   ]
  },
  {
   "cell_type": "code",
   "execution_count": 206,
   "id": "b4273ba6",
   "metadata": {},
   "outputs": [],
   "source": [
    "y1=np.exp(2*x)"
   ]
  },
  {
   "cell_type": "code",
   "execution_count": 207,
   "id": "d9de160f",
   "metadata": {},
   "outputs": [
    {
     "data": {
      "text/plain": [
       "[<matplotlib.lines.Line2D at 0x157055e76a0>]"
      ]
     },
     "execution_count": 207,
     "metadata": {},
     "output_type": "execute_result"
    },
    {
     "data": {
      "image/png": "[encoded data removed]",
      "text/plain": [
       "<Figure size 432x288 with 1 Axes>"
      ]
     },
     "metadata": {
      "needs_background": "light"
     },
     "output_type": "display_data"
    }
   ],
   "source": [
    "plt.plot(x,y1)"
   ]
  },
  {
   "cell_type": "code",
   "execution_count": 208,
   "id": "c9c36e33",
   "metadata": {},
   "outputs": [
    {
     "data": {
      "text/plain": [
       "<matplotlib.legend.Legend at 0x15779541d00>"
      ]
     },
     "execution_count": 208,
     "metadata": {},
     "output_type": "execute_result"
    },
    {
     "data": {
      "image/png": "[encoded data removed]",
      "text/plain": [
       "<Figure size 432x288 with 1 Axes>"
      ]
     },
     "metadata": {
      "needs_background": "light"
     },
     "output_type": "display_data"
    }
   ],
   "source": [
    "plt.plot(x,y,label='sine')\n",
    "plt.plot(x,y1,label='exp')\n",
    "plt.legend()"
   ]
  },
  {
   "cell_type": "code",
   "execution_count": 209,
   "id": "b8b5e360",
   "metadata": {},
   "outputs": [
    {
     "data": {
      "text/plain": [
       "[<matplotlib.lines.Line2D at 0x157056dfbe0>]"
      ]
     },
     "execution_count": 209,
     "metadata": {},
     "output_type": "execute_result"
    },
    {
     "data": {
      "image/png": "[encoded data removed]",
      "text/plain": [
       "<Figure size 432x288 with 2 Axes>"
      ]
     },
     "metadata": {
      "needs_background": "light"
     },
     "output_type": "display_data"
    }
   ],
   "source": [
    "#twin axis\n",
    "fig,ax1=plt.subplots()\n",
    "ax1.plot(x,y)\n",
    "ax2=ax1.twinx()\n",
    "ax2.plot(x,y1,color='red')"
   ]
  },
  {
   "cell_type": "code",
   "execution_count": 210,
   "id": "b4c06f9c",
   "metadata": {},
   "outputs": [
    {
     "data": {
      "text/plain": [
       "Text(0.5, 1.0, 'exp decreasing ')"
      ]
     },
     "execution_count": 210,
     "metadata": {},
     "output_type": "execute_result"
    },
    {
     "data": {
      "image/png": "[encoded data removed]",
      "text/plain": [
       "<Figure size 432x288 with 4 Axes>"
      ]
     },
     "metadata": {
      "needs_background": "light"
     },
     "output_type": "display_data"
    }
   ],
   "source": [
    "plt.figsize=(20,15)\n",
    "plt.subplot(2,2,1)\n",
    "plt.plot(x,y)                          #2 plots parallely\n",
    "plt.title('sine wave')\n",
    "plt.subplot(2,2,2)\n",
    "plt.plot(x,y1)\n",
    "plt.title('exponentially increasing ')\n",
    "plt.subplot(2,2,3)\n",
    "plt.plot(x,np.cos(x))\n",
    "plt.title('cosine wave')\n",
    "plt.subplot(2,2,4)\n",
    "plt.plot(x,np.exp(-2*x))\n",
    "plt.title('exp decreasing ')"
   ]
  },
  {
   "cell_type": "code",
   "execution_count": 211,
   "id": "ad9f55db",
   "metadata": {},
   "outputs": [
    {
     "data": {
      "text/plain": [
       "Index(['Item_Identifier', 'Item_Weight', 'Item_Fat_Content', 'Item_Visibility',\n",
       "       'Item_Type', 'Item_MRP', 'Outlet_Identifier',\n",
       "       'Outlet_Establishment_Year', 'Outlet_Size', 'Outlet_Location_Type',\n",
       "       'Outlet_Type', 'Item_Outlet_Sales', 'Profit'],\n",
       "      dtype='object')"
      ]
     },
     "execution_count": 211,
     "metadata": {},
     "output_type": "execute_result"
    }
   ],
   "source": [
    "market_data.columns"
   ]
  },
  {
   "cell_type": "code",
   "execution_count": 212,
   "id": "16bc8bbe",
   "metadata": {},
   "outputs": [
    {
     "name": "stderr",
     "output_type": "stream",
     "text": [
      "C:\\Users\\lash7\\anaconda3\\lib\\site-packages\\seaborn\\_decorators.py:36: FutureWarning: Pass the following variables as keyword args: x, y. From version 0.12, the only valid positional argument will be `data`, and passing other arguments without an explicit keyword will result in an error or misinterpretation.\n",
      "  warnings.warn(\n"
     ]
    },
    {
     "data": {
      "text/plain": [
       "<AxesSubplot:xlabel='Item_Fat_Content', ylabel='Item_Outlet_Sales'>"
      ]
     },
     "execution_count": 212,
     "metadata": {},
     "output_type": "execute_result"
    },
    {
     "data": {
      "image/png": "[encoded data removed]",
      "text/plain": [
       "<Figure size 432x288 with 1 Axes>"
      ]
     },
     "metadata": {
      "needs_background": "light"
     },
     "output_type": "display_data"
    }
   ],
   "source": [
    "sb.stripplot(market_data['Item_Fat_Content'],market_data['Item_Outlet_Sales'])"
   ]
  },
  {
   "cell_type": "code",
   "execution_count": 214,
   "id": "6bdf32eb",
   "metadata": {},
   "outputs": [
    {
     "name": "stderr",
     "output_type": "stream",
     "text": [
      "C:\\Users\\lash7\\anaconda3\\lib\\site-packages\\seaborn\\_decorators.py:36: FutureWarning: Pass the following variables as keyword args: x, y. From version 0.12, the only valid positional argument will be `data`, and passing other arguments without an explicit keyword will result in an error or misinterpretation.\n",
      "  warnings.warn(\n",
      "C:\\Users\\lash7\\anaconda3\\lib\\site-packages\\seaborn\\categorical.py:1296: UserWarning: 87.5% of the points cannot be placed; you may want to decrease the size of the markers or use stripplot.\n",
      "  warnings.warn(msg, UserWarning)\n",
      "C:\\Users\\lash7\\anaconda3\\lib\\site-packages\\seaborn\\categorical.py:1296: UserWarning: 83.3% of the points cannot be placed; you may want to decrease the size of the markers or use stripplot.\n",
      "  warnings.warn(msg, UserWarning)\n",
      "C:\\Users\\lash7\\anaconda3\\lib\\site-packages\\seaborn\\categorical.py:1296: UserWarning: 85.7% of the points cannot be placed; you may want to decrease the size of the markers or use stripplot.\n",
      "  warnings.warn(msg, UserWarning)\n",
      "C:\\Users\\lash7\\anaconda3\\lib\\site-packages\\seaborn\\categorical.py:1296: UserWarning: 66.7% of the points cannot be placed; you may want to decrease the size of the markers or use stripplot.\n",
      "  warnings.warn(msg, UserWarning)\n",
      "C:\\Users\\lash7\\anaconda3\\lib\\site-packages\\seaborn\\categorical.py:1296: UserWarning: 80.0% of the points cannot be placed; you may want to decrease the size of the markers or use stripplot.\n",
      "  warnings.warn(msg, UserWarning)\n",
      "C:\\Users\\lash7\\anaconda3\\lib\\site-packages\\seaborn\\categorical.py:1296: UserWarning: 75.0% of the points cannot be placed; you may want to decrease the size of the markers or use stripplot.\n",
      "  warnings.warn(msg, UserWarning)\n",
      "C:\\Users\\lash7\\anaconda3\\lib\\site-packages\\seaborn\\categorical.py:1296: UserWarning: 88.9% of the points cannot be placed; you may want to decrease the size of the markers or use stripplot.\n",
      "  warnings.warn(msg, UserWarning)\n",
      "C:\\Users\\lash7\\anaconda3\\lib\\site-packages\\seaborn\\categorical.py:1296: UserWarning: 33.3% of the points cannot be placed; you may want to decrease the size of the markers or use stripplot.\n",
      "  warnings.warn(msg, UserWarning)\n",
      "C:\\Users\\lash7\\anaconda3\\lib\\site-packages\\seaborn\\categorical.py:1296: UserWarning: 71.4% of the points cannot be placed; you may want to decrease the size of the markers or use stripplot.\n",
      "  warnings.warn(msg, UserWarning)\n",
      "C:\\Users\\lash7\\anaconda3\\lib\\site-packages\\seaborn\\categorical.py:1296: UserWarning: 90.0% of the points cannot be placed; you may want to decrease the size of the markers or use stripplot.\n",
      "  warnings.warn(msg, UserWarning)\n",
      "C:\\Users\\lash7\\anaconda3\\lib\\site-packages\\seaborn\\categorical.py:1296: UserWarning: 50.0% of the points cannot be placed; you may want to decrease the size of the markers or use stripplot.\n",
      "  warnings.warn(msg, UserWarning)\n",
      "C:\\Users\\lash7\\anaconda3\\lib\\site-packages\\seaborn\\categorical.py:1296: UserWarning: 60.0% of the points cannot be placed; you may want to decrease the size of the markers or use stripplot.\n",
      "  warnings.warn(msg, UserWarning)\n"
     ]
    },
    {
     "data": {
      "text/plain": [
       "<AxesSubplot:xlabel='Item_Fat_Content', ylabel='Item_MRP'>"
      ]
     },
     "execution_count": 214,
     "metadata": {},
     "output_type": "execute_result"
    },
    {
     "data": {
      "image/png": "[encoded data removed]",
      "text/plain": [
       "<Figure size 432x288 with 1 Axes>"
      ]
     },
     "metadata": {
      "needs_background": "light"
     },
     "output_type": "display_data"
    }
   ],
   "source": [
    "sb.swarmplot(market_data['Item_Fat_Content'],market_data['Item_MRP'])"
   ]
  },
  {
   "cell_type": "code",
   "execution_count": null,
   "id": "59bb7866",
   "metadata": {},
   "outputs": [],
   "source": []
  }
 ],
 "metadata": {
  "kernelspec": {
   "display_name": "Python 3",
   "language": "python",
   "name": "python3"
  },
  "language_info": {
   "codemirror_mode": {
    "name": "ipython",
    "version": 3
   },
   "file_extension": ".py",
   "mimetype": "text/x-python",
   "name": "python",
   "nbconvert_exporter": "python",
   "pygments_lexer": "ipython3",
   "version": "3.8.8"
  }
 },
 "nbformat": 4,
 "nbformat_minor": 5
}
